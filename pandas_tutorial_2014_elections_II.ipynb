{
 "cells": [
  {
   "cell_type": "markdown",
   "metadata": {},
   "source": [
    "# Pandas Tutorial II\n",
    "\n",
    "### Botswana 2014 General Election Results\n",
    "\n",
    "##### What is pandas? \n",
    "\"pandas is an open source, BSD-licensed library providing high-performance, \n",
    "easy-to-use data structures and data analysis tools for the Python programming language.\" - https://pandas.pydata.org/pandas-docs/stable/overview.html\n",
    "\n",
    "##### And our tutorial? \n",
    "\n",
    "This is an introductory tutorial. We will be using data from Botswana's 2014 General Elections. The data is available in \n",
    "an excel spreadsheet that we will load into pandas for analysis.\n",
    "\n",
    "Have fun!"
   ]
  },
  {
   "cell_type": "markdown",
   "metadata": {},
   "source": [
    "### NOTE\n",
    "\n",
    "The objective of this tutorial to learn pandas as we answer questions. We have already seen a few pandas features and methods so far. We will incrementally build on the methods we have seen to answer more complex questions.\n",
    "\n",
    "Additionally, we will manipulate dataframes to be able to answer some questions."
   ]
  },
  {
   "cell_type": "markdown",
   "metadata": {},
   "source": [
    "**Task:** Import the pandas library as pd."
   ]
  },
  {
   "cell_type": "code",
   "execution_count": 1,
   "metadata": {
    "collapsed": true
   },
   "outputs": [],
   "source": [
    "#Import pandas\n",
    "import pandas as pd"
   ]
  },
  {
   "cell_type": "markdown",
   "metadata": {},
   "source": [
    "### Creating dataframes from CSV files."
   ]
  },
  {
   "cell_type": "markdown",
   "metadata": {},
   "source": [
    "**Task:** Create a **constituency_stats** dataframe from the **constituency_stats.csv** file "
   ]
  },
  {
   "cell_type": "code",
   "execution_count": 2,
   "metadata": {},
   "outputs": [],
   "source": [
    "constituency_stats = pd.read_csv('data/constituency_stats.csv')"
   ]
  },
  {
   "cell_type": "code",
   "execution_count": 3,
   "metadata": {},
   "outputs": [
    {
     "data": {
      "text/html": [
       "<div>\n",
       "<style scoped>\n",
       "    .dataframe tbody tr th:only-of-type {\n",
       "        vertical-align: middle;\n",
       "    }\n",
       "\n",
       "    .dataframe tbody tr th {\n",
       "        vertical-align: top;\n",
       "    }\n",
       "\n",
       "    .dataframe thead th {\n",
       "        text-align: right;\n",
       "    }\n",
       "</style>\n",
       "<table border=\"1\" class=\"dataframe\">\n",
       "  <thead>\n",
       "    <tr style=\"text-align: right;\">\n",
       "      <th></th>\n",
       "      <th>constituency_name</th>\n",
       "      <th>registered_voters</th>\n",
       "      <th>cast_votes</th>\n",
       "      <th>rejected_votes</th>\n",
       "      <th>valid_votes</th>\n",
       "    </tr>\n",
       "  </thead>\n",
       "  <tbody>\n",
       "    <tr>\n",
       "      <th>0</th>\n",
       "      <td>Chobe</td>\n",
       "      <td>8942</td>\n",
       "      <td>7354</td>\n",
       "      <td>74</td>\n",
       "      <td>7280</td>\n",
       "    </tr>\n",
       "    <tr>\n",
       "      <th>1</th>\n",
       "      <td>Maun East</td>\n",
       "      <td>16774</td>\n",
       "      <td>13607</td>\n",
       "      <td>151</td>\n",
       "      <td>13456</td>\n",
       "    </tr>\n",
       "    <tr>\n",
       "      <th>2</th>\n",
       "      <td>Maun West</td>\n",
       "      <td>18329</td>\n",
       "      <td>15100</td>\n",
       "      <td>137</td>\n",
       "      <td>14963</td>\n",
       "    </tr>\n",
       "    <tr>\n",
       "      <th>3</th>\n",
       "      <td>Ngami</td>\n",
       "      <td>18159</td>\n",
       "      <td>15055</td>\n",
       "      <td>175</td>\n",
       "      <td>14880</td>\n",
       "    </tr>\n",
       "    <tr>\n",
       "      <th>4</th>\n",
       "      <td>Okavango</td>\n",
       "      <td>15243</td>\n",
       "      <td>12726</td>\n",
       "      <td>174</td>\n",
       "      <td>12552</td>\n",
       "    </tr>\n",
       "  </tbody>\n",
       "</table>\n",
       "</div>"
      ],
      "text/plain": [
       "  constituency_name  registered_voters  cast_votes  rejected_votes  \\\n",
       "0             Chobe               8942        7354              74   \n",
       "1         Maun East              16774       13607             151   \n",
       "2         Maun West              18329       15100             137   \n",
       "3             Ngami              18159       15055             175   \n",
       "4          Okavango              15243       12726             174   \n",
       "\n",
       "   valid_votes  \n",
       "0         7280  \n",
       "1        13456  \n",
       "2        14963  \n",
       "3        14880  \n",
       "4        12552  "
      ]
     },
     "execution_count": 3,
     "metadata": {},
     "output_type": "execute_result"
    }
   ],
   "source": [
    "constituency_stats.head()"
   ]
  },
  {
   "cell_type": "code",
   "execution_count": 4,
   "metadata": {},
   "outputs": [
    {
     "name": "stdout",
     "output_type": "stream",
     "text": [
      "<class 'pandas.core.frame.DataFrame'>\n",
      "RangeIndex: 57 entries, 0 to 56\n",
      "Data columns (total 5 columns):\n",
      "constituency_name    57 non-null object\n",
      "registered_voters    57 non-null int64\n",
      "cast_votes           57 non-null int64\n",
      "rejected_votes       57 non-null int64\n",
      "valid_votes          57 non-null int64\n",
      "dtypes: int64(4), object(1)\n",
      "memory usage: 2.3+ KB\n"
     ]
    }
   ],
   "source": [
    "constituency_stats.info()"
   ]
  },
  {
   "cell_type": "markdown",
   "metadata": {},
   "source": [
    "**Task:** Create the **candidate_votes** dataframe from the **party_votes.csv** file"
   ]
  },
  {
   "cell_type": "code",
   "execution_count": 5,
   "metadata": {
    "collapsed": true
   },
   "outputs": [],
   "source": [
    "candidate_votes = pd.read_csv('data/candidate_votes.csv')"
   ]
  },
  {
   "cell_type": "code",
   "execution_count": 6,
   "metadata": {},
   "outputs": [
    {
     "data": {
      "text/html": [
       "<div>\n",
       "<style scoped>\n",
       "    .dataframe tbody tr th:only-of-type {\n",
       "        vertical-align: middle;\n",
       "    }\n",
       "\n",
       "    .dataframe tbody tr th {\n",
       "        vertical-align: top;\n",
       "    }\n",
       "\n",
       "    .dataframe thead th {\n",
       "        text-align: right;\n",
       "    }\n",
       "</style>\n",
       "<table border=\"1\" class=\"dataframe\">\n",
       "  <thead>\n",
       "    <tr style=\"text-align: right;\">\n",
       "      <th></th>\n",
       "      <th>constituency_name</th>\n",
       "      <th>candidate_name</th>\n",
       "      <th>party_name</th>\n",
       "      <th>party_votes</th>\n",
       "    </tr>\n",
       "  </thead>\n",
       "  <tbody>\n",
       "    <tr>\n",
       "      <th>0</th>\n",
       "      <td>Chobe</td>\n",
       "      <td>Ronald Machana Shamukuni</td>\n",
       "      <td>BDP</td>\n",
       "      <td>4114</td>\n",
       "    </tr>\n",
       "    <tr>\n",
       "      <th>1</th>\n",
       "      <td>Chobe</td>\n",
       "      <td>Gibson M.R Nshimwe</td>\n",
       "      <td>BCP</td>\n",
       "      <td>3166</td>\n",
       "    </tr>\n",
       "    <tr>\n",
       "      <th>2</th>\n",
       "      <td>Maun East</td>\n",
       "      <td>Konstantinos Markus</td>\n",
       "      <td>BDP</td>\n",
       "      <td>6046</td>\n",
       "    </tr>\n",
       "    <tr>\n",
       "      <th>3</th>\n",
       "      <td>Maun East</td>\n",
       "      <td>Goretetse Kekgonegile</td>\n",
       "      <td>BCP</td>\n",
       "      <td>5304</td>\n",
       "    </tr>\n",
       "    <tr>\n",
       "      <th>4</th>\n",
       "      <td>Maun East</td>\n",
       "      <td>Osimilwe O. Fish</td>\n",
       "      <td>UDC</td>\n",
       "      <td>2062</td>\n",
       "    </tr>\n",
       "  </tbody>\n",
       "</table>\n",
       "</div>"
      ],
      "text/plain": [
       "  constituency_name            candidate_name party_name  party_votes\n",
       "0             Chobe  Ronald Machana Shamukuni        BDP         4114\n",
       "1             Chobe        Gibson M.R Nshimwe        BCP         3166\n",
       "2         Maun East       Konstantinos Markus        BDP         6046\n",
       "3         Maun East     Goretetse Kekgonegile        BCP         5304\n",
       "4         Maun East          Osimilwe O. Fish        UDC         2062"
      ]
     },
     "execution_count": 6,
     "metadata": {},
     "output_type": "execute_result"
    }
   ],
   "source": [
    "candidate_votes.head()"
   ]
  },
  {
   "cell_type": "code",
   "execution_count": 7,
   "metadata": {},
   "outputs": [
    {
     "name": "stdout",
     "output_type": "stream",
     "text": [
      "<class 'pandas.core.frame.DataFrame'>\n",
      "RangeIndex: 192 entries, 0 to 191\n",
      "Data columns (total 4 columns):\n",
      "constituency_name    192 non-null object\n",
      "candidate_name       192 non-null object\n",
      "party_name           192 non-null object\n",
      "party_votes          192 non-null int64\n",
      "dtypes: int64(1), object(3)\n",
      "memory usage: 6.1+ KB\n"
     ]
    }
   ],
   "source": [
    "candidate_votes.info()"
   ]
  },
  {
   "cell_type": "markdown",
   "metadata": {},
   "source": [
    "### Slicing and Subsetting\n",
    "\n",
    "Often we want to work with subsets of a dataframe. We can select these subsets by:\n",
    "\n",
    "- location based indexing\n",
    "- label based indexing\n",
    "- conditional indexing\n",
    "\n",
    "We will use these features to answer many questions in this tutorial."
   ]
  },
  {
   "cell_type": "markdown",
   "metadata": {},
   "source": [
    "**Question 1:** What is the maximum number of 'registered_voters', 'cast_votes', 'rejected_votes', and 'valid_votes' across all constituencies?\n",
    "\n",
    "**Approach:** \n",
    "\n",
    "1. Select the required columns from the dataframe.\n",
    "2. Use the **max()** on appropriate axis direction."
   ]
  },
  {
   "cell_type": "code",
   "execution_count": 9,
   "metadata": {},
   "outputs": [
    {
     "data": {
      "text/plain": [
       "registered_voters    21146\n",
       "cast_votes           18626\n",
       "rejected_votes         411\n",
       "valid_votes          18499\n",
       "dtype: int64"
      ]
     },
     "execution_count": 9,
     "metadata": {},
     "output_type": "execute_result"
    }
   ],
   "source": [
    "#We can get the answers all at once.\n",
    "constituency_stats[['registered_voters', 'cast_votes', 'rejected_votes', 'valid_votes']].max(axis=0)"
   ]
  },
  {
   "cell_type": "markdown",
   "metadata": {},
   "source": [
    "**OR** We can find maximum for each column series"
   ]
  },
  {
   "cell_type": "code",
   "execution_count": 10,
   "metadata": {},
   "outputs": [
    {
     "data": {
      "text/plain": [
       "21146"
      ]
     },
     "execution_count": 10,
     "metadata": {},
     "output_type": "execute_result"
    }
   ],
   "source": [
    "constituency_stats['registered_voters'].max()"
   ]
  },
  {
   "cell_type": "code",
   "execution_count": 11,
   "metadata": {},
   "outputs": [
    {
     "data": {
      "text/plain": [
       "18626"
      ]
     },
     "execution_count": 11,
     "metadata": {},
     "output_type": "execute_result"
    }
   ],
   "source": [
    "constituency_stats['cast_votes'].max()"
   ]
  },
  {
   "cell_type": "markdown",
   "metadata": {},
   "source": [
    "**Question 2:** What are the corresponding constituencies for the maximums above?\n",
    "\n",
    "**Approach:**\n",
    "- Use locational indexing to select rows and columns of interest.\n",
    "- Use **loc()** method and **idxmax()**\n",
    "- Select the 'constituency_name' column **ONLY.**"
   ]
  },
  {
   "cell_type": "code",
   "execution_count": 12,
   "metadata": {},
   "outputs": [
    {
     "data": {
      "text/plain": [
       "'Mochudi West'"
      ]
     },
     "execution_count": 12,
     "metadata": {},
     "output_type": "execute_result"
    }
   ],
   "source": [
    "#Using positional indexing\n",
    "constituency_stats.loc[constituency_stats['registered_voters'].idxmax(), 'constituency_name']"
   ]
  },
  {
   "cell_type": "code",
   "execution_count": 13,
   "metadata": {},
   "outputs": [
    {
     "data": {
      "text/plain": [
       "'Mochudi West'"
      ]
     },
     "execution_count": 13,
     "metadata": {},
     "output_type": "execute_result"
    }
   ],
   "source": [
    "constituency_stats.loc[constituency_stats['cast_votes'].idxmax(), 'constituency_name']"
   ]
  },
  {
   "cell_type": "code",
   "execution_count": 14,
   "metadata": {},
   "outputs": [
    {
     "data": {
      "text/plain": [
       "'Nata-Gweta'"
      ]
     },
     "execution_count": 14,
     "metadata": {},
     "output_type": "execute_result"
    }
   ],
   "source": [
    "constituency_stats.loc[constituency_stats['rejected_votes'].idxmax(), 'constituency_name']"
   ]
  },
  {
   "cell_type": "code",
   "execution_count": 15,
   "metadata": {},
   "outputs": [
    {
     "data": {
      "text/plain": [
       "'Mochudi West'"
      ]
     },
     "execution_count": 15,
     "metadata": {},
     "output_type": "execute_result"
    }
   ],
   "source": [
    "constituency_stats.loc[constituency_stats['valid_votes'].idxmax(), 'constituency_name']"
   ]
  },
  {
   "cell_type": "markdown",
   "metadata": {},
   "source": [
    "**OR** For an alternative solution we can use conditional indexing i.e selecting rows that match a particular criteria."
   ]
  },
  {
   "cell_type": "code",
   "execution_count": 16,
   "metadata": {},
   "outputs": [
    {
     "data": {
      "text/plain": [
       "0     False\n",
       "1     False\n",
       "2     False\n",
       "3     False\n",
       "4     False\n",
       "5     False\n",
       "6     False\n",
       "7     False\n",
       "8     False\n",
       "9     False\n",
       "10     True\n",
       "11    False\n",
       "12    False\n",
       "13    False\n",
       "14    False\n",
       "15    False\n",
       "16    False\n",
       "17    False\n",
       "18    False\n",
       "19    False\n",
       "20    False\n",
       "21    False\n",
       "22    False\n",
       "23    False\n",
       "24    False\n",
       "25    False\n",
       "26    False\n",
       "27    False\n",
       "28    False\n",
       "29    False\n",
       "30    False\n",
       "31    False\n",
       "32    False\n",
       "33    False\n",
       "34    False\n",
       "35    False\n",
       "36    False\n",
       "37    False\n",
       "38    False\n",
       "39    False\n",
       "40    False\n",
       "41    False\n",
       "42    False\n",
       "43    False\n",
       "44    False\n",
       "45    False\n",
       "46    False\n",
       "47    False\n",
       "48    False\n",
       "49    False\n",
       "50    False\n",
       "51    False\n",
       "52    False\n",
       "53    False\n",
       "54    False\n",
       "55    False\n",
       "56    False\n",
       "Name: rejected_votes, dtype: bool"
      ]
     },
     "execution_count": 16,
     "metadata": {},
     "output_type": "execute_result"
    }
   ],
   "source": [
    "constituency_stats.rejected_votes == 411"
   ]
  },
  {
   "cell_type": "markdown",
   "metadata": {},
   "source": [
    "The idea with conditional indexing is to return row over which a condition of interest is **True**. This is true at location index 10. We will use this Boolean series to select the row at index 10 ONLY."
   ]
  },
  {
   "cell_type": "code",
   "execution_count": 17,
   "metadata": {},
   "outputs": [
    {
     "data": {
      "text/plain": [
       "10    Nata-Gweta\n",
       "Name: constituency_name, dtype: object"
      ]
     },
     "execution_count": 17,
     "metadata": {},
     "output_type": "execute_result"
    }
   ],
   "source": [
    "constituency_stats.loc[constituency_stats.rejected_votes == 411, 'constituency_name']"
   ]
  },
  {
   "cell_type": "code",
   "execution_count": 18,
   "metadata": {},
   "outputs": [
    {
     "data": {
      "text/plain": [
       "30    Mochudi West\n",
       "Name: constituency_name, dtype: object"
      ]
     },
     "execution_count": 18,
     "metadata": {},
     "output_type": "execute_result"
    }
   ],
   "source": [
    "constituency_stats[constituency_stats.valid_votes == 18499]['constituency_name']"
   ]
  },
  {
   "cell_type": "code",
   "execution_count": 19,
   "metadata": {},
   "outputs": [
    {
     "data": {
      "text/plain": [
       "30    Mochudi West\n",
       "Name: constituency_name, dtype: object"
      ]
     },
     "execution_count": 19,
     "metadata": {},
     "output_type": "execute_result"
    }
   ],
   "source": [
    "constituency_stats[constituency_stats.registered_voters == 21146]['constituency_name']"
   ]
  },
  {
   "cell_type": "markdown",
   "metadata": {
    "collapsed": true
   },
   "source": [
    "### Applying dataframe methods to dataframe slices and subsets"
   ]
  },
  {
   "cell_type": "markdown",
   "metadata": {
    "collapsed": true
   },
   "source": [
    "**Question 3:** What are the totals for 'registered_voters', 'cast_votes', 'rejected_votes' and 'valid_votes' for all constituencies?"
   ]
  },
  {
   "cell_type": "code",
   "execution_count": 20,
   "metadata": {},
   "outputs": [
    {
     "data": {
      "text/plain": [
       "registered_voters    824073\n",
       "cast_votes           698409\n",
       "rejected_votes         8167\n",
       "valid_votes          690242\n",
       "dtype: int64"
      ]
     },
     "execution_count": 20,
     "metadata": {},
     "output_type": "execute_result"
    }
   ],
   "source": [
    "constituency_stats_totals = constituency_stats[['registered_voters',\n",
    "                'cast_votes', 'rejected_votes', 'valid_votes']].sum()\n",
    "constituency_stats_totals"
   ]
  },
  {
   "cell_type": "code",
   "execution_count": 21,
   "metadata": {},
   "outputs": [
    {
     "data": {
      "text/plain": [
       "698409"
      ]
     },
     "execution_count": 21,
     "metadata": {},
     "output_type": "execute_result"
    }
   ],
   "source": [
    "constituency_stats_totals['cast_votes']"
   ]
  },
  {
   "cell_type": "markdown",
   "metadata": {},
   "source": [
    "**Question 4:** Which constituencies have less than 10000 registered voters? Return all columns of the dataframe that meets this condition."
   ]
  },
  {
   "cell_type": "code",
   "execution_count": 22,
   "metadata": {},
   "outputs": [
    {
     "data": {
      "text/html": [
       "<div>\n",
       "<style scoped>\n",
       "    .dataframe tbody tr th:only-of-type {\n",
       "        vertical-align: middle;\n",
       "    }\n",
       "\n",
       "    .dataframe tbody tr th {\n",
       "        vertical-align: top;\n",
       "    }\n",
       "\n",
       "    .dataframe thead th {\n",
       "        text-align: right;\n",
       "    }\n",
       "</style>\n",
       "<table border=\"1\" class=\"dataframe\">\n",
       "  <thead>\n",
       "    <tr style=\"text-align: right;\">\n",
       "      <th></th>\n",
       "      <th>constituency_name</th>\n",
       "      <th>registered_voters</th>\n",
       "      <th>cast_votes</th>\n",
       "      <th>rejected_votes</th>\n",
       "      <th>valid_votes</th>\n",
       "    </tr>\n",
       "  </thead>\n",
       "  <tbody>\n",
       "    <tr>\n",
       "      <th>0</th>\n",
       "      <td>Chobe</td>\n",
       "      <td>8942</td>\n",
       "      <td>7354</td>\n",
       "      <td>74</td>\n",
       "      <td>7280</td>\n",
       "    </tr>\n",
       "    <tr>\n",
       "      <th>16</th>\n",
       "      <td>Selibe Phikwe East</td>\n",
       "      <td>9732</td>\n",
       "      <td>8361</td>\n",
       "      <td>54</td>\n",
       "      <td>8307</td>\n",
       "    </tr>\n",
       "    <tr>\n",
       "      <th>25</th>\n",
       "      <td>Serowe West</td>\n",
       "      <td>8500</td>\n",
       "      <td>6962</td>\n",
       "      <td>88</td>\n",
       "      <td>6874</td>\n",
       "    </tr>\n",
       "    <tr>\n",
       "      <th>55</th>\n",
       "      <td>Ghanzi North</td>\n",
       "      <td>9156</td>\n",
       "      <td>7772</td>\n",
       "      <td>88</td>\n",
       "      <td>7684</td>\n",
       "    </tr>\n",
       "  </tbody>\n",
       "</table>\n",
       "</div>"
      ],
      "text/plain": [
       "     constituency_name  registered_voters  cast_votes  rejected_votes  \\\n",
       "0                Chobe               8942        7354              74   \n",
       "16  Selibe Phikwe East               9732        8361              54   \n",
       "25         Serowe West               8500        6962              88   \n",
       "55        Ghanzi North               9156        7772              88   \n",
       "\n",
       "    valid_votes  \n",
       "0          7280  \n",
       "16         8307  \n",
       "25         6874  \n",
       "55         7684  "
      ]
     },
     "execution_count": 22,
     "metadata": {},
     "output_type": "execute_result"
    }
   ],
   "source": [
    "constituency_stats[constituency_stats.registered_voters < 10000]"
   ]
  },
  {
   "cell_type": "markdown",
   "metadata": {},
   "source": [
    "**OR**"
   ]
  },
  {
   "cell_type": "code",
   "execution_count": 23,
   "metadata": {},
   "outputs": [
    {
     "data": {
      "text/html": [
       "<div>\n",
       "<style scoped>\n",
       "    .dataframe tbody tr th:only-of-type {\n",
       "        vertical-align: middle;\n",
       "    }\n",
       "\n",
       "    .dataframe tbody tr th {\n",
       "        vertical-align: top;\n",
       "    }\n",
       "\n",
       "    .dataframe thead th {\n",
       "        text-align: right;\n",
       "    }\n",
       "</style>\n",
       "<table border=\"1\" class=\"dataframe\">\n",
       "  <thead>\n",
       "    <tr style=\"text-align: right;\">\n",
       "      <th></th>\n",
       "      <th>constituency_name</th>\n",
       "      <th>registered_voters</th>\n",
       "      <th>cast_votes</th>\n",
       "      <th>rejected_votes</th>\n",
       "      <th>valid_votes</th>\n",
       "    </tr>\n",
       "  </thead>\n",
       "  <tbody>\n",
       "    <tr>\n",
       "      <th>0</th>\n",
       "      <td>Chobe</td>\n",
       "      <td>8942</td>\n",
       "      <td>7354</td>\n",
       "      <td>74</td>\n",
       "      <td>7280</td>\n",
       "    </tr>\n",
       "    <tr>\n",
       "      <th>16</th>\n",
       "      <td>Selibe Phikwe East</td>\n",
       "      <td>9732</td>\n",
       "      <td>8361</td>\n",
       "      <td>54</td>\n",
       "      <td>8307</td>\n",
       "    </tr>\n",
       "    <tr>\n",
       "      <th>25</th>\n",
       "      <td>Serowe West</td>\n",
       "      <td>8500</td>\n",
       "      <td>6962</td>\n",
       "      <td>88</td>\n",
       "      <td>6874</td>\n",
       "    </tr>\n",
       "    <tr>\n",
       "      <th>55</th>\n",
       "      <td>Ghanzi North</td>\n",
       "      <td>9156</td>\n",
       "      <td>7772</td>\n",
       "      <td>88</td>\n",
       "      <td>7684</td>\n",
       "    </tr>\n",
       "  </tbody>\n",
       "</table>\n",
       "</div>"
      ],
      "text/plain": [
       "     constituency_name  registered_voters  cast_votes  rejected_votes  \\\n",
       "0                Chobe               8942        7354              74   \n",
       "16  Selibe Phikwe East               9732        8361              54   \n",
       "25         Serowe West               8500        6962              88   \n",
       "55        Ghanzi North               9156        7772              88   \n",
       "\n",
       "    valid_votes  \n",
       "0          7280  \n",
       "16         8307  \n",
       "25         6874  \n",
       "55         7684  "
      ]
     },
     "execution_count": 23,
     "metadata": {},
     "output_type": "execute_result"
    }
   ],
   "source": [
    "constituency_stats.loc[constituency_stats.registered_voters < 10000, :]"
   ]
  },
  {
   "cell_type": "markdown",
   "metadata": {},
   "source": [
    "**Question 5:** Which constituencies had more than 200 spoilt votes/rejected votes?"
   ]
  },
  {
   "cell_type": "code",
   "execution_count": 24,
   "metadata": {},
   "outputs": [
    {
     "data": {
      "text/html": [
       "<div>\n",
       "<style scoped>\n",
       "    .dataframe tbody tr th:only-of-type {\n",
       "        vertical-align: middle;\n",
       "    }\n",
       "\n",
       "    .dataframe tbody tr th {\n",
       "        vertical-align: top;\n",
       "    }\n",
       "\n",
       "    .dataframe thead th {\n",
       "        text-align: right;\n",
       "    }\n",
       "</style>\n",
       "<table border=\"1\" class=\"dataframe\">\n",
       "  <thead>\n",
       "    <tr style=\"text-align: right;\">\n",
       "      <th></th>\n",
       "      <th>constituency_name</th>\n",
       "      <th>registered_voters</th>\n",
       "      <th>cast_votes</th>\n",
       "      <th>rejected_votes</th>\n",
       "      <th>valid_votes</th>\n",
       "    </tr>\n",
       "  </thead>\n",
       "  <tbody>\n",
       "    <tr>\n",
       "      <th>10</th>\n",
       "      <td>Nata-Gweta</td>\n",
       "      <td>11009</td>\n",
       "      <td>9720</td>\n",
       "      <td>411</td>\n",
       "      <td>9309</td>\n",
       "    </tr>\n",
       "    <tr>\n",
       "      <th>11</th>\n",
       "      <td>Nkange</td>\n",
       "      <td>15078</td>\n",
       "      <td>12907</td>\n",
       "      <td>214</td>\n",
       "      <td>12693</td>\n",
       "    </tr>\n",
       "    <tr>\n",
       "      <th>15</th>\n",
       "      <td>Mmadinare</td>\n",
       "      <td>13108</td>\n",
       "      <td>10670</td>\n",
       "      <td>228</td>\n",
       "      <td>10442</td>\n",
       "    </tr>\n",
       "    <tr>\n",
       "      <th>20</th>\n",
       "      <td>Sefhare-Ramokgonami</td>\n",
       "      <td>15960</td>\n",
       "      <td>13705</td>\n",
       "      <td>339</td>\n",
       "      <td>13366</td>\n",
       "    </tr>\n",
       "    <tr>\n",
       "      <th>21</th>\n",
       "      <td>Mahalapye East</td>\n",
       "      <td>10993</td>\n",
       "      <td>9316</td>\n",
       "      <td>231</td>\n",
       "      <td>9085</td>\n",
       "    </tr>\n",
       "    <tr>\n",
       "      <th>23</th>\n",
       "      <td>Shoshong</td>\n",
       "      <td>12400</td>\n",
       "      <td>10689</td>\n",
       "      <td>226</td>\n",
       "      <td>10463</td>\n",
       "    </tr>\n",
       "    <tr>\n",
       "      <th>37</th>\n",
       "      <td>Ramotswa</td>\n",
       "      <td>20246</td>\n",
       "      <td>18087</td>\n",
       "      <td>281</td>\n",
       "      <td>17806</td>\n",
       "    </tr>\n",
       "    <tr>\n",
       "      <th>48</th>\n",
       "      <td>Mmathethe-Molapowabojang</td>\n",
       "      <td>19073</td>\n",
       "      <td>16392</td>\n",
       "      <td>290</td>\n",
       "      <td>16102</td>\n",
       "    </tr>\n",
       "  </tbody>\n",
       "</table>\n",
       "</div>"
      ],
      "text/plain": [
       "           constituency_name  registered_voters  cast_votes  rejected_votes  \\\n",
       "10                Nata-Gweta              11009        9720             411   \n",
       "11                    Nkange              15078       12907             214   \n",
       "15                 Mmadinare              13108       10670             228   \n",
       "20       Sefhare-Ramokgonami              15960       13705             339   \n",
       "21            Mahalapye East              10993        9316             231   \n",
       "23                  Shoshong              12400       10689             226   \n",
       "37                  Ramotswa              20246       18087             281   \n",
       "48  Mmathethe-Molapowabojang              19073       16392             290   \n",
       "\n",
       "    valid_votes  \n",
       "10         9309  \n",
       "11        12693  \n",
       "15        10442  \n",
       "20        13366  \n",
       "21         9085  \n",
       "23        10463  \n",
       "37        17806  \n",
       "48        16102  "
      ]
     },
     "execution_count": 24,
     "metadata": {},
     "output_type": "execute_result"
    }
   ],
   "source": [
    "constituency_stats[constituency_stats.rejected_votes > 200]"
   ]
  },
  {
   "cell_type": "markdown",
   "metadata": {},
   "source": [
    "There is a useful dataframe method **describe()** that returns statistics of all numeric columns of a dataframe.\n",
    "\n",
    "**Task: **Apply the **describe()** method on the dataframe. "
   ]
  },
  {
   "cell_type": "code",
   "execution_count": 25,
   "metadata": {},
   "outputs": [
    {
     "data": {
      "text/html": [
       "<div>\n",
       "<style scoped>\n",
       "    .dataframe tbody tr th:only-of-type {\n",
       "        vertical-align: middle;\n",
       "    }\n",
       "\n",
       "    .dataframe tbody tr th {\n",
       "        vertical-align: top;\n",
       "    }\n",
       "\n",
       "    .dataframe thead th {\n",
       "        text-align: right;\n",
       "    }\n",
       "</style>\n",
       "<table border=\"1\" class=\"dataframe\">\n",
       "  <thead>\n",
       "    <tr style=\"text-align: right;\">\n",
       "      <th></th>\n",
       "      <th>registered_voters</th>\n",
       "      <th>cast_votes</th>\n",
       "      <th>rejected_votes</th>\n",
       "      <th>valid_votes</th>\n",
       "    </tr>\n",
       "  </thead>\n",
       "  <tbody>\n",
       "    <tr>\n",
       "      <th>count</th>\n",
       "      <td>57.000000</td>\n",
       "      <td>57.000000</td>\n",
       "      <td>57.000000</td>\n",
       "      <td>57.000000</td>\n",
       "    </tr>\n",
       "    <tr>\n",
       "      <th>mean</th>\n",
       "      <td>14457.421053</td>\n",
       "      <td>12252.789474</td>\n",
       "      <td>143.280702</td>\n",
       "      <td>12109.508772</td>\n",
       "    </tr>\n",
       "    <tr>\n",
       "      <th>std</th>\n",
       "      <td>3176.224100</td>\n",
       "      <td>2786.323555</td>\n",
       "      <td>78.921922</td>\n",
       "      <td>2758.211294</td>\n",
       "    </tr>\n",
       "    <tr>\n",
       "      <th>min</th>\n",
       "      <td>8500.000000</td>\n",
       "      <td>6962.000000</td>\n",
       "      <td>21.000000</td>\n",
       "      <td>6874.000000</td>\n",
       "    </tr>\n",
       "    <tr>\n",
       "      <th>25%</th>\n",
       "      <td>12400.000000</td>\n",
       "      <td>10670.000000</td>\n",
       "      <td>86.000000</td>\n",
       "      <td>10442.000000</td>\n",
       "    </tr>\n",
       "    <tr>\n",
       "      <th>50%</th>\n",
       "      <td>14054.000000</td>\n",
       "      <td>11875.000000</td>\n",
       "      <td>147.000000</td>\n",
       "      <td>11747.000000</td>\n",
       "    </tr>\n",
       "    <tr>\n",
       "      <th>75%</th>\n",
       "      <td>16698.000000</td>\n",
       "      <td>13730.000000</td>\n",
       "      <td>189.000000</td>\n",
       "      <td>13530.000000</td>\n",
       "    </tr>\n",
       "    <tr>\n",
       "      <th>max</th>\n",
       "      <td>21146.000000</td>\n",
       "      <td>18626.000000</td>\n",
       "      <td>411.000000</td>\n",
       "      <td>18499.000000</td>\n",
       "    </tr>\n",
       "  </tbody>\n",
       "</table>\n",
       "</div>"
      ],
      "text/plain": [
       "       registered_voters    cast_votes  rejected_votes   valid_votes\n",
       "count          57.000000     57.000000       57.000000     57.000000\n",
       "mean        14457.421053  12252.789474      143.280702  12109.508772\n",
       "std          3176.224100   2786.323555       78.921922   2758.211294\n",
       "min          8500.000000   6962.000000       21.000000   6874.000000\n",
       "25%         12400.000000  10670.000000       86.000000  10442.000000\n",
       "50%         14054.000000  11875.000000      147.000000  11747.000000\n",
       "75%         16698.000000  13730.000000      189.000000  13530.000000\n",
       "max         21146.000000  18626.000000      411.000000  18499.000000"
      ]
     },
     "execution_count": 25,
     "metadata": {},
     "output_type": "execute_result"
    }
   ],
   "source": [
    "constituency_stats.describe()"
   ]
  },
  {
   "cell_type": "code",
   "execution_count": 26,
   "metadata": {
    "collapsed": true
   },
   "outputs": [],
   "source": [
    "#Setting the index of a dataframe\n",
    "constituency_stats.set_index('constituency_name', inplace=True)"
   ]
  },
  {
   "cell_type": "code",
   "execution_count": 27,
   "metadata": {},
   "outputs": [
    {
     "data": {
      "text/html": [
       "<div>\n",
       "<style scoped>\n",
       "    .dataframe tbody tr th:only-of-type {\n",
       "        vertical-align: middle;\n",
       "    }\n",
       "\n",
       "    .dataframe tbody tr th {\n",
       "        vertical-align: top;\n",
       "    }\n",
       "\n",
       "    .dataframe thead th {\n",
       "        text-align: right;\n",
       "    }\n",
       "</style>\n",
       "<table border=\"1\" class=\"dataframe\">\n",
       "  <thead>\n",
       "    <tr style=\"text-align: right;\">\n",
       "      <th></th>\n",
       "      <th>registered_voters</th>\n",
       "      <th>rejected_votes</th>\n",
       "    </tr>\n",
       "    <tr>\n",
       "      <th>constituency_name</th>\n",
       "      <th></th>\n",
       "      <th></th>\n",
       "    </tr>\n",
       "  </thead>\n",
       "  <tbody>\n",
       "    <tr>\n",
       "      <th>Chobe</th>\n",
       "      <td>8942</td>\n",
       "      <td>74</td>\n",
       "    </tr>\n",
       "    <tr>\n",
       "      <th>Maun East</th>\n",
       "      <td>16774</td>\n",
       "      <td>151</td>\n",
       "    </tr>\n",
       "    <tr>\n",
       "      <th>Maun West</th>\n",
       "      <td>18329</td>\n",
       "      <td>137</td>\n",
       "    </tr>\n",
       "    <tr>\n",
       "      <th>Ngami</th>\n",
       "      <td>18159</td>\n",
       "      <td>175</td>\n",
       "    </tr>\n",
       "    <tr>\n",
       "      <th>Okavango</th>\n",
       "      <td>15243</td>\n",
       "      <td>174</td>\n",
       "    </tr>\n",
       "  </tbody>\n",
       "</table>\n",
       "</div>"
      ],
      "text/plain": [
       "                   registered_voters  rejected_votes\n",
       "constituency_name                                   \n",
       "Chobe                           8942              74\n",
       "Maun East                      16774             151\n",
       "Maun West                      18329             137\n",
       "Ngami                          18159             175\n",
       "Okavango                       15243             174"
      ]
     },
     "execution_count": 27,
     "metadata": {},
     "output_type": "execute_result"
    }
   ],
   "source": [
    "constituency_stats.loc[:, ['registered_voters', 'rejected_votes']].head()"
   ]
  },
  {
   "cell_type": "code",
   "execution_count": 28,
   "metadata": {},
   "outputs": [
    {
     "data": {
      "text/plain": [
       "Index(['Chobe', 'Maun East', 'Maun West', 'Ngami', 'Okavango', 'Tati East',\n",
       "       'Tati West', 'Francistown East', 'Francistown South',\n",
       "       'Francistown West', 'Nata-Gweta', 'Nkange', 'Shashe West', 'Tonota',\n",
       "       'Bobonong', 'Mmadinare', 'Selibe Phikwe East', 'Selibe Phikwe West',\n",
       "       'Lerala-Maunatlala', 'Palapye', 'Sefhare-Ramokgonami', 'Mahalapye East',\n",
       "       'Mahalapye West', 'Shoshong', 'Serowe North', 'Serowe West',\n",
       "       'Serowe South', 'Boteti East', 'Boteti West', 'Mochudi East',\n",
       "       'Mochudi West', 'Gaborone Central', 'Gaborone North', 'Gaborone South',\n",
       "       'Gaborone Bonnington North', 'Gaborone Bonnington South', 'Tlokweng',\n",
       "       'Ramotswa', 'Mogoditshane', 'Gabane-Mmankgodi', 'Thamaga-Kumakwane',\n",
       "       'Molepolole North', 'Molepolole South', 'Lentsweletau-Mmopane',\n",
       "       'Letlhakeng-Lephephe', 'Takatokwane', 'Lobatse', 'Goodhope-Mabule',\n",
       "       'Mmathethe-Molapowabojang', 'Kanye North', 'Kanye South',\n",
       "       'Moshupa-Manyana', 'Jwaneng-Mabutsane', 'Kgalagadi North',\n",
       "       'Kgalagadi South', 'Ghanzi North', 'Ghanzi South'],\n",
       "      dtype='object', name='constituency_name')"
      ]
     },
     "execution_count": 28,
     "metadata": {},
     "output_type": "execute_result"
    }
   ],
   "source": [
    "constituency_stats.index"
   ]
  },
  {
   "cell_type": "markdown",
   "metadata": {},
   "source": [
    "**Task:** Create a column named **rejected_pct** computing the rejected_votes as a % of cast_votes."
   ]
  },
  {
   "cell_type": "code",
   "execution_count": 29,
   "metadata": {},
   "outputs": [
    {
     "data": {
      "text/html": [
       "<div>\n",
       "<style scoped>\n",
       "    .dataframe tbody tr th:only-of-type {\n",
       "        vertical-align: middle;\n",
       "    }\n",
       "\n",
       "    .dataframe tbody tr th {\n",
       "        vertical-align: top;\n",
       "    }\n",
       "\n",
       "    .dataframe thead th {\n",
       "        text-align: right;\n",
       "    }\n",
       "</style>\n",
       "<table border=\"1\" class=\"dataframe\">\n",
       "  <thead>\n",
       "    <tr style=\"text-align: right;\">\n",
       "      <th></th>\n",
       "      <th>registered_voters</th>\n",
       "      <th>cast_votes</th>\n",
       "      <th>rejected_votes</th>\n",
       "      <th>valid_votes</th>\n",
       "      <th>rejected_pct</th>\n",
       "    </tr>\n",
       "    <tr>\n",
       "      <th>constituency_name</th>\n",
       "      <th></th>\n",
       "      <th></th>\n",
       "      <th></th>\n",
       "      <th></th>\n",
       "      <th></th>\n",
       "    </tr>\n",
       "  </thead>\n",
       "  <tbody>\n",
       "    <tr>\n",
       "      <th>Chobe</th>\n",
       "      <td>8942</td>\n",
       "      <td>7354</td>\n",
       "      <td>74</td>\n",
       "      <td>7280</td>\n",
       "      <td>1.006255</td>\n",
       "    </tr>\n",
       "    <tr>\n",
       "      <th>Maun East</th>\n",
       "      <td>16774</td>\n",
       "      <td>13607</td>\n",
       "      <td>151</td>\n",
       "      <td>13456</td>\n",
       "      <td>1.109723</td>\n",
       "    </tr>\n",
       "    <tr>\n",
       "      <th>Maun West</th>\n",
       "      <td>18329</td>\n",
       "      <td>15100</td>\n",
       "      <td>137</td>\n",
       "      <td>14963</td>\n",
       "      <td>0.907285</td>\n",
       "    </tr>\n",
       "    <tr>\n",
       "      <th>Ngami</th>\n",
       "      <td>18159</td>\n",
       "      <td>15055</td>\n",
       "      <td>175</td>\n",
       "      <td>14880</td>\n",
       "      <td>1.162405</td>\n",
       "    </tr>\n",
       "    <tr>\n",
       "      <th>Okavango</th>\n",
       "      <td>15243</td>\n",
       "      <td>12726</td>\n",
       "      <td>174</td>\n",
       "      <td>12552</td>\n",
       "      <td>1.367280</td>\n",
       "    </tr>\n",
       "  </tbody>\n",
       "</table>\n",
       "</div>"
      ],
      "text/plain": [
       "                   registered_voters  cast_votes  rejected_votes  valid_votes  \\\n",
       "constituency_name                                                               \n",
       "Chobe                           8942        7354              74         7280   \n",
       "Maun East                      16774       13607             151        13456   \n",
       "Maun West                      18329       15100             137        14963   \n",
       "Ngami                          18159       15055             175        14880   \n",
       "Okavango                       15243       12726             174        12552   \n",
       "\n",
       "                   rejected_pct  \n",
       "constituency_name                \n",
       "Chobe                  1.006255  \n",
       "Maun East              1.109723  \n",
       "Maun West              0.907285  \n",
       "Ngami                  1.162405  \n",
       "Okavango               1.367280  "
      ]
     },
     "execution_count": 29,
     "metadata": {},
     "output_type": "execute_result"
    }
   ],
   "source": [
    "constituency_stats= constituency_stats.assign(rejected_pct = constituency_stats.rejected_votes/\n",
    "                          constituency_stats.cast_votes * 100)\n",
    "constituency_stats.head()"
   ]
  },
  {
   "cell_type": "markdown",
   "metadata": {},
   "source": [
    "**Question 5:** Which constituencies have the lowest percentage of rejected votes? Return 10 entries only.\n",
    "\n",
    "**Approach**\n",
    "\n",
    "- Use the **sort_values()** method to sort the dataframe.\n",
    "- Use the **head()** method to top 10 entries"
   ]
  },
  {
   "cell_type": "code",
   "execution_count": 30,
   "metadata": {},
   "outputs": [
    {
     "data": {
      "text/html": [
       "<div>\n",
       "<style scoped>\n",
       "    .dataframe tbody tr th:only-of-type {\n",
       "        vertical-align: middle;\n",
       "    }\n",
       "\n",
       "    .dataframe tbody tr th {\n",
       "        vertical-align: top;\n",
       "    }\n",
       "\n",
       "    .dataframe thead th {\n",
       "        text-align: right;\n",
       "    }\n",
       "</style>\n",
       "<table border=\"1\" class=\"dataframe\">\n",
       "  <thead>\n",
       "    <tr style=\"text-align: right;\">\n",
       "      <th></th>\n",
       "      <th>registered_voters</th>\n",
       "      <th>cast_votes</th>\n",
       "      <th>rejected_votes</th>\n",
       "      <th>valid_votes</th>\n",
       "      <th>rejected_pct</th>\n",
       "    </tr>\n",
       "    <tr>\n",
       "      <th>constituency_name</th>\n",
       "      <th></th>\n",
       "      <th></th>\n",
       "      <th></th>\n",
       "      <th></th>\n",
       "      <th></th>\n",
       "    </tr>\n",
       "  </thead>\n",
       "  <tbody>\n",
       "    <tr>\n",
       "      <th>Tlokweng</th>\n",
       "      <td>13980</td>\n",
       "      <td>11525</td>\n",
       "      <td>21</td>\n",
       "      <td>11504</td>\n",
       "      <td>0.182213</td>\n",
       "    </tr>\n",
       "    <tr>\n",
       "      <th>Gaborone Bonnington South</th>\n",
       "      <td>13811</td>\n",
       "      <td>11595</td>\n",
       "      <td>34</td>\n",
       "      <td>11561</td>\n",
       "      <td>0.293230</td>\n",
       "    </tr>\n",
       "    <tr>\n",
       "      <th>Francistown East</th>\n",
       "      <td>10236</td>\n",
       "      <td>8483</td>\n",
       "      <td>25</td>\n",
       "      <td>8458</td>\n",
       "      <td>0.294707</td>\n",
       "    </tr>\n",
       "    <tr>\n",
       "      <th>Gaborone Bonnington North</th>\n",
       "      <td>16698</td>\n",
       "      <td>14352</td>\n",
       "      <td>49</td>\n",
       "      <td>14303</td>\n",
       "      <td>0.341416</td>\n",
       "    </tr>\n",
       "    <tr>\n",
       "      <th>Gaborone North</th>\n",
       "      <td>15178</td>\n",
       "      <td>13049</td>\n",
       "      <td>45</td>\n",
       "      <td>13004</td>\n",
       "      <td>0.344854</td>\n",
       "    </tr>\n",
       "    <tr>\n",
       "      <th>Francistown South</th>\n",
       "      <td>12333</td>\n",
       "      <td>10097</td>\n",
       "      <td>36</td>\n",
       "      <td>10061</td>\n",
       "      <td>0.356542</td>\n",
       "    </tr>\n",
       "    <tr>\n",
       "      <th>Francistown West</th>\n",
       "      <td>12511</td>\n",
       "      <td>9919</td>\n",
       "      <td>46</td>\n",
       "      <td>9873</td>\n",
       "      <td>0.463756</td>\n",
       "    </tr>\n",
       "    <tr>\n",
       "      <th>Gaborone Central</th>\n",
       "      <td>14054</td>\n",
       "      <td>11609</td>\n",
       "      <td>55</td>\n",
       "      <td>11554</td>\n",
       "      <td>0.473770</td>\n",
       "    </tr>\n",
       "    <tr>\n",
       "      <th>Mogoditshane</th>\n",
       "      <td>15451</td>\n",
       "      <td>11875</td>\n",
       "      <td>62</td>\n",
       "      <td>11813</td>\n",
       "      <td>0.522105</td>\n",
       "    </tr>\n",
       "    <tr>\n",
       "      <th>Selibe Phikwe West</th>\n",
       "      <td>10196</td>\n",
       "      <td>8695</td>\n",
       "      <td>46</td>\n",
       "      <td>8649</td>\n",
       "      <td>0.529040</td>\n",
       "    </tr>\n",
       "  </tbody>\n",
       "</table>\n",
       "</div>"
      ],
      "text/plain": [
       "                           registered_voters  cast_votes  rejected_votes  \\\n",
       "constituency_name                                                          \n",
       "Tlokweng                               13980       11525              21   \n",
       "Gaborone Bonnington South              13811       11595              34   \n",
       "Francistown East                       10236        8483              25   \n",
       "Gaborone Bonnington North              16698       14352              49   \n",
       "Gaborone North                         15178       13049              45   \n",
       "Francistown South                      12333       10097              36   \n",
       "Francistown West                       12511        9919              46   \n",
       "Gaborone Central                       14054       11609              55   \n",
       "Mogoditshane                           15451       11875              62   \n",
       "Selibe Phikwe West                     10196        8695              46   \n",
       "\n",
       "                           valid_votes  rejected_pct  \n",
       "constituency_name                                     \n",
       "Tlokweng                         11504      0.182213  \n",
       "Gaborone Bonnington South        11561      0.293230  \n",
       "Francistown East                  8458      0.294707  \n",
       "Gaborone Bonnington North        14303      0.341416  \n",
       "Gaborone North                   13004      0.344854  \n",
       "Francistown South                10061      0.356542  \n",
       "Francistown West                  9873      0.463756  \n",
       "Gaborone Central                 11554      0.473770  \n",
       "Mogoditshane                     11813      0.522105  \n",
       "Selibe Phikwe West                8649      0.529040  "
      ]
     },
     "execution_count": 30,
     "metadata": {},
     "output_type": "execute_result"
    }
   ],
   "source": [
    "constituency_stats.sort_values(by='rejected_pct', ascending=True).head(10)"
   ]
  },
  {
   "cell_type": "markdown",
   "metadata": {},
   "source": [
    "**Question 6:** Which constituency has the highest voter turnout?"
   ]
  },
  {
   "cell_type": "code",
   "execution_count": 31,
   "metadata": {},
   "outputs": [
    {
     "data": {
      "text/plain": [
       "'Kgalagadi North'"
      ]
     },
     "execution_count": 31,
     "metadata": {},
     "output_type": "execute_result"
    }
   ],
   "source": [
    "(constituency_stats.cast_votes/constituency_stats.registered_voters).idxmax()"
   ]
  },
  {
   "cell_type": "markdown",
   "metadata": {},
   "source": [
    "**Question 7:** Which constituency has the lowest voter turnout?"
   ]
  },
  {
   "cell_type": "code",
   "execution_count": 32,
   "metadata": {},
   "outputs": [
    {
     "data": {
      "text/plain": [
       "'Mogoditshane'"
      ]
     },
     "execution_count": 32,
     "metadata": {},
     "output_type": "execute_result"
    }
   ],
   "source": [
    "(constituency_stats.cast_votes/constituency_stats.registered_voters).idxmin()"
   ]
  },
  {
   "cell_type": "markdown",
   "metadata": {},
   "source": [
    "**Question 8:** What is the average number of registered voters per constituency?"
   ]
  },
  {
   "cell_type": "code",
   "execution_count": 33,
   "metadata": {},
   "outputs": [
    {
     "data": {
      "text/plain": [
       "14457.421052631578"
      ]
     },
     "execution_count": 33,
     "metadata": {},
     "output_type": "execute_result"
    }
   ],
   "source": [
    "constituency_stats['registered_voters'].mean()"
   ]
  },
  {
   "cell_type": "markdown",
   "metadata": {},
   "source": [
    "**Task** Create a percentage turnout **turnout_pct** column. % of **cast_votes** over **registered_voters** for each constituency."
   ]
  },
  {
   "cell_type": "code",
   "execution_count": 34,
   "metadata": {},
   "outputs": [
    {
     "data": {
      "text/html": [
       "<div>\n",
       "<style scoped>\n",
       "    .dataframe tbody tr th:only-of-type {\n",
       "        vertical-align: middle;\n",
       "    }\n",
       "\n",
       "    .dataframe tbody tr th {\n",
       "        vertical-align: top;\n",
       "    }\n",
       "\n",
       "    .dataframe thead th {\n",
       "        text-align: right;\n",
       "    }\n",
       "</style>\n",
       "<table border=\"1\" class=\"dataframe\">\n",
       "  <thead>\n",
       "    <tr style=\"text-align: right;\">\n",
       "      <th></th>\n",
       "      <th>registered_voters</th>\n",
       "      <th>cast_votes</th>\n",
       "      <th>rejected_votes</th>\n",
       "      <th>valid_votes</th>\n",
       "      <th>rejected_pct</th>\n",
       "      <th>turnout_pct</th>\n",
       "    </tr>\n",
       "    <tr>\n",
       "      <th>constituency_name</th>\n",
       "      <th></th>\n",
       "      <th></th>\n",
       "      <th></th>\n",
       "      <th></th>\n",
       "      <th></th>\n",
       "      <th></th>\n",
       "    </tr>\n",
       "  </thead>\n",
       "  <tbody>\n",
       "    <tr>\n",
       "      <th>Chobe</th>\n",
       "      <td>8942</td>\n",
       "      <td>7354</td>\n",
       "      <td>74</td>\n",
       "      <td>7280</td>\n",
       "      <td>1.006255</td>\n",
       "      <td>82.241109</td>\n",
       "    </tr>\n",
       "    <tr>\n",
       "      <th>Maun East</th>\n",
       "      <td>16774</td>\n",
       "      <td>13607</td>\n",
       "      <td>151</td>\n",
       "      <td>13456</td>\n",
       "      <td>1.109723</td>\n",
       "      <td>81.119590</td>\n",
       "    </tr>\n",
       "    <tr>\n",
       "      <th>Maun West</th>\n",
       "      <td>18329</td>\n",
       "      <td>15100</td>\n",
       "      <td>137</td>\n",
       "      <td>14963</td>\n",
       "      <td>0.907285</td>\n",
       "      <td>82.383109</td>\n",
       "    </tr>\n",
       "    <tr>\n",
       "      <th>Ngami</th>\n",
       "      <td>18159</td>\n",
       "      <td>15055</td>\n",
       "      <td>175</td>\n",
       "      <td>14880</td>\n",
       "      <td>1.162405</td>\n",
       "      <td>82.906548</td>\n",
       "    </tr>\n",
       "    <tr>\n",
       "      <th>Okavango</th>\n",
       "      <td>15243</td>\n",
       "      <td>12726</td>\n",
       "      <td>174</td>\n",
       "      <td>12552</td>\n",
       "      <td>1.367280</td>\n",
       "      <td>83.487502</td>\n",
       "    </tr>\n",
       "  </tbody>\n",
       "</table>\n",
       "</div>"
      ],
      "text/plain": [
       "                   registered_voters  cast_votes  rejected_votes  valid_votes  \\\n",
       "constituency_name                                                               \n",
       "Chobe                           8942        7354              74         7280   \n",
       "Maun East                      16774       13607             151        13456   \n",
       "Maun West                      18329       15100             137        14963   \n",
       "Ngami                          18159       15055             175        14880   \n",
       "Okavango                       15243       12726             174        12552   \n",
       "\n",
       "                   rejected_pct  turnout_pct  \n",
       "constituency_name                             \n",
       "Chobe                  1.006255    82.241109  \n",
       "Maun East              1.109723    81.119590  \n",
       "Maun West              0.907285    82.383109  \n",
       "Ngami                  1.162405    82.906548  \n",
       "Okavango               1.367280    83.487502  "
      ]
     },
     "execution_count": 34,
     "metadata": {},
     "output_type": "execute_result"
    }
   ],
   "source": [
    "constituency_stats = constituency_stats.assign(turnout_pct = constituency_stats.cast_votes/\n",
    "                                               constituency_stats.registered_voters * 100)\n",
    "constituency_stats.head()"
   ]
  },
  {
   "cell_type": "markdown",
   "metadata": {},
   "source": [
    "**Question 9:** Which constituencies had the highest voter turnout? Return all coulmns of the top 20 constituencies."
   ]
  },
  {
   "cell_type": "code",
   "execution_count": 35,
   "metadata": {},
   "outputs": [
    {
     "data": {
      "text/html": [
       "<div>\n",
       "<style scoped>\n",
       "    .dataframe tbody tr th:only-of-type {\n",
       "        vertical-align: middle;\n",
       "    }\n",
       "\n",
       "    .dataframe tbody tr th {\n",
       "        vertical-align: top;\n",
       "    }\n",
       "\n",
       "    .dataframe thead th {\n",
       "        text-align: right;\n",
       "    }\n",
       "</style>\n",
       "<table border=\"1\" class=\"dataframe\">\n",
       "  <thead>\n",
       "    <tr style=\"text-align: right;\">\n",
       "      <th></th>\n",
       "      <th>registered_voters</th>\n",
       "      <th>cast_votes</th>\n",
       "      <th>rejected_votes</th>\n",
       "      <th>valid_votes</th>\n",
       "      <th>rejected_pct</th>\n",
       "      <th>turnout_pct</th>\n",
       "    </tr>\n",
       "    <tr>\n",
       "      <th>constituency_name</th>\n",
       "      <th></th>\n",
       "      <th></th>\n",
       "      <th></th>\n",
       "      <th></th>\n",
       "      <th></th>\n",
       "      <th></th>\n",
       "    </tr>\n",
       "  </thead>\n",
       "  <tbody>\n",
       "    <tr>\n",
       "      <th>Kgalagadi North</th>\n",
       "      <td>10102</td>\n",
       "      <td>9307</td>\n",
       "      <td>72</td>\n",
       "      <td>9235</td>\n",
       "      <td>0.773611</td>\n",
       "      <td>92.130271</td>\n",
       "    </tr>\n",
       "    <tr>\n",
       "      <th>Takatokwane</th>\n",
       "      <td>11746</td>\n",
       "      <td>10698</td>\n",
       "      <td>169</td>\n",
       "      <td>10529</td>\n",
       "      <td>1.579735</td>\n",
       "      <td>91.077814</td>\n",
       "    </tr>\n",
       "    <tr>\n",
       "      <th>Ramotswa</th>\n",
       "      <td>20246</td>\n",
       "      <td>18087</td>\n",
       "      <td>281</td>\n",
       "      <td>17806</td>\n",
       "      <td>1.553602</td>\n",
       "      <td>89.336165</td>\n",
       "    </tr>\n",
       "    <tr>\n",
       "      <th>Molepolole North</th>\n",
       "      <td>17022</td>\n",
       "      <td>15108</td>\n",
       "      <td>143</td>\n",
       "      <td>14965</td>\n",
       "      <td>0.946518</td>\n",
       "      <td>88.755728</td>\n",
       "    </tr>\n",
       "    <tr>\n",
       "      <th>Nata-Gweta</th>\n",
       "      <td>11009</td>\n",
       "      <td>9720</td>\n",
       "      <td>411</td>\n",
       "      <td>9309</td>\n",
       "      <td>4.228395</td>\n",
       "      <td>88.291398</td>\n",
       "    </tr>\n",
       "    <tr>\n",
       "      <th>Mochudi West</th>\n",
       "      <td>21146</td>\n",
       "      <td>18626</td>\n",
       "      <td>127</td>\n",
       "      <td>18499</td>\n",
       "      <td>0.681843</td>\n",
       "      <td>88.082853</td>\n",
       "    </tr>\n",
       "    <tr>\n",
       "      <th>Kgalagadi South</th>\n",
       "      <td>14280</td>\n",
       "      <td>12574</td>\n",
       "      <td>147</td>\n",
       "      <td>12427</td>\n",
       "      <td>1.169079</td>\n",
       "      <td>88.053221</td>\n",
       "    </tr>\n",
       "    <tr>\n",
       "      <th>Molepolole South</th>\n",
       "      <td>13556</td>\n",
       "      <td>11893</td>\n",
       "      <td>146</td>\n",
       "      <td>11747</td>\n",
       "      <td>1.227613</td>\n",
       "      <td>87.732369</td>\n",
       "    </tr>\n",
       "    <tr>\n",
       "      <th>Letlhakeng-Lephephe</th>\n",
       "      <td>12772</td>\n",
       "      <td>11104</td>\n",
       "      <td>190</td>\n",
       "      <td>10914</td>\n",
       "      <td>1.711095</td>\n",
       "      <td>86.940182</td>\n",
       "    </tr>\n",
       "    <tr>\n",
       "      <th>Thamaga-Kumakwane</th>\n",
       "      <td>16856</td>\n",
       "      <td>14617</td>\n",
       "      <td>200</td>\n",
       "      <td>14417</td>\n",
       "      <td>1.368270</td>\n",
       "      <td>86.716896</td>\n",
       "    </tr>\n",
       "    <tr>\n",
       "      <th>Kanye North</th>\n",
       "      <td>18525</td>\n",
       "      <td>16062</td>\n",
       "      <td>179</td>\n",
       "      <td>15883</td>\n",
       "      <td>1.114432</td>\n",
       "      <td>86.704453</td>\n",
       "    </tr>\n",
       "    <tr>\n",
       "      <th>Mochudi East</th>\n",
       "      <td>20356</td>\n",
       "      <td>17608</td>\n",
       "      <td>156</td>\n",
       "      <td>17452</td>\n",
       "      <td>0.885961</td>\n",
       "      <td>86.500295</td>\n",
       "    </tr>\n",
       "    <tr>\n",
       "      <th>Goodhope-Mabule</th>\n",
       "      <td>15874</td>\n",
       "      <td>13730</td>\n",
       "      <td>200</td>\n",
       "      <td>13530</td>\n",
       "      <td>1.456664</td>\n",
       "      <td>86.493637</td>\n",
       "    </tr>\n",
       "    <tr>\n",
       "      <th>Shoshong</th>\n",
       "      <td>12400</td>\n",
       "      <td>10689</td>\n",
       "      <td>226</td>\n",
       "      <td>10463</td>\n",
       "      <td>2.114323</td>\n",
       "      <td>86.201613</td>\n",
       "    </tr>\n",
       "    <tr>\n",
       "      <th>Moshupa-Manyana</th>\n",
       "      <td>14882</td>\n",
       "      <td>12821</td>\n",
       "      <td>192</td>\n",
       "      <td>12629</td>\n",
       "      <td>1.497543</td>\n",
       "      <td>86.151055</td>\n",
       "    </tr>\n",
       "    <tr>\n",
       "      <th>Ghanzi South</th>\n",
       "      <td>10687</td>\n",
       "      <td>9206</td>\n",
       "      <td>67</td>\n",
       "      <td>9139</td>\n",
       "      <td>0.727786</td>\n",
       "      <td>86.142042</td>\n",
       "    </tr>\n",
       "    <tr>\n",
       "      <th>Jwaneng-Mabutsane</th>\n",
       "      <td>15554</td>\n",
       "      <td>13395</td>\n",
       "      <td>172</td>\n",
       "      <td>13223</td>\n",
       "      <td>1.284061</td>\n",
       "      <td>86.119326</td>\n",
       "    </tr>\n",
       "    <tr>\n",
       "      <th>Gaborone North</th>\n",
       "      <td>15178</td>\n",
       "      <td>13049</td>\n",
       "      <td>45</td>\n",
       "      <td>13004</td>\n",
       "      <td>0.344854</td>\n",
       "      <td>85.973119</td>\n",
       "    </tr>\n",
       "    <tr>\n",
       "      <th>Gaborone Bonnington North</th>\n",
       "      <td>16698</td>\n",
       "      <td>14352</td>\n",
       "      <td>49</td>\n",
       "      <td>14303</td>\n",
       "      <td>0.341416</td>\n",
       "      <td>85.950413</td>\n",
       "    </tr>\n",
       "    <tr>\n",
       "      <th>Mmathethe-Molapowabojang</th>\n",
       "      <td>19073</td>\n",
       "      <td>16392</td>\n",
       "      <td>290</td>\n",
       "      <td>16102</td>\n",
       "      <td>1.769156</td>\n",
       "      <td>85.943480</td>\n",
       "    </tr>\n",
       "  </tbody>\n",
       "</table>\n",
       "</div>"
      ],
      "text/plain": [
       "                           registered_voters  cast_votes  rejected_votes  \\\n",
       "constituency_name                                                          \n",
       "Kgalagadi North                        10102        9307              72   \n",
       "Takatokwane                            11746       10698             169   \n",
       "Ramotswa                               20246       18087             281   \n",
       "Molepolole North                       17022       15108             143   \n",
       "Nata-Gweta                             11009        9720             411   \n",
       "Mochudi West                           21146       18626             127   \n",
       "Kgalagadi South                        14280       12574             147   \n",
       "Molepolole South                       13556       11893             146   \n",
       "Letlhakeng-Lephephe                    12772       11104             190   \n",
       "Thamaga-Kumakwane                      16856       14617             200   \n",
       "Kanye North                            18525       16062             179   \n",
       "Mochudi East                           20356       17608             156   \n",
       "Goodhope-Mabule                        15874       13730             200   \n",
       "Shoshong                               12400       10689             226   \n",
       "Moshupa-Manyana                        14882       12821             192   \n",
       "Ghanzi South                           10687        9206              67   \n",
       "Jwaneng-Mabutsane                      15554       13395             172   \n",
       "Gaborone North                         15178       13049              45   \n",
       "Gaborone Bonnington North              16698       14352              49   \n",
       "Mmathethe-Molapowabojang               19073       16392             290   \n",
       "\n",
       "                           valid_votes  rejected_pct  turnout_pct  \n",
       "constituency_name                                                  \n",
       "Kgalagadi North                   9235      0.773611    92.130271  \n",
       "Takatokwane                      10529      1.579735    91.077814  \n",
       "Ramotswa                         17806      1.553602    89.336165  \n",
       "Molepolole North                 14965      0.946518    88.755728  \n",
       "Nata-Gweta                        9309      4.228395    88.291398  \n",
       "Mochudi West                     18499      0.681843    88.082853  \n",
       "Kgalagadi South                  12427      1.169079    88.053221  \n",
       "Molepolole South                 11747      1.227613    87.732369  \n",
       "Letlhakeng-Lephephe              10914      1.711095    86.940182  \n",
       "Thamaga-Kumakwane                14417      1.368270    86.716896  \n",
       "Kanye North                      15883      1.114432    86.704453  \n",
       "Mochudi East                     17452      0.885961    86.500295  \n",
       "Goodhope-Mabule                  13530      1.456664    86.493637  \n",
       "Shoshong                         10463      2.114323    86.201613  \n",
       "Moshupa-Manyana                  12629      1.497543    86.151055  \n",
       "Ghanzi South                      9139      0.727786    86.142042  \n",
       "Jwaneng-Mabutsane                13223      1.284061    86.119326  \n",
       "Gaborone North                   13004      0.344854    85.973119  \n",
       "Gaborone Bonnington North        14303      0.341416    85.950413  \n",
       "Mmathethe-Molapowabojang         16102      1.769156    85.943480  "
      ]
     },
     "execution_count": 35,
     "metadata": {},
     "output_type": "execute_result"
    }
   ],
   "source": [
    "constituency_stats.sort_values(by='turnout_pct', ascending=False).head(20)"
   ]
  },
  {
   "cell_type": "markdown",
   "metadata": {},
   "source": [
    "**Question 10:** What was the national voter turnout percentage?"
   ]
  },
  {
   "cell_type": "code",
   "execution_count": 36,
   "metadata": {},
   "outputs": [
    {
     "data": {
      "text/plain": [
       "84.750865517982021"
      ]
     },
     "execution_count": 36,
     "metadata": {},
     "output_type": "execute_result"
    }
   ],
   "source": [
    "constituency_stats.cast_votes.sum()/constituency_stats.registered_voters.sum() * 100"
   ]
  },
  {
   "cell_type": "code",
   "execution_count": 37,
   "metadata": {},
   "outputs": [
    {
     "data": {
      "text/html": [
       "<div>\n",
       "<style scoped>\n",
       "    .dataframe tbody tr th:only-of-type {\n",
       "        vertical-align: middle;\n",
       "    }\n",
       "\n",
       "    .dataframe tbody tr th {\n",
       "        vertical-align: top;\n",
       "    }\n",
       "\n",
       "    .dataframe thead th {\n",
       "        text-align: right;\n",
       "    }\n",
       "</style>\n",
       "<table border=\"1\" class=\"dataframe\">\n",
       "  <thead>\n",
       "    <tr style=\"text-align: right;\">\n",
       "      <th></th>\n",
       "      <th>constituency_name</th>\n",
       "      <th>candidate_name</th>\n",
       "      <th>party_name</th>\n",
       "      <th>party_votes</th>\n",
       "    </tr>\n",
       "  </thead>\n",
       "  <tbody>\n",
       "    <tr>\n",
       "      <th>0</th>\n",
       "      <td>Chobe</td>\n",
       "      <td>Ronald Machana Shamukuni</td>\n",
       "      <td>BDP</td>\n",
       "      <td>4114</td>\n",
       "    </tr>\n",
       "    <tr>\n",
       "      <th>1</th>\n",
       "      <td>Chobe</td>\n",
       "      <td>Gibson M.R Nshimwe</td>\n",
       "      <td>BCP</td>\n",
       "      <td>3166</td>\n",
       "    </tr>\n",
       "    <tr>\n",
       "      <th>2</th>\n",
       "      <td>Maun East</td>\n",
       "      <td>Konstantinos Markus</td>\n",
       "      <td>BDP</td>\n",
       "      <td>6046</td>\n",
       "    </tr>\n",
       "    <tr>\n",
       "      <th>3</th>\n",
       "      <td>Maun East</td>\n",
       "      <td>Goretetse Kekgonegile</td>\n",
       "      <td>BCP</td>\n",
       "      <td>5304</td>\n",
       "    </tr>\n",
       "    <tr>\n",
       "      <th>4</th>\n",
       "      <td>Maun East</td>\n",
       "      <td>Osimilwe O. Fish</td>\n",
       "      <td>UDC</td>\n",
       "      <td>2062</td>\n",
       "    </tr>\n",
       "  </tbody>\n",
       "</table>\n",
       "</div>"
      ],
      "text/plain": [
       "  constituency_name            candidate_name party_name  party_votes\n",
       "0             Chobe  Ronald Machana Shamukuni        BDP         4114\n",
       "1             Chobe        Gibson M.R Nshimwe        BCP         3166\n",
       "2         Maun East       Konstantinos Markus        BDP         6046\n",
       "3         Maun East     Goretetse Kekgonegile        BCP         5304\n",
       "4         Maun East          Osimilwe O. Fish        UDC         2062"
      ]
     },
     "execution_count": 37,
     "metadata": {},
     "output_type": "execute_result"
    }
   ],
   "source": [
    "candidate_votes.head()"
   ]
  },
  {
   "cell_type": "markdown",
   "metadata": {},
   "source": [
    "We will use methods from the numpy library in the next few question.\n",
    "\n",
    "**Task:** Import the **numpy** library as pd"
   ]
  },
  {
   "cell_type": "code",
   "execution_count": 38,
   "metadata": {
    "collapsed": true
   },
   "outputs": [],
   "source": [
    "import numpy as np"
   ]
  },
  {
   "cell_type": "markdown",
   "metadata": {},
   "source": [
    "**Question 11:** How many votes did each party receive? Create a dataframe called votes_per_party with the results.\n",
    "\n",
    "**Approach:**\n",
    "\n",
    "- Pivot the dataframe on **party_name**\n",
    "- Sum all votes for the same party.\n",
    "- Use the **pivot_table()** method "
   ]
  },
  {
   "cell_type": "code",
   "execution_count": 39,
   "metadata": {},
   "outputs": [],
   "source": [
    "votes_per_party = candidate_votes.pivot_table(values='party_votes', index='party_name',aggfunc=np.sum)"
   ]
  },
  {
   "cell_type": "code",
   "execution_count": 40,
   "metadata": {
    "collapsed": true
   },
   "outputs": [],
   "source": [
    "votes_per_party.sort_values(by='party_votes', ascending=False, inplace=True)"
   ]
  },
  {
   "cell_type": "code",
   "execution_count": 41,
   "metadata": {},
   "outputs": [
    {
     "data": {
      "text/html": [
       "<div>\n",
       "<style scoped>\n",
       "    .dataframe tbody tr th:only-of-type {\n",
       "        vertical-align: middle;\n",
       "    }\n",
       "\n",
       "    .dataframe tbody tr th {\n",
       "        vertical-align: top;\n",
       "    }\n",
       "\n",
       "    .dataframe thead th {\n",
       "        text-align: right;\n",
       "    }\n",
       "</style>\n",
       "<table border=\"1\" class=\"dataframe\">\n",
       "  <thead>\n",
       "    <tr style=\"text-align: right;\">\n",
       "      <th></th>\n",
       "      <th>party_votes</th>\n",
       "    </tr>\n",
       "    <tr>\n",
       "      <th>party_name</th>\n",
       "      <th></th>\n",
       "    </tr>\n",
       "  </thead>\n",
       "  <tbody>\n",
       "    <tr>\n",
       "      <th>BDP</th>\n",
       "      <td>320647</td>\n",
       "    </tr>\n",
       "    <tr>\n",
       "      <th>UDC</th>\n",
       "      <td>207116</td>\n",
       "    </tr>\n",
       "    <tr>\n",
       "      <th>BCP</th>\n",
       "      <td>141005</td>\n",
       "    </tr>\n",
       "    <tr>\n",
       "      <th>IND</th>\n",
       "      <td>21484</td>\n",
       "    </tr>\n",
       "  </tbody>\n",
       "</table>\n",
       "</div>"
      ],
      "text/plain": [
       "            party_votes\n",
       "party_name             \n",
       "BDP              320647\n",
       "UDC              207116\n",
       "BCP              141005\n",
       "IND               21484"
      ]
     },
     "execution_count": 41,
     "metadata": {},
     "output_type": "execute_result"
    }
   ],
   "source": [
    "votes_per_party"
   ]
  },
  {
   "cell_type": "markdown",
   "metadata": {},
   "source": [
    "**Question 12:** What is the total sum of opposition votes - votes for ['UDC', 'BCP', 'IND']?\n"
   ]
  },
  {
   "cell_type": "code",
   "execution_count": 42,
   "metadata": {},
   "outputs": [
    {
     "data": {
      "text/plain": [
       "party_votes    369605\n",
       "dtype: int64"
      ]
     },
     "execution_count": 42,
     "metadata": {},
     "output_type": "execute_result"
    }
   ],
   "source": [
    "votes_per_party[votes_per_party.index != 'BDP'].sum()"
   ]
  },
  {
   "cell_type": "code",
   "execution_count": 43,
   "metadata": {},
   "outputs": [
    {
     "data": {
      "text/html": [
       "<div>\n",
       "<style scoped>\n",
       "    .dataframe tbody tr th:only-of-type {\n",
       "        vertical-align: middle;\n",
       "    }\n",
       "\n",
       "    .dataframe tbody tr th {\n",
       "        vertical-align: top;\n",
       "    }\n",
       "\n",
       "    .dataframe thead th {\n",
       "        text-align: right;\n",
       "    }\n",
       "</style>\n",
       "<table border=\"1\" class=\"dataframe\">\n",
       "  <thead>\n",
       "    <tr style=\"text-align: right;\">\n",
       "      <th></th>\n",
       "      <th>candidate_name</th>\n",
       "      <th>party_name</th>\n",
       "      <th>party_votes</th>\n",
       "    </tr>\n",
       "    <tr>\n",
       "      <th>constituency_name</th>\n",
       "      <th></th>\n",
       "      <th></th>\n",
       "      <th></th>\n",
       "    </tr>\n",
       "  </thead>\n",
       "  <tbody>\n",
       "    <tr>\n",
       "      <th>Chobe</th>\n",
       "      <td>Ronald Machana Shamukuni</td>\n",
       "      <td>BDP</td>\n",
       "      <td>4114</td>\n",
       "    </tr>\n",
       "    <tr>\n",
       "      <th>Chobe</th>\n",
       "      <td>Gibson M.R Nshimwe</td>\n",
       "      <td>BCP</td>\n",
       "      <td>3166</td>\n",
       "    </tr>\n",
       "    <tr>\n",
       "      <th>Maun East</th>\n",
       "      <td>Konstantinos Markus</td>\n",
       "      <td>BDP</td>\n",
       "      <td>6046</td>\n",
       "    </tr>\n",
       "    <tr>\n",
       "      <th>Maun East</th>\n",
       "      <td>Goretetse Kekgonegile</td>\n",
       "      <td>BCP</td>\n",
       "      <td>5304</td>\n",
       "    </tr>\n",
       "    <tr>\n",
       "      <th>Maun East</th>\n",
       "      <td>Osimilwe O. Fish</td>\n",
       "      <td>UDC</td>\n",
       "      <td>2062</td>\n",
       "    </tr>\n",
       "  </tbody>\n",
       "</table>\n",
       "</div>"
      ],
      "text/plain": [
       "                             candidate_name party_name  party_votes\n",
       "constituency_name                                                  \n",
       "Chobe              Ronald Machana Shamukuni        BDP         4114\n",
       "Chobe                    Gibson M.R Nshimwe        BCP         3166\n",
       "Maun East               Konstantinos Markus        BDP         6046\n",
       "Maun East             Goretetse Kekgonegile        BCP         5304\n",
       "Maun East                  Osimilwe O. Fish        UDC         2062"
      ]
     },
     "execution_count": 43,
     "metadata": {},
     "output_type": "execute_result"
    }
   ],
   "source": [
    "#Set index\n",
    "candidate_votes.set_index('constituency_name', inplace=True)\n",
    "candidate_votes.head()"
   ]
  },
  {
   "cell_type": "code",
   "execution_count": 44,
   "metadata": {},
   "outputs": [
    {
     "data": {
      "text/html": [
       "<div>\n",
       "<style scoped>\n",
       "    .dataframe tbody tr th:only-of-type {\n",
       "        vertical-align: middle;\n",
       "    }\n",
       "\n",
       "    .dataframe tbody tr th {\n",
       "        vertical-align: top;\n",
       "    }\n",
       "\n",
       "    .dataframe thead th {\n",
       "        text-align: right;\n",
       "    }\n",
       "</style>\n",
       "<table border=\"1\" class=\"dataframe\">\n",
       "  <thead>\n",
       "    <tr style=\"text-align: right;\">\n",
       "      <th></th>\n",
       "      <th>constituency_name</th>\n",
       "      <th>candidate_name</th>\n",
       "      <th>party_name</th>\n",
       "      <th>party_votes</th>\n",
       "    </tr>\n",
       "  </thead>\n",
       "  <tbody>\n",
       "    <tr>\n",
       "      <th>0</th>\n",
       "      <td>Chobe</td>\n",
       "      <td>Ronald Machana Shamukuni</td>\n",
       "      <td>BDP</td>\n",
       "      <td>4114</td>\n",
       "    </tr>\n",
       "    <tr>\n",
       "      <th>1</th>\n",
       "      <td>Chobe</td>\n",
       "      <td>Gibson M.R Nshimwe</td>\n",
       "      <td>BCP</td>\n",
       "      <td>3166</td>\n",
       "    </tr>\n",
       "    <tr>\n",
       "      <th>2</th>\n",
       "      <td>Maun East</td>\n",
       "      <td>Konstantinos Markus</td>\n",
       "      <td>BDP</td>\n",
       "      <td>6046</td>\n",
       "    </tr>\n",
       "    <tr>\n",
       "      <th>3</th>\n",
       "      <td>Maun East</td>\n",
       "      <td>Goretetse Kekgonegile</td>\n",
       "      <td>BCP</td>\n",
       "      <td>5304</td>\n",
       "    </tr>\n",
       "    <tr>\n",
       "      <th>4</th>\n",
       "      <td>Maun East</td>\n",
       "      <td>Osimilwe O. Fish</td>\n",
       "      <td>UDC</td>\n",
       "      <td>2062</td>\n",
       "    </tr>\n",
       "  </tbody>\n",
       "</table>\n",
       "</div>"
      ],
      "text/plain": [
       "  constituency_name            candidate_name party_name  party_votes\n",
       "0             Chobe  Ronald Machana Shamukuni        BDP         4114\n",
       "1             Chobe        Gibson M.R Nshimwe        BCP         3166\n",
       "2         Maun East       Konstantinos Markus        BDP         6046\n",
       "3         Maun East     Goretetse Kekgonegile        BCP         5304\n",
       "4         Maun East          Osimilwe O. Fish        UDC         2062"
      ]
     },
     "execution_count": 44,
     "metadata": {},
     "output_type": "execute_result"
    }
   ],
   "source": [
    "#Reset index\n",
    "candidate_votes.reset_index(inplace=True)\n",
    "candidate_votes.head()"
   ]
  },
  {
   "cell_type": "markdown",
   "metadata": {},
   "source": [
    "**Question 13:** Which candidates constested elections in Gaborone South?"
   ]
  },
  {
   "cell_type": "code",
   "execution_count": 45,
   "metadata": {},
   "outputs": [
    {
     "data": {
      "text/html": [
       "<div>\n",
       "<style scoped>\n",
       "    .dataframe tbody tr th:only-of-type {\n",
       "        vertical-align: middle;\n",
       "    }\n",
       "\n",
       "    .dataframe tbody tr th {\n",
       "        vertical-align: top;\n",
       "    }\n",
       "\n",
       "    .dataframe thead th {\n",
       "        text-align: right;\n",
       "    }\n",
       "</style>\n",
       "<table border=\"1\" class=\"dataframe\">\n",
       "  <thead>\n",
       "    <tr style=\"text-align: right;\">\n",
       "      <th></th>\n",
       "      <th>constituency_name</th>\n",
       "      <th>candidate_name</th>\n",
       "      <th>party_name</th>\n",
       "      <th>party_votes</th>\n",
       "    </tr>\n",
       "  </thead>\n",
       "  <tbody>\n",
       "    <tr>\n",
       "      <th>112</th>\n",
       "      <td>Gaborone South</td>\n",
       "      <td>Kagiso Patrick Molatlhegi</td>\n",
       "      <td>BDP</td>\n",
       "      <td>3872</td>\n",
       "    </tr>\n",
       "    <tr>\n",
       "      <th>113</th>\n",
       "      <td>Gaborone South</td>\n",
       "      <td>Murray Moemedi Dipate</td>\n",
       "      <td>UDC</td>\n",
       "      <td>3629</td>\n",
       "    </tr>\n",
       "    <tr>\n",
       "      <th>114</th>\n",
       "      <td>Gaborone South</td>\n",
       "      <td>Akanyang Magama</td>\n",
       "      <td>BCP</td>\n",
       "      <td>2318</td>\n",
       "    </tr>\n",
       "    <tr>\n",
       "      <th>115</th>\n",
       "      <td>Gaborone South</td>\n",
       "      <td>Dumezweni M. Mthimkhulu</td>\n",
       "      <td>IND</td>\n",
       "      <td>1475</td>\n",
       "    </tr>\n",
       "  </tbody>\n",
       "</table>\n",
       "</div>"
      ],
      "text/plain": [
       "    constituency_name             candidate_name party_name  party_votes\n",
       "112    Gaborone South  Kagiso Patrick Molatlhegi        BDP         3872\n",
       "113    Gaborone South      Murray Moemedi Dipate        UDC         3629\n",
       "114    Gaborone South            Akanyang Magama        BCP         2318\n",
       "115    Gaborone South    Dumezweni M. Mthimkhulu        IND         1475"
      ]
     },
     "execution_count": 45,
     "metadata": {},
     "output_type": "execute_result"
    }
   ],
   "source": [
    "candidate_votes[candidate_votes.constituency_name == 'Gaborone South']"
   ]
  },
  {
   "cell_type": "markdown",
   "metadata": {},
   "source": [
    "**Question 14:** Which candidates and parties contested elections in Mochudi West constituency?"
   ]
  },
  {
   "cell_type": "code",
   "execution_count": 46,
   "metadata": {},
   "outputs": [
    {
     "data": {
      "text/html": [
       "<div>\n",
       "<style scoped>\n",
       "    .dataframe tbody tr th:only-of-type {\n",
       "        vertical-align: middle;\n",
       "    }\n",
       "\n",
       "    .dataframe tbody tr th {\n",
       "        vertical-align: top;\n",
       "    }\n",
       "\n",
       "    .dataframe thead th {\n",
       "        text-align: right;\n",
       "    }\n",
       "</style>\n",
       "<table border=\"1\" class=\"dataframe\">\n",
       "  <thead>\n",
       "    <tr style=\"text-align: right;\">\n",
       "      <th></th>\n",
       "      <th>candidate_name</th>\n",
       "      <th>party_name</th>\n",
       "    </tr>\n",
       "  </thead>\n",
       "  <tbody>\n",
       "    <tr>\n",
       "      <th>102</th>\n",
       "      <td>Gilbert Shimane Mangole</td>\n",
       "      <td>UDC</td>\n",
       "    </tr>\n",
       "    <tr>\n",
       "      <th>103</th>\n",
       "      <td>Unity Dow</td>\n",
       "      <td>BDP</td>\n",
       "    </tr>\n",
       "    <tr>\n",
       "      <th>104</th>\n",
       "      <td>Alfred Ramono Pilane</td>\n",
       "      <td>BCP</td>\n",
       "    </tr>\n",
       "  </tbody>\n",
       "</table>\n",
       "</div>"
      ],
      "text/plain": [
       "              candidate_name party_name\n",
       "102  Gilbert Shimane Mangole        UDC\n",
       "103                Unity Dow        BDP\n",
       "104     Alfred Ramono Pilane        BCP"
      ]
     },
     "execution_count": 46,
     "metadata": {},
     "output_type": "execute_result"
    }
   ],
   "source": [
    "candidate_votes.loc[candidate_votes.constituency_name == 'Mochudi West', ['candidate_name', 'party_name']]"
   ]
  },
  {
   "cell_type": "markdown",
   "metadata": {},
   "source": [
    "**Question 15:** In how many constituencies was BCP represented?"
   ]
  },
  {
   "cell_type": "code",
   "execution_count": 47,
   "metadata": {},
   "outputs": [
    {
     "data": {
      "text/plain": [
       "54"
      ]
     },
     "execution_count": 47,
     "metadata": {},
     "output_type": "execute_result"
    }
   ],
   "source": [
    "candidate_votes.loc[candidate_votes.party_name == 'BCP', 'constituency_name'].count()"
   ]
  },
  {
   "cell_type": "markdown",
   "metadata": {},
   "source": [
    "**Question 16:** In how many constituencies was BDP represented?"
   ]
  },
  {
   "cell_type": "code",
   "execution_count": 48,
   "metadata": {},
   "outputs": [
    {
     "data": {
      "text/plain": [
       "57"
      ]
     },
     "execution_count": 48,
     "metadata": {},
     "output_type": "execute_result"
    }
   ],
   "source": [
    "candidate_votes.loc[candidate_votes.party_name == 'BDP', 'constituency_name'].count()"
   ]
  },
  {
   "cell_type": "markdown",
   "metadata": {},
   "source": [
    "**Question 17:** In how many constituencies was UDC represented?"
   ]
  },
  {
   "cell_type": "code",
   "execution_count": 49,
   "metadata": {},
   "outputs": [
    {
     "data": {
      "text/plain": [
       "52"
      ]
     },
     "execution_count": 49,
     "metadata": {},
     "output_type": "execute_result"
    }
   ],
   "source": [
    "candidate_votes.loc[candidate_votes.party_name == 'UDC', 'constituency_name'].count()"
   ]
  },
  {
   "cell_type": "markdown",
   "metadata": {},
   "source": [
    "**Question 18:** Which constituencies had no BCP candidate constesting elections?\n",
    "    \n",
    "**Set Approach:**\n",
    "\n",
    "- Create a set of constituencies contested by BCP\n",
    "- Create a set of ALL constituencies\n",
    "- Find a set difference "
   ]
  },
  {
   "cell_type": "code",
   "execution_count": 50,
   "metadata": {
    "collapsed": true
   },
   "outputs": [],
   "source": [
    "bcp_contested_consts = set(candidate_votes.loc[candidate_votes.party_name == 'BCP', 'constituency_name'])"
   ]
  },
  {
   "cell_type": "code",
   "execution_count": 51,
   "metadata": {
    "collapsed": true
   },
   "outputs": [],
   "source": [
    "all_consts = set(candidate_votes.loc[:,'constituency_name'])"
   ]
  },
  {
   "cell_type": "code",
   "execution_count": 52,
   "metadata": {},
   "outputs": [
    {
     "data": {
      "text/plain": [
       "{'Ghanzi North', 'Molepolole North', 'Molepolole South'}"
      ]
     },
     "execution_count": 52,
     "metadata": {},
     "output_type": "execute_result"
    }
   ],
   "source": [
    "all_consts - bcp_contested_consts"
   ]
  },
  {
   "cell_type": "markdown",
   "metadata": {},
   "source": [
    "**Question 19:** Which constituencies had no UDC candidate constesting elections?\n",
    "\n",
    "**Set Approach**\n",
    "- Same idea as in **Question 18**"
   ]
  },
  {
   "cell_type": "code",
   "execution_count": 53,
   "metadata": {
    "collapsed": true
   },
   "outputs": [],
   "source": [
    "udc_contested_consts = set(candidate_votes.loc[candidate_votes.party_name == 'UDC', 'constituency_name'])"
   ]
  },
  {
   "cell_type": "code",
   "execution_count": 54,
   "metadata": {},
   "outputs": [
    {
     "data": {
      "text/plain": [
       "{'Chobe',\n",
       " 'Lerala-Maunatlala',\n",
       " 'Mmadinare',\n",
       " 'Nata-Gweta',\n",
       " 'Sefhare-Ramokgonami'}"
      ]
     },
     "execution_count": 54,
     "metadata": {},
     "output_type": "execute_result"
    }
   ],
   "source": [
    "all_consts - udc_contested_consts"
   ]
  },
  {
   "cell_type": "markdown",
   "metadata": {},
   "source": [
    "**Question 20:** How many independent candidates contested elections?"
   ]
  },
  {
   "cell_type": "code",
   "execution_count": 55,
   "metadata": {},
   "outputs": [
    {
     "data": {
      "text/plain": [
       "29"
      ]
     },
     "execution_count": 55,
     "metadata": {},
     "output_type": "execute_result"
    }
   ],
   "source": [
    "candidate_votes.loc[candidate_votes.party_name == 'IND', 'party_name'].count()"
   ]
  },
  {
   "cell_type": "markdown",
   "metadata": {},
   "source": [
    "**Question 21:** Which candidate won elections in each constituency? Create a dataframe of winning candidates."
   ]
  },
  {
   "cell_type": "code",
   "execution_count": 56,
   "metadata": {},
   "outputs": [],
   "source": [
    "winners = candidate_votes[['constituency_name','candidate_name', 'party_name', \n",
    "                           'party_votes']].groupby('constituency_name').head(1)"
   ]
  },
  {
   "cell_type": "code",
   "execution_count": 57,
   "metadata": {},
   "outputs": [
    {
     "data": {
      "text/html": [
       "<div>\n",
       "<style scoped>\n",
       "    .dataframe tbody tr th:only-of-type {\n",
       "        vertical-align: middle;\n",
       "    }\n",
       "\n",
       "    .dataframe tbody tr th {\n",
       "        vertical-align: top;\n",
       "    }\n",
       "\n",
       "    .dataframe thead th {\n",
       "        text-align: right;\n",
       "    }\n",
       "</style>\n",
       "<table border=\"1\" class=\"dataframe\">\n",
       "  <thead>\n",
       "    <tr style=\"text-align: right;\">\n",
       "      <th></th>\n",
       "      <th>constituency_name</th>\n",
       "      <th>candidate_name</th>\n",
       "      <th>party_name</th>\n",
       "      <th>party_votes</th>\n",
       "    </tr>\n",
       "  </thead>\n",
       "  <tbody>\n",
       "    <tr>\n",
       "      <th>0</th>\n",
       "      <td>Chobe</td>\n",
       "      <td>Ronald Machana Shamukuni</td>\n",
       "      <td>BDP</td>\n",
       "      <td>4114</td>\n",
       "    </tr>\n",
       "    <tr>\n",
       "      <th>2</th>\n",
       "      <td>Maun East</td>\n",
       "      <td>Konstantinos Markus</td>\n",
       "      <td>BDP</td>\n",
       "      <td>6046</td>\n",
       "    </tr>\n",
       "    <tr>\n",
       "      <th>6</th>\n",
       "      <td>Maun West</td>\n",
       "      <td>Tawana Moremi</td>\n",
       "      <td>UDC</td>\n",
       "      <td>7271</td>\n",
       "    </tr>\n",
       "    <tr>\n",
       "      <th>9</th>\n",
       "      <td>Ngami</td>\n",
       "      <td>Thato Kwerepe</td>\n",
       "      <td>BDP</td>\n",
       "      <td>7063</td>\n",
       "    </tr>\n",
       "    <tr>\n",
       "      <th>12</th>\n",
       "      <td>Okavango</td>\n",
       "      <td>Bagalatia Aron</td>\n",
       "      <td>BCP</td>\n",
       "      <td>6864</td>\n",
       "    </tr>\n",
       "  </tbody>\n",
       "</table>\n",
       "</div>"
      ],
      "text/plain": [
       "   constituency_name            candidate_name party_name  party_votes\n",
       "0              Chobe  Ronald Machana Shamukuni        BDP         4114\n",
       "2          Maun East       Konstantinos Markus        BDP         6046\n",
       "6          Maun West             Tawana Moremi        UDC         7271\n",
       "9              Ngami             Thato Kwerepe        BDP         7063\n",
       "12          Okavango            Bagalatia Aron        BCP         6864"
      ]
     },
     "execution_count": 57,
     "metadata": {},
     "output_type": "execute_result"
    }
   ],
   "source": [
    "winners.head()"
   ]
  },
  {
   "cell_type": "markdown",
   "metadata": {},
   "source": [
    "**Question 22:** How many constituencies did each party win?"
   ]
  },
  {
   "cell_type": "code",
   "execution_count": 58,
   "metadata": {},
   "outputs": [
    {
     "data": {
      "text/plain": [
       "BDP    37\n",
       "UDC    17\n",
       "BCP     3\n",
       "Name: party_name, dtype: int64"
      ]
     },
     "execution_count": 58,
     "metadata": {},
     "output_type": "execute_result"
    }
   ],
   "source": [
    "#Histogram Approach\n",
    "winners.party_name.value_counts()"
   ]
  },
  {
   "cell_type": "code",
   "execution_count": 59,
   "metadata": {},
   "outputs": [
    {
     "data": {
      "text/html": [
       "<div>\n",
       "<style scoped>\n",
       "    .dataframe tbody tr th:only-of-type {\n",
       "        vertical-align: middle;\n",
       "    }\n",
       "\n",
       "    .dataframe tbody tr th {\n",
       "        vertical-align: top;\n",
       "    }\n",
       "\n",
       "    .dataframe thead th {\n",
       "        text-align: right;\n",
       "    }\n",
       "</style>\n",
       "<table border=\"1\" class=\"dataframe\">\n",
       "  <thead>\n",
       "    <tr style=\"text-align: right;\">\n",
       "      <th></th>\n",
       "      <th>party_votes</th>\n",
       "    </tr>\n",
       "    <tr>\n",
       "      <th>party_name</th>\n",
       "      <th></th>\n",
       "    </tr>\n",
       "  </thead>\n",
       "  <tbody>\n",
       "    <tr>\n",
       "      <th>BCP</th>\n",
       "      <td>3</td>\n",
       "    </tr>\n",
       "    <tr>\n",
       "      <th>BDP</th>\n",
       "      <td>37</td>\n",
       "    </tr>\n",
       "    <tr>\n",
       "      <th>UDC</th>\n",
       "      <td>17</td>\n",
       "    </tr>\n",
       "  </tbody>\n",
       "</table>\n",
       "</div>"
      ],
      "text/plain": [
       "            party_votes\n",
       "party_name             \n",
       "BCP                   3\n",
       "BDP                  37\n",
       "UDC                  17"
      ]
     },
     "execution_count": 59,
     "metadata": {},
     "output_type": "execute_result"
    }
   ],
   "source": [
    "#Group-by approach\n",
    "winners[['party_votes', 'party_name']].groupby(by='party_name').count()"
   ]
  },
  {
   "cell_type": "markdown",
   "metadata": {},
   "source": [
    "**BONUS EXERCISE** \n",
    "\n",
    "After the last general elections there were was a media consensus that the opposition could have won elections if \n",
    "they had constested as a united front.\n",
    "\n",
    "**IS THAT A LEGITIMATE CLAIM?**"
   ]
  },
  {
   "cell_type": "code",
   "execution_count": 60,
   "metadata": {},
   "outputs": [
    {
     "data": {
      "text/html": [
       "<div>\n",
       "<style scoped>\n",
       "    .dataframe tbody tr th:only-of-type {\n",
       "        vertical-align: middle;\n",
       "    }\n",
       "\n",
       "    .dataframe tbody tr th {\n",
       "        vertical-align: top;\n",
       "    }\n",
       "\n",
       "    .dataframe thead th {\n",
       "        text-align: right;\n",
       "    }\n",
       "</style>\n",
       "<table border=\"1\" class=\"dataframe\">\n",
       "  <thead>\n",
       "    <tr style=\"text-align: right;\">\n",
       "      <th></th>\n",
       "      <th>constituency_name</th>\n",
       "      <th>candidate_name</th>\n",
       "      <th>party_name</th>\n",
       "      <th>party_votes</th>\n",
       "    </tr>\n",
       "  </thead>\n",
       "  <tbody>\n",
       "    <tr>\n",
       "      <th>0</th>\n",
       "      <td>Chobe</td>\n",
       "      <td>Ronald Machana Shamukuni</td>\n",
       "      <td>BDP</td>\n",
       "      <td>4114</td>\n",
       "    </tr>\n",
       "    <tr>\n",
       "      <th>1</th>\n",
       "      <td>Chobe</td>\n",
       "      <td>Gibson M.R Nshimwe</td>\n",
       "      <td>BCP</td>\n",
       "      <td>3166</td>\n",
       "    </tr>\n",
       "    <tr>\n",
       "      <th>2</th>\n",
       "      <td>Maun East</td>\n",
       "      <td>Konstantinos Markus</td>\n",
       "      <td>BDP</td>\n",
       "      <td>6046</td>\n",
       "    </tr>\n",
       "    <tr>\n",
       "      <th>3</th>\n",
       "      <td>Maun East</td>\n",
       "      <td>Goretetse Kekgonegile</td>\n",
       "      <td>BCP</td>\n",
       "      <td>5304</td>\n",
       "    </tr>\n",
       "    <tr>\n",
       "      <th>4</th>\n",
       "      <td>Maun East</td>\n",
       "      <td>Osimilwe O. Fish</td>\n",
       "      <td>UDC</td>\n",
       "      <td>2062</td>\n",
       "    </tr>\n",
       "  </tbody>\n",
       "</table>\n",
       "</div>"
      ],
      "text/plain": [
       "  constituency_name            candidate_name party_name  party_votes\n",
       "0             Chobe  Ronald Machana Shamukuni        BDP         4114\n",
       "1             Chobe        Gibson M.R Nshimwe        BCP         3166\n",
       "2         Maun East       Konstantinos Markus        BDP         6046\n",
       "3         Maun East     Goretetse Kekgonegile        BCP         5304\n",
       "4         Maun East          Osimilwe O. Fish        UDC         2062"
      ]
     },
     "execution_count": 60,
     "metadata": {},
     "output_type": "execute_result"
    }
   ],
   "source": [
    "candidate_votes.head()"
   ]
  },
  {
   "cell_type": "markdown",
   "metadata": {},
   "source": [
    "**Task:** Select all columns and rows where the party name is BDP."
   ]
  },
  {
   "cell_type": "code",
   "execution_count": 61,
   "metadata": {},
   "outputs": [
    {
     "data": {
      "text/html": [
       "<div>\n",
       "<style scoped>\n",
       "    .dataframe tbody tr th:only-of-type {\n",
       "        vertical-align: middle;\n",
       "    }\n",
       "\n",
       "    .dataframe tbody tr th {\n",
       "        vertical-align: top;\n",
       "    }\n",
       "\n",
       "    .dataframe thead th {\n",
       "        text-align: right;\n",
       "    }\n",
       "</style>\n",
       "<table border=\"1\" class=\"dataframe\">\n",
       "  <thead>\n",
       "    <tr style=\"text-align: right;\">\n",
       "      <th></th>\n",
       "      <th>constituency_name</th>\n",
       "      <th>candidate_name</th>\n",
       "      <th>party_name</th>\n",
       "      <th>party_votes</th>\n",
       "    </tr>\n",
       "  </thead>\n",
       "  <tbody>\n",
       "    <tr>\n",
       "      <th>0</th>\n",
       "      <td>Chobe</td>\n",
       "      <td>Ronald Machana Shamukuni</td>\n",
       "      <td>BDP</td>\n",
       "      <td>4114</td>\n",
       "    </tr>\n",
       "    <tr>\n",
       "      <th>2</th>\n",
       "      <td>Maun East</td>\n",
       "      <td>Konstantinos Markus</td>\n",
       "      <td>BDP</td>\n",
       "      <td>6046</td>\n",
       "    </tr>\n",
       "    <tr>\n",
       "      <th>7</th>\n",
       "      <td>Maun West</td>\n",
       "      <td>Reaboke Mbulawa</td>\n",
       "      <td>BDP</td>\n",
       "      <td>5335</td>\n",
       "    </tr>\n",
       "    <tr>\n",
       "      <th>9</th>\n",
       "      <td>Ngami</td>\n",
       "      <td>Thato Kwerepe</td>\n",
       "      <td>BDP</td>\n",
       "      <td>7063</td>\n",
       "    </tr>\n",
       "    <tr>\n",
       "      <th>13</th>\n",
       "      <td>Okavango</td>\n",
       "      <td>Mbahahauka A. Kambimba</td>\n",
       "      <td>BDP</td>\n",
       "      <td>5473</td>\n",
       "    </tr>\n",
       "  </tbody>\n",
       "</table>\n",
       "</div>"
      ],
      "text/plain": [
       "   constituency_name            candidate_name party_name  party_votes\n",
       "0              Chobe  Ronald Machana Shamukuni        BDP         4114\n",
       "2          Maun East       Konstantinos Markus        BDP         6046\n",
       "7          Maun West           Reaboke Mbulawa        BDP         5335\n",
       "9              Ngami             Thato Kwerepe        BDP         7063\n",
       "13          Okavango    Mbahahauka A. Kambimba        BDP         5473"
      ]
     },
     "execution_count": 61,
     "metadata": {},
     "output_type": "execute_result"
    }
   ],
   "source": [
    "bdp_votes = candidate_votes[candidate_votes.party_name == 'BDP']\n",
    "bdp_votes.head()"
   ]
  },
  {
   "cell_type": "markdown",
   "metadata": {},
   "source": [
    "**Task:** Create a dataframe of called **non_bdp_votes** with all columns and rows where the party voted for is not BDP."
   ]
  },
  {
   "cell_type": "code",
   "execution_count": 62,
   "metadata": {},
   "outputs": [
    {
     "data": {
      "text/html": [
       "<div>\n",
       "<style scoped>\n",
       "    .dataframe tbody tr th:only-of-type {\n",
       "        vertical-align: middle;\n",
       "    }\n",
       "\n",
       "    .dataframe tbody tr th {\n",
       "        vertical-align: top;\n",
       "    }\n",
       "\n",
       "    .dataframe thead th {\n",
       "        text-align: right;\n",
       "    }\n",
       "</style>\n",
       "<table border=\"1\" class=\"dataframe\">\n",
       "  <thead>\n",
       "    <tr style=\"text-align: right;\">\n",
       "      <th></th>\n",
       "      <th>constituency_name</th>\n",
       "      <th>candidate_name</th>\n",
       "      <th>party_name</th>\n",
       "      <th>party_votes</th>\n",
       "    </tr>\n",
       "  </thead>\n",
       "  <tbody>\n",
       "    <tr>\n",
       "      <th>1</th>\n",
       "      <td>Chobe</td>\n",
       "      <td>Gibson M.R Nshimwe</td>\n",
       "      <td>BCP</td>\n",
       "      <td>3166</td>\n",
       "    </tr>\n",
       "    <tr>\n",
       "      <th>3</th>\n",
       "      <td>Maun East</td>\n",
       "      <td>Goretetse Kekgonegile</td>\n",
       "      <td>BCP</td>\n",
       "      <td>5304</td>\n",
       "    </tr>\n",
       "    <tr>\n",
       "      <th>4</th>\n",
       "      <td>Maun East</td>\n",
       "      <td>Osimilwe O. Fish</td>\n",
       "      <td>UDC</td>\n",
       "      <td>2062</td>\n",
       "    </tr>\n",
       "    <tr>\n",
       "      <th>5</th>\n",
       "      <td>Maun East</td>\n",
       "      <td>Simon Lethake</td>\n",
       "      <td>IND</td>\n",
       "      <td>44</td>\n",
       "    </tr>\n",
       "    <tr>\n",
       "      <th>6</th>\n",
       "      <td>Maun West</td>\n",
       "      <td>Tawana Moremi</td>\n",
       "      <td>UDC</td>\n",
       "      <td>7271</td>\n",
       "    </tr>\n",
       "  </tbody>\n",
       "</table>\n",
       "</div>"
      ],
      "text/plain": [
       "  constituency_name         candidate_name party_name  party_votes\n",
       "1             Chobe     Gibson M.R Nshimwe        BCP         3166\n",
       "3         Maun East  Goretetse Kekgonegile        BCP         5304\n",
       "4         Maun East       Osimilwe O. Fish        UDC         2062\n",
       "5         Maun East          Simon Lethake        IND           44\n",
       "6         Maun West          Tawana Moremi        UDC         7271"
      ]
     },
     "execution_count": 62,
     "metadata": {},
     "output_type": "execute_result"
    }
   ],
   "source": [
    "non_bdp_votes = candidate_votes[candidate_votes.party_name != 'BDP']\n",
    "non_bdp_votes.head()"
   ]
  },
  {
   "cell_type": "code",
   "execution_count": 63,
   "metadata": {},
   "outputs": [
    {
     "data": {
      "text/html": [
       "<div>\n",
       "<style scoped>\n",
       "    .dataframe tbody tr th:only-of-type {\n",
       "        vertical-align: middle;\n",
       "    }\n",
       "\n",
       "    .dataframe tbody tr th {\n",
       "        vertical-align: top;\n",
       "    }\n",
       "\n",
       "    .dataframe thead th {\n",
       "        text-align: right;\n",
       "    }\n",
       "</style>\n",
       "<table border=\"1\" class=\"dataframe\">\n",
       "  <thead>\n",
       "    <tr style=\"text-align: right;\">\n",
       "      <th></th>\n",
       "      <th>constituency_name</th>\n",
       "      <th>candidate_name</th>\n",
       "      <th>party_name</th>\n",
       "      <th>party_votes</th>\n",
       "    </tr>\n",
       "  </thead>\n",
       "  <tbody>\n",
       "    <tr>\n",
       "      <th>1</th>\n",
       "      <td>Chobe</td>\n",
       "      <td>Gibson M.R Nshimwe</td>\n",
       "      <td>BCP</td>\n",
       "      <td>3166</td>\n",
       "    </tr>\n",
       "    <tr>\n",
       "      <th>3</th>\n",
       "      <td>Maun East</td>\n",
       "      <td>Goretetse Kekgonegile</td>\n",
       "      <td>BCP</td>\n",
       "      <td>5304</td>\n",
       "    </tr>\n",
       "    <tr>\n",
       "      <th>4</th>\n",
       "      <td>Maun East</td>\n",
       "      <td>Osimilwe O. Fish</td>\n",
       "      <td>UDC</td>\n",
       "      <td>2062</td>\n",
       "    </tr>\n",
       "    <tr>\n",
       "      <th>5</th>\n",
       "      <td>Maun East</td>\n",
       "      <td>Simon Lethake</td>\n",
       "      <td>IND</td>\n",
       "      <td>44</td>\n",
       "    </tr>\n",
       "    <tr>\n",
       "      <th>6</th>\n",
       "      <td>Maun West</td>\n",
       "      <td>Tawana Moremi</td>\n",
       "      <td>UDC</td>\n",
       "      <td>7271</td>\n",
       "    </tr>\n",
       "    <tr>\n",
       "      <th>8</th>\n",
       "      <td>Maun West</td>\n",
       "      <td>George Lubinda</td>\n",
       "      <td>BCP</td>\n",
       "      <td>2357</td>\n",
       "    </tr>\n",
       "    <tr>\n",
       "      <th>10</th>\n",
       "      <td>Ngami</td>\n",
       "      <td>Goyamang Taolo Habano</td>\n",
       "      <td>BCP</td>\n",
       "      <td>7015</td>\n",
       "    </tr>\n",
       "    <tr>\n",
       "      <th>11</th>\n",
       "      <td>Ngami</td>\n",
       "      <td>Kebinang Cosmos Moenga</td>\n",
       "      <td>UDC</td>\n",
       "      <td>802</td>\n",
       "    </tr>\n",
       "    <tr>\n",
       "      <th>12</th>\n",
       "      <td>Okavango</td>\n",
       "      <td>Bagalatia Aron</td>\n",
       "      <td>BCP</td>\n",
       "      <td>6864</td>\n",
       "    </tr>\n",
       "    <tr>\n",
       "      <th>14</th>\n",
       "      <td>Okavango</td>\n",
       "      <td>Vister M. Moruti</td>\n",
       "      <td>UDC</td>\n",
       "      <td>215</td>\n",
       "    </tr>\n",
       "  </tbody>\n",
       "</table>\n",
       "</div>"
      ],
      "text/plain": [
       "   constituency_name          candidate_name party_name  party_votes\n",
       "1              Chobe      Gibson M.R Nshimwe        BCP         3166\n",
       "3          Maun East   Goretetse Kekgonegile        BCP         5304\n",
       "4          Maun East        Osimilwe O. Fish        UDC         2062\n",
       "5          Maun East           Simon Lethake        IND           44\n",
       "6          Maun West           Tawana Moremi        UDC         7271\n",
       "8          Maun West          George Lubinda        BCP         2357\n",
       "10             Ngami   Goyamang Taolo Habano        BCP         7015\n",
       "11             Ngami  Kebinang Cosmos Moenga        UDC          802\n",
       "12          Okavango          Bagalatia Aron        BCP         6864\n",
       "14          Okavango        Vister M. Moruti        UDC          215"
      ]
     },
     "execution_count": 63,
     "metadata": {},
     "output_type": "execute_result"
    }
   ],
   "source": [
    "non_bdp_votes.head(10)"
   ]
  },
  {
   "cell_type": "markdown",
   "metadata": {},
   "source": [
    "**Task:** Pivot the **non_bdp_votes** on **constituency_name** and sum the party_votes. Re-assign this dataframe to **non_bdp_votes**"
   ]
  },
  {
   "cell_type": "code",
   "execution_count": 64,
   "metadata": {},
   "outputs": [
    {
     "data": {
      "text/html": [
       "<div>\n",
       "<style scoped>\n",
       "    .dataframe tbody tr th:only-of-type {\n",
       "        vertical-align: middle;\n",
       "    }\n",
       "\n",
       "    .dataframe tbody tr th {\n",
       "        vertical-align: top;\n",
       "    }\n",
       "\n",
       "    .dataframe thead th {\n",
       "        text-align: right;\n",
       "    }\n",
       "</style>\n",
       "<table border=\"1\" class=\"dataframe\">\n",
       "  <thead>\n",
       "    <tr style=\"text-align: right;\">\n",
       "      <th></th>\n",
       "      <th>party_votes</th>\n",
       "    </tr>\n",
       "    <tr>\n",
       "      <th>constituency_name</th>\n",
       "      <th></th>\n",
       "    </tr>\n",
       "  </thead>\n",
       "  <tbody>\n",
       "    <tr>\n",
       "      <th>Bobonong</th>\n",
       "      <td>7392</td>\n",
       "    </tr>\n",
       "    <tr>\n",
       "      <th>Boteti East</th>\n",
       "      <td>3198</td>\n",
       "    </tr>\n",
       "    <tr>\n",
       "      <th>Boteti West</th>\n",
       "      <td>6171</td>\n",
       "    </tr>\n",
       "    <tr>\n",
       "      <th>Chobe</th>\n",
       "      <td>3166</td>\n",
       "    </tr>\n",
       "    <tr>\n",
       "      <th>Francistown East</th>\n",
       "      <td>4640</td>\n",
       "    </tr>\n",
       "    <tr>\n",
       "      <th>Francistown South</th>\n",
       "      <td>6772</td>\n",
       "    </tr>\n",
       "    <tr>\n",
       "      <th>Francistown West</th>\n",
       "      <td>4568</td>\n",
       "    </tr>\n",
       "    <tr>\n",
       "      <th>Gabane-Mmankgodi</th>\n",
       "      <td>10211</td>\n",
       "    </tr>\n",
       "    <tr>\n",
       "      <th>Gaborone Bonnington North</th>\n",
       "      <td>10081</td>\n",
       "    </tr>\n",
       "    <tr>\n",
       "      <th>Gaborone Bonnington South</th>\n",
       "      <td>7967</td>\n",
       "    </tr>\n",
       "  </tbody>\n",
       "</table>\n",
       "</div>"
      ],
      "text/plain": [
       "                           party_votes\n",
       "constituency_name                     \n",
       "Bobonong                          7392\n",
       "Boteti East                       3198\n",
       "Boteti West                       6171\n",
       "Chobe                             3166\n",
       "Francistown East                  4640\n",
       "Francistown South                 6772\n",
       "Francistown West                  4568\n",
       "Gabane-Mmankgodi                 10211\n",
       "Gaborone Bonnington North        10081\n",
       "Gaborone Bonnington South         7967"
      ]
     },
     "execution_count": 64,
     "metadata": {},
     "output_type": "execute_result"
    }
   ],
   "source": [
    "non_bdp_votes = non_bdp_votes.pivot_table(values='party_votes', index='constituency_name',aggfunc=np.sum)\n",
    "non_bdp_votes.head(10)"
   ]
  },
  {
   "cell_type": "code",
   "execution_count": 65,
   "metadata": {},
   "outputs": [
    {
     "data": {
      "text/html": [
       "<div>\n",
       "<style scoped>\n",
       "    .dataframe tbody tr th:only-of-type {\n",
       "        vertical-align: middle;\n",
       "    }\n",
       "\n",
       "    .dataframe tbody tr th {\n",
       "        vertical-align: top;\n",
       "    }\n",
       "\n",
       "    .dataframe thead th {\n",
       "        text-align: right;\n",
       "    }\n",
       "</style>\n",
       "<table border=\"1\" class=\"dataframe\">\n",
       "  <thead>\n",
       "    <tr style=\"text-align: right;\">\n",
       "      <th></th>\n",
       "      <th>party_votes</th>\n",
       "    </tr>\n",
       "    <tr>\n",
       "      <th>constituency_name</th>\n",
       "      <th></th>\n",
       "    </tr>\n",
       "  </thead>\n",
       "  <tbody>\n",
       "    <tr>\n",
       "      <th>Bobonong</th>\n",
       "      <td>7392</td>\n",
       "    </tr>\n",
       "    <tr>\n",
       "      <th>Boteti East</th>\n",
       "      <td>3198</td>\n",
       "    </tr>\n",
       "    <tr>\n",
       "      <th>Boteti West</th>\n",
       "      <td>6171</td>\n",
       "    </tr>\n",
       "    <tr>\n",
       "      <th>Chobe</th>\n",
       "      <td>3166</td>\n",
       "    </tr>\n",
       "    <tr>\n",
       "      <th>Francistown East</th>\n",
       "      <td>4640</td>\n",
       "    </tr>\n",
       "    <tr>\n",
       "      <th>Francistown South</th>\n",
       "      <td>6772</td>\n",
       "    </tr>\n",
       "    <tr>\n",
       "      <th>Francistown West</th>\n",
       "      <td>4568</td>\n",
       "    </tr>\n",
       "    <tr>\n",
       "      <th>Gabane-Mmankgodi</th>\n",
       "      <td>10211</td>\n",
       "    </tr>\n",
       "    <tr>\n",
       "      <th>Gaborone Bonnington North</th>\n",
       "      <td>10081</td>\n",
       "    </tr>\n",
       "    <tr>\n",
       "      <th>Gaborone Bonnington South</th>\n",
       "      <td>7967</td>\n",
       "    </tr>\n",
       "  </tbody>\n",
       "</table>\n",
       "</div>"
      ],
      "text/plain": [
       "                           party_votes\n",
       "constituency_name                     \n",
       "Bobonong                          7392\n",
       "Boteti East                       3198\n",
       "Boteti West                       6171\n",
       "Chobe                             3166\n",
       "Francistown East                  4640\n",
       "Francistown South                 6772\n",
       "Francistown West                  4568\n",
       "Gabane-Mmankgodi                 10211\n",
       "Gaborone Bonnington North        10081\n",
       "Gaborone Bonnington South         7967"
      ]
     },
     "execution_count": 65,
     "metadata": {},
     "output_type": "execute_result"
    }
   ],
   "source": [
    "non_bdp_votes.reset_index()\n",
    "non_bdp_votes.head(10)"
   ]
  },
  {
   "cell_type": "markdown",
   "metadata": {},
   "source": [
    "**Task:** Rename the **party_votes** column to  **opposition_votes**."
   ]
  },
  {
   "cell_type": "code",
   "execution_count": 66,
   "metadata": {},
   "outputs": [],
   "source": [
    "non_bdp_votes.rename(columns = {'party_votes':'opposition_votes'}, inplace=True)"
   ]
  },
  {
   "cell_type": "markdown",
   "metadata": {},
   "source": [
    "**Task:** From the **bdp_votes** dataframe select only the **constituency_name** and **party_votes** columns. Assign the resulting dataframe to bdp_votes."
   ]
  },
  {
   "cell_type": "code",
   "execution_count": 67,
   "metadata": {
    "collapsed": true
   },
   "outputs": [],
   "source": [
    "bdp_votes = bdp_votes[['constituency_name', 'party_votes']]"
   ]
  },
  {
   "cell_type": "markdown",
   "metadata": {},
   "source": [
    "**Task:** Rename the **party_votes** column of the **bdp_votes** dataframe to **bdp_votes**"
   ]
  },
  {
   "cell_type": "code",
   "execution_count": 68,
   "metadata": {},
   "outputs": [
    {
     "data": {
      "text/html": [
       "<div>\n",
       "<style scoped>\n",
       "    .dataframe tbody tr th:only-of-type {\n",
       "        vertical-align: middle;\n",
       "    }\n",
       "\n",
       "    .dataframe tbody tr th {\n",
       "        vertical-align: top;\n",
       "    }\n",
       "\n",
       "    .dataframe thead th {\n",
       "        text-align: right;\n",
       "    }\n",
       "</style>\n",
       "<table border=\"1\" class=\"dataframe\">\n",
       "  <thead>\n",
       "    <tr style=\"text-align: right;\">\n",
       "      <th></th>\n",
       "      <th>constituency_name</th>\n",
       "      <th>bdp_votes</th>\n",
       "    </tr>\n",
       "  </thead>\n",
       "  <tbody>\n",
       "    <tr>\n",
       "      <th>0</th>\n",
       "      <td>Chobe</td>\n",
       "      <td>4114</td>\n",
       "    </tr>\n",
       "    <tr>\n",
       "      <th>2</th>\n",
       "      <td>Maun East</td>\n",
       "      <td>6046</td>\n",
       "    </tr>\n",
       "    <tr>\n",
       "      <th>7</th>\n",
       "      <td>Maun West</td>\n",
       "      <td>5335</td>\n",
       "    </tr>\n",
       "    <tr>\n",
       "      <th>9</th>\n",
       "      <td>Ngami</td>\n",
       "      <td>7063</td>\n",
       "    </tr>\n",
       "    <tr>\n",
       "      <th>13</th>\n",
       "      <td>Okavango</td>\n",
       "      <td>5473</td>\n",
       "    </tr>\n",
       "    <tr>\n",
       "      <th>15</th>\n",
       "      <td>Tati East</td>\n",
       "      <td>5864</td>\n",
       "    </tr>\n",
       "    <tr>\n",
       "      <th>18</th>\n",
       "      <td>Tati West</td>\n",
       "      <td>4510</td>\n",
       "    </tr>\n",
       "    <tr>\n",
       "      <th>22</th>\n",
       "      <td>Francistown East</td>\n",
       "      <td>3818</td>\n",
       "    </tr>\n",
       "    <tr>\n",
       "      <th>26</th>\n",
       "      <td>Francistown South</td>\n",
       "      <td>3289</td>\n",
       "    </tr>\n",
       "    <tr>\n",
       "      <th>28</th>\n",
       "      <td>Francistown West</td>\n",
       "      <td>5305</td>\n",
       "    </tr>\n",
       "  </tbody>\n",
       "</table>\n",
       "</div>"
      ],
      "text/plain": [
       "    constituency_name  bdp_votes\n",
       "0               Chobe       4114\n",
       "2           Maun East       6046\n",
       "7           Maun West       5335\n",
       "9               Ngami       7063\n",
       "13           Okavango       5473\n",
       "15          Tati East       5864\n",
       "18          Tati West       4510\n",
       "22   Francistown East       3818\n",
       "26  Francistown South       3289\n",
       "28   Francistown West       5305"
      ]
     },
     "execution_count": 68,
     "metadata": {},
     "output_type": "execute_result"
    }
   ],
   "source": [
    "bdp_votes.rename(columns={'party_votes':'bdp_votes'}, inplace=True)\n",
    "bdp_votes.head(10)"
   ]
  },
  {
   "cell_type": "code",
   "execution_count": 69,
   "metadata": {
    "collapsed": true
   },
   "outputs": [],
   "source": [
    "bdp_votes.set_index('constituency_name', inplace=True)"
   ]
  },
  {
   "cell_type": "code",
   "execution_count": 70,
   "metadata": {},
   "outputs": [
    {
     "data": {
      "text/html": [
       "<div>\n",
       "<style scoped>\n",
       "    .dataframe tbody tr th:only-of-type {\n",
       "        vertical-align: middle;\n",
       "    }\n",
       "\n",
       "    .dataframe tbody tr th {\n",
       "        vertical-align: top;\n",
       "    }\n",
       "\n",
       "    .dataframe thead th {\n",
       "        text-align: right;\n",
       "    }\n",
       "</style>\n",
       "<table border=\"1\" class=\"dataframe\">\n",
       "  <thead>\n",
       "    <tr style=\"text-align: right;\">\n",
       "      <th></th>\n",
       "      <th>opposition_votes</th>\n",
       "    </tr>\n",
       "    <tr>\n",
       "      <th>constituency_name</th>\n",
       "      <th></th>\n",
       "    </tr>\n",
       "  </thead>\n",
       "  <tbody>\n",
       "    <tr>\n",
       "      <th>Bobonong</th>\n",
       "      <td>7392</td>\n",
       "    </tr>\n",
       "    <tr>\n",
       "      <th>Boteti East</th>\n",
       "      <td>3198</td>\n",
       "    </tr>\n",
       "    <tr>\n",
       "      <th>Boteti West</th>\n",
       "      <td>6171</td>\n",
       "    </tr>\n",
       "    <tr>\n",
       "      <th>Chobe</th>\n",
       "      <td>3166</td>\n",
       "    </tr>\n",
       "    <tr>\n",
       "      <th>Francistown East</th>\n",
       "      <td>4640</td>\n",
       "    </tr>\n",
       "    <tr>\n",
       "      <th>Francistown South</th>\n",
       "      <td>6772</td>\n",
       "    </tr>\n",
       "    <tr>\n",
       "      <th>Francistown West</th>\n",
       "      <td>4568</td>\n",
       "    </tr>\n",
       "    <tr>\n",
       "      <th>Gabane-Mmankgodi</th>\n",
       "      <td>10211</td>\n",
       "    </tr>\n",
       "    <tr>\n",
       "      <th>Gaborone Bonnington North</th>\n",
       "      <td>10081</td>\n",
       "    </tr>\n",
       "    <tr>\n",
       "      <th>Gaborone Bonnington South</th>\n",
       "      <td>7967</td>\n",
       "    </tr>\n",
       "  </tbody>\n",
       "</table>\n",
       "</div>"
      ],
      "text/plain": [
       "                           opposition_votes\n",
       "constituency_name                          \n",
       "Bobonong                               7392\n",
       "Boteti East                            3198\n",
       "Boteti West                            6171\n",
       "Chobe                                  3166\n",
       "Francistown East                       4640\n",
       "Francistown South                      6772\n",
       "Francistown West                       4568\n",
       "Gabane-Mmankgodi                      10211\n",
       "Gaborone Bonnington North             10081\n",
       "Gaborone Bonnington South              7967"
      ]
     },
     "execution_count": 70,
     "metadata": {},
     "output_type": "execute_result"
    }
   ],
   "source": [
    "non_bdp_votes.head(10)"
   ]
  },
  {
   "cell_type": "markdown",
   "metadata": {},
   "source": [
    "We will then proceed to combine the **bdp_votes** and **non_bdp_votes** dataframes. We are now in a good position to support or refut the **BONUS Exercise** claim."
   ]
  },
  {
   "cell_type": "markdown",
   "metadata": {},
   "source": [
    "### Combining & Joining Dataframes\n",
    "\n",
    "- concat() method\n",
    "- merge() method\n"
   ]
  },
  {
   "cell_type": "code",
   "execution_count": 71,
   "metadata": {
    "collapsed": true
   },
   "outputs": [],
   "source": [
    "hypothetical_resuls = pd.concat([bdp_votes, non_bdp_votes], axis=1)"
   ]
  },
  {
   "cell_type": "code",
   "execution_count": 72,
   "metadata": {},
   "outputs": [
    {
     "data": {
      "text/html": [
       "<div>\n",
       "<style scoped>\n",
       "    .dataframe tbody tr th:only-of-type {\n",
       "        vertical-align: middle;\n",
       "    }\n",
       "\n",
       "    .dataframe tbody tr th {\n",
       "        vertical-align: top;\n",
       "    }\n",
       "\n",
       "    .dataframe thead th {\n",
       "        text-align: right;\n",
       "    }\n",
       "</style>\n",
       "<table border=\"1\" class=\"dataframe\">\n",
       "  <thead>\n",
       "    <tr style=\"text-align: right;\">\n",
       "      <th></th>\n",
       "      <th>bdp_votes</th>\n",
       "      <th>opposition_votes</th>\n",
       "    </tr>\n",
       "  </thead>\n",
       "  <tbody>\n",
       "    <tr>\n",
       "      <th>Bobonong</th>\n",
       "      <td>7350</td>\n",
       "      <td>7392</td>\n",
       "    </tr>\n",
       "    <tr>\n",
       "      <th>Boteti East</th>\n",
       "      <td>5530</td>\n",
       "      <td>3198</td>\n",
       "    </tr>\n",
       "    <tr>\n",
       "      <th>Boteti West</th>\n",
       "      <td>5790</td>\n",
       "      <td>6171</td>\n",
       "    </tr>\n",
       "    <tr>\n",
       "      <th>Chobe</th>\n",
       "      <td>4114</td>\n",
       "      <td>3166</td>\n",
       "    </tr>\n",
       "    <tr>\n",
       "      <th>Francistown East</th>\n",
       "      <td>3818</td>\n",
       "      <td>4640</td>\n",
       "    </tr>\n",
       "  </tbody>\n",
       "</table>\n",
       "</div>"
      ],
      "text/plain": [
       "                  bdp_votes  opposition_votes\n",
       "Bobonong               7350              7392\n",
       "Boteti East            5530              3198\n",
       "Boteti West            5790              6171\n",
       "Chobe                  4114              3166\n",
       "Francistown East       3818              4640"
      ]
     },
     "execution_count": 72,
     "metadata": {},
     "output_type": "execute_result"
    }
   ],
   "source": [
    "hypothetical_resuls.head()"
   ]
  },
  {
   "cell_type": "markdown",
   "metadata": {},
   "source": [
    "**Task:** Create a column **opposition_win** in the **bdp_opposition** dataframe that indicates whether opposition votes are more than bpd votes."
   ]
  },
  {
   "cell_type": "code",
   "execution_count": 73,
   "metadata": {},
   "outputs": [],
   "source": [
    "hypothetical_resuls['opposition_win'] = (hypothetical_resuls.opposition_votes - hypothetical_resuls.bdp_votes) > 0"
   ]
  },
  {
   "cell_type": "code",
   "execution_count": 74,
   "metadata": {},
   "outputs": [
    {
     "data": {
      "text/html": [
       "<div>\n",
       "<style scoped>\n",
       "    .dataframe tbody tr th:only-of-type {\n",
       "        vertical-align: middle;\n",
       "    }\n",
       "\n",
       "    .dataframe tbody tr th {\n",
       "        vertical-align: top;\n",
       "    }\n",
       "\n",
       "    .dataframe thead th {\n",
       "        text-align: right;\n",
       "    }\n",
       "</style>\n",
       "<table border=\"1\" class=\"dataframe\">\n",
       "  <thead>\n",
       "    <tr style=\"text-align: right;\">\n",
       "      <th></th>\n",
       "      <th>bdp_votes</th>\n",
       "      <th>opposition_votes</th>\n",
       "      <th>opposition_win</th>\n",
       "    </tr>\n",
       "  </thead>\n",
       "  <tbody>\n",
       "    <tr>\n",
       "      <th>Bobonong</th>\n",
       "      <td>7350</td>\n",
       "      <td>7392</td>\n",
       "      <td>True</td>\n",
       "    </tr>\n",
       "    <tr>\n",
       "      <th>Boteti East</th>\n",
       "      <td>5530</td>\n",
       "      <td>3198</td>\n",
       "      <td>False</td>\n",
       "    </tr>\n",
       "    <tr>\n",
       "      <th>Boteti West</th>\n",
       "      <td>5790</td>\n",
       "      <td>6171</td>\n",
       "      <td>True</td>\n",
       "    </tr>\n",
       "    <tr>\n",
       "      <th>Chobe</th>\n",
       "      <td>4114</td>\n",
       "      <td>3166</td>\n",
       "      <td>False</td>\n",
       "    </tr>\n",
       "    <tr>\n",
       "      <th>Francistown East</th>\n",
       "      <td>3818</td>\n",
       "      <td>4640</td>\n",
       "      <td>True</td>\n",
       "    </tr>\n",
       "  </tbody>\n",
       "</table>\n",
       "</div>"
      ],
      "text/plain": [
       "                  bdp_votes  opposition_votes  opposition_win\n",
       "Bobonong               7350              7392            True\n",
       "Boteti East            5530              3198           False\n",
       "Boteti West            5790              6171            True\n",
       "Chobe                  4114              3166           False\n",
       "Francistown East       3818              4640            True"
      ]
     },
     "execution_count": 74,
     "metadata": {},
     "output_type": "execute_result"
    }
   ],
   "source": [
    "hypothetical_resuls.head()"
   ]
  },
  {
   "cell_type": "code",
   "execution_count": 75,
   "metadata": {},
   "outputs": [
    {
     "data": {
      "text/plain": [
       "36"
      ]
     },
     "execution_count": 75,
     "metadata": {},
     "output_type": "execute_result"
    }
   ],
   "source": [
    "len(hypothetical_resuls[hypothetical_resuls.opposition_win== True])"
   ]
  },
  {
   "cell_type": "code",
   "execution_count": 76,
   "metadata": {},
   "outputs": [
    {
     "data": {
      "text/plain": [
       "21"
      ]
     },
     "execution_count": 76,
     "metadata": {},
     "output_type": "execute_result"
    }
   ],
   "source": [
    "len(hypothetical_resuls[hypothetical_resuls.opposition_win == False])"
   ]
  },
  {
   "cell_type": "code",
   "execution_count": 77,
   "metadata": {},
   "outputs": [
    {
     "data": {
      "text/html": [
       "<div>\n",
       "<style scoped>\n",
       "    .dataframe tbody tr th:only-of-type {\n",
       "        vertical-align: middle;\n",
       "    }\n",
       "\n",
       "    .dataframe tbody tr th {\n",
       "        vertical-align: top;\n",
       "    }\n",
       "\n",
       "    .dataframe thead th {\n",
       "        text-align: right;\n",
       "    }\n",
       "</style>\n",
       "<table border=\"1\" class=\"dataframe\">\n",
       "  <thead>\n",
       "    <tr style=\"text-align: right;\">\n",
       "      <th></th>\n",
       "      <th>bdp_votes</th>\n",
       "      <th>opposition_votes</th>\n",
       "      <th>opposition_win</th>\n",
       "    </tr>\n",
       "  </thead>\n",
       "  <tbody>\n",
       "    <tr>\n",
       "      <th>Bobonong</th>\n",
       "      <td>7350</td>\n",
       "      <td>7392</td>\n",
       "      <td>True</td>\n",
       "    </tr>\n",
       "    <tr>\n",
       "      <th>Boteti West</th>\n",
       "      <td>5790</td>\n",
       "      <td>6171</td>\n",
       "      <td>True</td>\n",
       "    </tr>\n",
       "    <tr>\n",
       "      <th>Francistown East</th>\n",
       "      <td>3818</td>\n",
       "      <td>4640</td>\n",
       "      <td>True</td>\n",
       "    </tr>\n",
       "    <tr>\n",
       "      <th>Francistown South</th>\n",
       "      <td>3289</td>\n",
       "      <td>6772</td>\n",
       "      <td>True</td>\n",
       "    </tr>\n",
       "    <tr>\n",
       "      <th>Gabane-Mmankgodi</th>\n",
       "      <td>6833</td>\n",
       "      <td>10211</td>\n",
       "      <td>True</td>\n",
       "    </tr>\n",
       "    <tr>\n",
       "      <th>Gaborone Bonnington North</th>\n",
       "      <td>4222</td>\n",
       "      <td>10081</td>\n",
       "      <td>True</td>\n",
       "    </tr>\n",
       "    <tr>\n",
       "      <th>Gaborone Bonnington South</th>\n",
       "      <td>3597</td>\n",
       "      <td>7967</td>\n",
       "      <td>True</td>\n",
       "    </tr>\n",
       "    <tr>\n",
       "      <th>Gaborone Central</th>\n",
       "      <td>3191</td>\n",
       "      <td>8363</td>\n",
       "      <td>True</td>\n",
       "    </tr>\n",
       "    <tr>\n",
       "      <th>Gaborone North</th>\n",
       "      <td>4109</td>\n",
       "      <td>8895</td>\n",
       "      <td>True</td>\n",
       "    </tr>\n",
       "    <tr>\n",
       "      <th>Gaborone South</th>\n",
       "      <td>3872</td>\n",
       "      <td>7422</td>\n",
       "      <td>True</td>\n",
       "    </tr>\n",
       "    <tr>\n",
       "      <th>Ghanzi North</th>\n",
       "      <td>3685</td>\n",
       "      <td>3999</td>\n",
       "      <td>True</td>\n",
       "    </tr>\n",
       "    <tr>\n",
       "      <th>Goodhope-Mabule</th>\n",
       "      <td>6101</td>\n",
       "      <td>7429</td>\n",
       "      <td>True</td>\n",
       "    </tr>\n",
       "    <tr>\n",
       "      <th>Jwaneng-Mabutsane</th>\n",
       "      <td>6069</td>\n",
       "      <td>7154</td>\n",
       "      <td>True</td>\n",
       "    </tr>\n",
       "    <tr>\n",
       "      <th>Kanye North</th>\n",
       "      <td>5726</td>\n",
       "      <td>10157</td>\n",
       "      <td>True</td>\n",
       "    </tr>\n",
       "    <tr>\n",
       "      <th>Kanye South</th>\n",
       "      <td>6990</td>\n",
       "      <td>8771</td>\n",
       "      <td>True</td>\n",
       "    </tr>\n",
       "    <tr>\n",
       "      <th>Lentsweletau-Mmopane</th>\n",
       "      <td>7170</td>\n",
       "      <td>9269</td>\n",
       "      <td>True</td>\n",
       "    </tr>\n",
       "    <tr>\n",
       "      <th>Letlhakeng-Lephephe</th>\n",
       "      <td>5265</td>\n",
       "      <td>5649</td>\n",
       "      <td>True</td>\n",
       "    </tr>\n",
       "    <tr>\n",
       "      <th>Lobatse</th>\n",
       "      <td>5485</td>\n",
       "      <td>5530</td>\n",
       "      <td>True</td>\n",
       "    </tr>\n",
       "    <tr>\n",
       "      <th>Mahalapye East</th>\n",
       "      <td>4406</td>\n",
       "      <td>4679</td>\n",
       "      <td>True</td>\n",
       "    </tr>\n",
       "    <tr>\n",
       "      <th>Maun East</th>\n",
       "      <td>6046</td>\n",
       "      <td>7410</td>\n",
       "      <td>True</td>\n",
       "    </tr>\n",
       "    <tr>\n",
       "      <th>Maun West</th>\n",
       "      <td>5335</td>\n",
       "      <td>9628</td>\n",
       "      <td>True</td>\n",
       "    </tr>\n",
       "    <tr>\n",
       "      <th>Mochudi East</th>\n",
       "      <td>5941</td>\n",
       "      <td>11511</td>\n",
       "      <td>True</td>\n",
       "    </tr>\n",
       "    <tr>\n",
       "      <th>Mochudi West</th>\n",
       "      <td>6085</td>\n",
       "      <td>12414</td>\n",
       "      <td>True</td>\n",
       "    </tr>\n",
       "    <tr>\n",
       "      <th>Mogoditshane</th>\n",
       "      <td>3787</td>\n",
       "      <td>8026</td>\n",
       "      <td>True</td>\n",
       "    </tr>\n",
       "    <tr>\n",
       "      <th>Molepolole North</th>\n",
       "      <td>5990</td>\n",
       "      <td>8975</td>\n",
       "      <td>True</td>\n",
       "    </tr>\n",
       "    <tr>\n",
       "      <th>Molepolole South</th>\n",
       "      <td>5580</td>\n",
       "      <td>6167</td>\n",
       "      <td>True</td>\n",
       "    </tr>\n",
       "    <tr>\n",
       "      <th>Nata-Gweta</th>\n",
       "      <td>3424</td>\n",
       "      <td>5885</td>\n",
       "      <td>True</td>\n",
       "    </tr>\n",
       "    <tr>\n",
       "      <th>Ngami</th>\n",
       "      <td>7063</td>\n",
       "      <td>7817</td>\n",
       "      <td>True</td>\n",
       "    </tr>\n",
       "    <tr>\n",
       "      <th>Okavango</th>\n",
       "      <td>5473</td>\n",
       "      <td>7079</td>\n",
       "      <td>True</td>\n",
       "    </tr>\n",
       "    <tr>\n",
       "      <th>Ramotswa</th>\n",
       "      <td>6689</td>\n",
       "      <td>11117</td>\n",
       "      <td>True</td>\n",
       "    </tr>\n",
       "    <tr>\n",
       "      <th>Selibe Phikwe East</th>\n",
       "      <td>3376</td>\n",
       "      <td>4931</td>\n",
       "      <td>True</td>\n",
       "    </tr>\n",
       "    <tr>\n",
       "      <th>Selibe Phikwe West</th>\n",
       "      <td>3187</td>\n",
       "      <td>5462</td>\n",
       "      <td>True</td>\n",
       "    </tr>\n",
       "    <tr>\n",
       "      <th>Takatokwane</th>\n",
       "      <td>5074</td>\n",
       "      <td>5455</td>\n",
       "      <td>True</td>\n",
       "    </tr>\n",
       "    <tr>\n",
       "      <th>Tati West</th>\n",
       "      <td>4510</td>\n",
       "      <td>5996</td>\n",
       "      <td>True</td>\n",
       "    </tr>\n",
       "    <tr>\n",
       "      <th>Thamaga-Kumakwane</th>\n",
       "      <td>7053</td>\n",
       "      <td>7364</td>\n",
       "      <td>True</td>\n",
       "    </tr>\n",
       "    <tr>\n",
       "      <th>Tlokweng</th>\n",
       "      <td>3867</td>\n",
       "      <td>7637</td>\n",
       "      <td>True</td>\n",
       "    </tr>\n",
       "  </tbody>\n",
       "</table>\n",
       "</div>"
      ],
      "text/plain": [
       "                           bdp_votes  opposition_votes  opposition_win\n",
       "Bobonong                        7350              7392            True\n",
       "Boteti West                     5790              6171            True\n",
       "Francistown East                3818              4640            True\n",
       "Francistown South               3289              6772            True\n",
       "Gabane-Mmankgodi                6833             10211            True\n",
       "Gaborone Bonnington North       4222             10081            True\n",
       "Gaborone Bonnington South       3597              7967            True\n",
       "Gaborone Central                3191              8363            True\n",
       "Gaborone North                  4109              8895            True\n",
       "Gaborone South                  3872              7422            True\n",
       "Ghanzi North                    3685              3999            True\n",
       "Goodhope-Mabule                 6101              7429            True\n",
       "Jwaneng-Mabutsane               6069              7154            True\n",
       "Kanye North                     5726             10157            True\n",
       "Kanye South                     6990              8771            True\n",
       "Lentsweletau-Mmopane            7170              9269            True\n",
       "Letlhakeng-Lephephe             5265              5649            True\n",
       "Lobatse                         5485              5530            True\n",
       "Mahalapye East                  4406              4679            True\n",
       "Maun East                       6046              7410            True\n",
       "Maun West                       5335              9628            True\n",
       "Mochudi East                    5941             11511            True\n",
       "Mochudi West                    6085             12414            True\n",
       "Mogoditshane                    3787              8026            True\n",
       "Molepolole North                5990              8975            True\n",
       "Molepolole South                5580              6167            True\n",
       "Nata-Gweta                      3424              5885            True\n",
       "Ngami                           7063              7817            True\n",
       "Okavango                        5473              7079            True\n",
       "Ramotswa                        6689             11117            True\n",
       "Selibe Phikwe East              3376              4931            True\n",
       "Selibe Phikwe West              3187              5462            True\n",
       "Takatokwane                     5074              5455            True\n",
       "Tati West                       4510              5996            True\n",
       "Thamaga-Kumakwane               7053              7364            True\n",
       "Tlokweng                        3867              7637            True"
      ]
     },
     "execution_count": 77,
     "metadata": {},
     "output_type": "execute_result"
    }
   ],
   "source": [
    "hypothetical_resuls[hypothetical_resuls.opposition_win == True]"
   ]
  },
  {
   "cell_type": "markdown",
   "metadata": {},
   "source": [
    "**Task:** Create a column **votes_difference** in the **hypothetical_resuls** dataframe that the difference between **bdp_votes** and **opposition_votes**"
   ]
  },
  {
   "cell_type": "code",
   "execution_count": 78,
   "metadata": {
    "collapsed": true
   },
   "outputs": [],
   "source": [
    "hypothetical_resuls['votes_difference'] = (hypothetical_resuls.bdp_votes - hypothetical_resuls.opposition_votes)"
   ]
  },
  {
   "cell_type": "code",
   "execution_count": 79,
   "metadata": {},
   "outputs": [
    {
     "data": {
      "text/html": [
       "<div>\n",
       "<style scoped>\n",
       "    .dataframe tbody tr th:only-of-type {\n",
       "        vertical-align: middle;\n",
       "    }\n",
       "\n",
       "    .dataframe tbody tr th {\n",
       "        vertical-align: top;\n",
       "    }\n",
       "\n",
       "    .dataframe thead th {\n",
       "        text-align: right;\n",
       "    }\n",
       "</style>\n",
       "<table border=\"1\" class=\"dataframe\">\n",
       "  <thead>\n",
       "    <tr style=\"text-align: right;\">\n",
       "      <th></th>\n",
       "      <th>bdp_votes</th>\n",
       "      <th>opposition_votes</th>\n",
       "      <th>opposition_win</th>\n",
       "      <th>votes_difference</th>\n",
       "    </tr>\n",
       "  </thead>\n",
       "  <tbody>\n",
       "    <tr>\n",
       "      <th>Bobonong</th>\n",
       "      <td>7350</td>\n",
       "      <td>7392</td>\n",
       "      <td>True</td>\n",
       "      <td>-42</td>\n",
       "    </tr>\n",
       "    <tr>\n",
       "      <th>Boteti East</th>\n",
       "      <td>5530</td>\n",
       "      <td>3198</td>\n",
       "      <td>False</td>\n",
       "      <td>2332</td>\n",
       "    </tr>\n",
       "    <tr>\n",
       "      <th>Boteti West</th>\n",
       "      <td>5790</td>\n",
       "      <td>6171</td>\n",
       "      <td>True</td>\n",
       "      <td>-381</td>\n",
       "    </tr>\n",
       "    <tr>\n",
       "      <th>Chobe</th>\n",
       "      <td>4114</td>\n",
       "      <td>3166</td>\n",
       "      <td>False</td>\n",
       "      <td>948</td>\n",
       "    </tr>\n",
       "    <tr>\n",
       "      <th>Francistown East</th>\n",
       "      <td>3818</td>\n",
       "      <td>4640</td>\n",
       "      <td>True</td>\n",
       "      <td>-822</td>\n",
       "    </tr>\n",
       "    <tr>\n",
       "      <th>Francistown South</th>\n",
       "      <td>3289</td>\n",
       "      <td>6772</td>\n",
       "      <td>True</td>\n",
       "      <td>-3483</td>\n",
       "    </tr>\n",
       "    <tr>\n",
       "      <th>Francistown West</th>\n",
       "      <td>5305</td>\n",
       "      <td>4568</td>\n",
       "      <td>False</td>\n",
       "      <td>737</td>\n",
       "    </tr>\n",
       "    <tr>\n",
       "      <th>Gabane-Mmankgodi</th>\n",
       "      <td>6833</td>\n",
       "      <td>10211</td>\n",
       "      <td>True</td>\n",
       "      <td>-3378</td>\n",
       "    </tr>\n",
       "    <tr>\n",
       "      <th>Gaborone Bonnington North</th>\n",
       "      <td>4222</td>\n",
       "      <td>10081</td>\n",
       "      <td>True</td>\n",
       "      <td>-5859</td>\n",
       "    </tr>\n",
       "    <tr>\n",
       "      <th>Gaborone Bonnington South</th>\n",
       "      <td>3597</td>\n",
       "      <td>7967</td>\n",
       "      <td>True</td>\n",
       "      <td>-4370</td>\n",
       "    </tr>\n",
       "  </tbody>\n",
       "</table>\n",
       "</div>"
      ],
      "text/plain": [
       "                           bdp_votes  opposition_votes  opposition_win  \\\n",
       "Bobonong                        7350              7392            True   \n",
       "Boteti East                     5530              3198           False   \n",
       "Boteti West                     5790              6171            True   \n",
       "Chobe                           4114              3166           False   \n",
       "Francistown East                3818              4640            True   \n",
       "Francistown South               3289              6772            True   \n",
       "Francistown West                5305              4568           False   \n",
       "Gabane-Mmankgodi                6833             10211            True   \n",
       "Gaborone Bonnington North       4222             10081            True   \n",
       "Gaborone Bonnington South       3597              7967            True   \n",
       "\n",
       "                           votes_difference  \n",
       "Bobonong                                -42  \n",
       "Boteti East                            2332  \n",
       "Boteti West                            -381  \n",
       "Chobe                                   948  \n",
       "Francistown East                       -822  \n",
       "Francistown South                     -3483  \n",
       "Francistown West                        737  \n",
       "Gabane-Mmankgodi                      -3378  \n",
       "Gaborone Bonnington North             -5859  \n",
       "Gaborone Bonnington South             -4370  "
      ]
     },
     "execution_count": 79,
     "metadata": {},
     "output_type": "execute_result"
    }
   ],
   "source": [
    "hypothetical_resuls.head(10)"
   ]
  },
  {
   "cell_type": "markdown",
   "metadata": {},
   "source": [
    "We have included constituencies that the opposition won in constructing the **hypothetical_resuls** dataframe.\n",
    "Constituencies won by the opposition should be excluded.\n",
    "\n",
    "This will allow us to identify additional constituencies the opposition might have won with combined votes.\n",
    "\n"
   ]
  },
  {
   "cell_type": "markdown",
   "metadata": {},
   "source": [
    "**Task:** Select **constituency_name**, **party_name** columns from the winners dataframe into a\n",
    "dataframe named **winning_party**"
   ]
  },
  {
   "cell_type": "code",
   "execution_count": 80,
   "metadata": {},
   "outputs": [
    {
     "data": {
      "text/html": [
       "<div>\n",
       "<style scoped>\n",
       "    .dataframe tbody tr th:only-of-type {\n",
       "        vertical-align: middle;\n",
       "    }\n",
       "\n",
       "    .dataframe tbody tr th {\n",
       "        vertical-align: top;\n",
       "    }\n",
       "\n",
       "    .dataframe thead th {\n",
       "        text-align: right;\n",
       "    }\n",
       "</style>\n",
       "<table border=\"1\" class=\"dataframe\">\n",
       "  <thead>\n",
       "    <tr style=\"text-align: right;\">\n",
       "      <th></th>\n",
       "      <th>constituency_name</th>\n",
       "      <th>party_name</th>\n",
       "    </tr>\n",
       "  </thead>\n",
       "  <tbody>\n",
       "    <tr>\n",
       "      <th>0</th>\n",
       "      <td>Chobe</td>\n",
       "      <td>BDP</td>\n",
       "    </tr>\n",
       "    <tr>\n",
       "      <th>2</th>\n",
       "      <td>Maun East</td>\n",
       "      <td>BDP</td>\n",
       "    </tr>\n",
       "    <tr>\n",
       "      <th>6</th>\n",
       "      <td>Maun West</td>\n",
       "      <td>UDC</td>\n",
       "    </tr>\n",
       "    <tr>\n",
       "      <th>9</th>\n",
       "      <td>Ngami</td>\n",
       "      <td>BDP</td>\n",
       "    </tr>\n",
       "    <tr>\n",
       "      <th>12</th>\n",
       "      <td>Okavango</td>\n",
       "      <td>BCP</td>\n",
       "    </tr>\n",
       "  </tbody>\n",
       "</table>\n",
       "</div>"
      ],
      "text/plain": [
       "   constituency_name party_name\n",
       "0              Chobe        BDP\n",
       "2          Maun East        BDP\n",
       "6          Maun West        UDC\n",
       "9              Ngami        BDP\n",
       "12          Okavango        BCP"
      ]
     },
     "execution_count": 80,
     "metadata": {},
     "output_type": "execute_result"
    }
   ],
   "source": [
    "winning_party = winners[['constituency_name', 'party_name']]\n",
    "winning_party.head()"
   ]
  },
  {
   "cell_type": "code",
   "execution_count": 81,
   "metadata": {},
   "outputs": [
    {
     "name": "stderr",
     "output_type": "stream",
     "text": [
      "/home/tebogo/anaconda3/lib/python3.6/site-packages/pandas/core/frame.py:3027: SettingWithCopyWarning: \n",
      "A value is trying to be set on a copy of a slice from a DataFrame\n",
      "\n",
      "See the caveats in the documentation: http://pandas.pydata.org/pandas-docs/stable/indexing.html#indexing-view-versus-copy\n",
      "  return super(DataFrame, self).rename(**kwargs)\n"
     ]
    }
   ],
   "source": [
    "winning_party.rename(columns={'party_name':'winning_party'}, inplace=True)"
   ]
  },
  {
   "cell_type": "markdown",
   "metadata": {},
   "source": [
    "**Task:** set the **constituency_name** column as the index"
   ]
  },
  {
   "cell_type": "code",
   "execution_count": 82,
   "metadata": {
    "collapsed": true
   },
   "outputs": [],
   "source": [
    "winning_party.set_index('constituency_name', inplace=True)"
   ]
  },
  {
   "cell_type": "markdown",
   "metadata": {},
   "source": [
    "**Task:** Combined the **bdp_opposition** and **winning_party** dataframes"
   ]
  },
  {
   "cell_type": "code",
   "execution_count": 83,
   "metadata": {
    "collapsed": true
   },
   "outputs": [],
   "source": [
    "united_could_win = pd.concat([hypothetical_resuls, winning_party], axis=1)"
   ]
  },
  {
   "cell_type": "code",
   "execution_count": 84,
   "metadata": {},
   "outputs": [
    {
     "data": {
      "text/html": [
       "<div>\n",
       "<style scoped>\n",
       "    .dataframe tbody tr th:only-of-type {\n",
       "        vertical-align: middle;\n",
       "    }\n",
       "\n",
       "    .dataframe tbody tr th {\n",
       "        vertical-align: top;\n",
       "    }\n",
       "\n",
       "    .dataframe thead th {\n",
       "        text-align: right;\n",
       "    }\n",
       "</style>\n",
       "<table border=\"1\" class=\"dataframe\">\n",
       "  <thead>\n",
       "    <tr style=\"text-align: right;\">\n",
       "      <th></th>\n",
       "      <th>bdp_votes</th>\n",
       "      <th>opposition_votes</th>\n",
       "      <th>opposition_win</th>\n",
       "      <th>votes_difference</th>\n",
       "      <th>winning_party</th>\n",
       "    </tr>\n",
       "  </thead>\n",
       "  <tbody>\n",
       "    <tr>\n",
       "      <th>Bobonong</th>\n",
       "      <td>7350</td>\n",
       "      <td>7392</td>\n",
       "      <td>True</td>\n",
       "      <td>-42</td>\n",
       "      <td>BDP</td>\n",
       "    </tr>\n",
       "    <tr>\n",
       "      <th>Boteti East</th>\n",
       "      <td>5530</td>\n",
       "      <td>3198</td>\n",
       "      <td>False</td>\n",
       "      <td>2332</td>\n",
       "      <td>BDP</td>\n",
       "    </tr>\n",
       "    <tr>\n",
       "      <th>Boteti West</th>\n",
       "      <td>5790</td>\n",
       "      <td>6171</td>\n",
       "      <td>True</td>\n",
       "      <td>-381</td>\n",
       "      <td>BDP</td>\n",
       "    </tr>\n",
       "    <tr>\n",
       "      <th>Chobe</th>\n",
       "      <td>4114</td>\n",
       "      <td>3166</td>\n",
       "      <td>False</td>\n",
       "      <td>948</td>\n",
       "      <td>BDP</td>\n",
       "    </tr>\n",
       "    <tr>\n",
       "      <th>Francistown East</th>\n",
       "      <td>3818</td>\n",
       "      <td>4640</td>\n",
       "      <td>True</td>\n",
       "      <td>-822</td>\n",
       "      <td>BDP</td>\n",
       "    </tr>\n",
       "  </tbody>\n",
       "</table>\n",
       "</div>"
      ],
      "text/plain": [
       "                  bdp_votes  opposition_votes  opposition_win  \\\n",
       "Bobonong               7350              7392            True   \n",
       "Boteti East            5530              3198           False   \n",
       "Boteti West            5790              6171            True   \n",
       "Chobe                  4114              3166           False   \n",
       "Francistown East       3818              4640            True   \n",
       "\n",
       "                  votes_difference winning_party  \n",
       "Bobonong                       -42           BDP  \n",
       "Boteti East                   2332           BDP  \n",
       "Boteti West                   -381           BDP  \n",
       "Chobe                          948           BDP  \n",
       "Francistown East              -822           BDP  "
      ]
     },
     "execution_count": 84,
     "metadata": {},
     "output_type": "execute_result"
    }
   ],
   "source": [
    "united_could_win.head()"
   ]
  },
  {
   "cell_type": "markdown",
   "metadata": {},
   "source": [
    "**Question 22:** Which constituencies won by the ruling could have been won if opposition was united?"
   ]
  },
  {
   "cell_type": "code",
   "execution_count": 85,
   "metadata": {},
   "outputs": [
    {
     "data": {
      "text/html": [
       "<div>\n",
       "<style scoped>\n",
       "    .dataframe tbody tr th:only-of-type {\n",
       "        vertical-align: middle;\n",
       "    }\n",
       "\n",
       "    .dataframe tbody tr th {\n",
       "        vertical-align: top;\n",
       "    }\n",
       "\n",
       "    .dataframe thead th {\n",
       "        text-align: right;\n",
       "    }\n",
       "</style>\n",
       "<table border=\"1\" class=\"dataframe\">\n",
       "  <thead>\n",
       "    <tr style=\"text-align: right;\">\n",
       "      <th></th>\n",
       "      <th>bdp_votes</th>\n",
       "      <th>opposition_votes</th>\n",
       "      <th>opposition_win</th>\n",
       "      <th>votes_difference</th>\n",
       "      <th>winning_party</th>\n",
       "    </tr>\n",
       "  </thead>\n",
       "  <tbody>\n",
       "    <tr>\n",
       "      <th>Bobonong</th>\n",
       "      <td>7350</td>\n",
       "      <td>7392</td>\n",
       "      <td>True</td>\n",
       "      <td>-42</td>\n",
       "      <td>BDP</td>\n",
       "    </tr>\n",
       "    <tr>\n",
       "      <th>Boteti West</th>\n",
       "      <td>5790</td>\n",
       "      <td>6171</td>\n",
       "      <td>True</td>\n",
       "      <td>-381</td>\n",
       "      <td>BDP</td>\n",
       "    </tr>\n",
       "    <tr>\n",
       "      <th>Francistown East</th>\n",
       "      <td>3818</td>\n",
       "      <td>4640</td>\n",
       "      <td>True</td>\n",
       "      <td>-822</td>\n",
       "      <td>BDP</td>\n",
       "    </tr>\n",
       "    <tr>\n",
       "      <th>Gaborone South</th>\n",
       "      <td>3872</td>\n",
       "      <td>7422</td>\n",
       "      <td>True</td>\n",
       "      <td>-3550</td>\n",
       "      <td>BDP</td>\n",
       "    </tr>\n",
       "    <tr>\n",
       "      <th>Kanye North</th>\n",
       "      <td>5726</td>\n",
       "      <td>10157</td>\n",
       "      <td>True</td>\n",
       "      <td>-4431</td>\n",
       "      <td>BDP</td>\n",
       "    </tr>\n",
       "    <tr>\n",
       "      <th>Lentsweletau-Mmopane</th>\n",
       "      <td>7170</td>\n",
       "      <td>9269</td>\n",
       "      <td>True</td>\n",
       "      <td>-2099</td>\n",
       "      <td>BDP</td>\n",
       "    </tr>\n",
       "    <tr>\n",
       "      <th>Letlhakeng-Lephephe</th>\n",
       "      <td>5265</td>\n",
       "      <td>5649</td>\n",
       "      <td>True</td>\n",
       "      <td>-384</td>\n",
       "      <td>BDP</td>\n",
       "    </tr>\n",
       "    <tr>\n",
       "      <th>Lobatse</th>\n",
       "      <td>5485</td>\n",
       "      <td>5530</td>\n",
       "      <td>True</td>\n",
       "      <td>-45</td>\n",
       "      <td>BDP</td>\n",
       "    </tr>\n",
       "    <tr>\n",
       "      <th>Mahalapye East</th>\n",
       "      <td>4406</td>\n",
       "      <td>4679</td>\n",
       "      <td>True</td>\n",
       "      <td>-273</td>\n",
       "      <td>BDP</td>\n",
       "    </tr>\n",
       "    <tr>\n",
       "      <th>Maun East</th>\n",
       "      <td>6046</td>\n",
       "      <td>7410</td>\n",
       "      <td>True</td>\n",
       "      <td>-1364</td>\n",
       "      <td>BDP</td>\n",
       "    </tr>\n",
       "    <tr>\n",
       "      <th>Nata-Gweta</th>\n",
       "      <td>3424</td>\n",
       "      <td>5885</td>\n",
       "      <td>True</td>\n",
       "      <td>-2461</td>\n",
       "      <td>BDP</td>\n",
       "    </tr>\n",
       "    <tr>\n",
       "      <th>Ngami</th>\n",
       "      <td>7063</td>\n",
       "      <td>7817</td>\n",
       "      <td>True</td>\n",
       "      <td>-754</td>\n",
       "      <td>BDP</td>\n",
       "    </tr>\n",
       "    <tr>\n",
       "      <th>Selibe Phikwe East</th>\n",
       "      <td>3376</td>\n",
       "      <td>4931</td>\n",
       "      <td>True</td>\n",
       "      <td>-1555</td>\n",
       "      <td>BDP</td>\n",
       "    </tr>\n",
       "    <tr>\n",
       "      <th>Takatokwane</th>\n",
       "      <td>5074</td>\n",
       "      <td>5455</td>\n",
       "      <td>True</td>\n",
       "      <td>-381</td>\n",
       "      <td>BDP</td>\n",
       "    </tr>\n",
       "    <tr>\n",
       "      <th>Tati West</th>\n",
       "      <td>4510</td>\n",
       "      <td>5996</td>\n",
       "      <td>True</td>\n",
       "      <td>-1486</td>\n",
       "      <td>BDP</td>\n",
       "    </tr>\n",
       "    <tr>\n",
       "      <th>Thamaga-Kumakwane</th>\n",
       "      <td>7053</td>\n",
       "      <td>7364</td>\n",
       "      <td>True</td>\n",
       "      <td>-311</td>\n",
       "      <td>BDP</td>\n",
       "    </tr>\n",
       "  </tbody>\n",
       "</table>\n",
       "</div>"
      ],
      "text/plain": [
       "                      bdp_votes  opposition_votes  opposition_win  \\\n",
       "Bobonong                   7350              7392            True   \n",
       "Boteti West                5790              6171            True   \n",
       "Francistown East           3818              4640            True   \n",
       "Gaborone South             3872              7422            True   \n",
       "Kanye North                5726             10157            True   \n",
       "Lentsweletau-Mmopane       7170              9269            True   \n",
       "Letlhakeng-Lephephe        5265              5649            True   \n",
       "Lobatse                    5485              5530            True   \n",
       "Mahalapye East             4406              4679            True   \n",
       "Maun East                  6046              7410            True   \n",
       "Nata-Gweta                 3424              5885            True   \n",
       "Ngami                      7063              7817            True   \n",
       "Selibe Phikwe East         3376              4931            True   \n",
       "Takatokwane                5074              5455            True   \n",
       "Tati West                  4510              5996            True   \n",
       "Thamaga-Kumakwane          7053              7364            True   \n",
       "\n",
       "                      votes_difference winning_party  \n",
       "Bobonong                           -42           BDP  \n",
       "Boteti West                       -381           BDP  \n",
       "Francistown East                  -822           BDP  \n",
       "Gaborone South                   -3550           BDP  \n",
       "Kanye North                      -4431           BDP  \n",
       "Lentsweletau-Mmopane             -2099           BDP  \n",
       "Letlhakeng-Lephephe               -384           BDP  \n",
       "Lobatse                            -45           BDP  \n",
       "Mahalapye East                    -273           BDP  \n",
       "Maun East                        -1364           BDP  \n",
       "Nata-Gweta                       -2461           BDP  \n",
       "Ngami                             -754           BDP  \n",
       "Selibe Phikwe East               -1555           BDP  \n",
       "Takatokwane                       -381           BDP  \n",
       "Tati West                        -1486           BDP  \n",
       "Thamaga-Kumakwane                 -311           BDP  "
      ]
     },
     "execution_count": 85,
     "metadata": {},
     "output_type": "execute_result"
    }
   ],
   "source": [
    "united_could_win[(united_could_win.winning_party == 'BDP') &\n",
    "                (united_could_win.opposition_win == True)]"
   ]
  },
  {
   "cell_type": "markdown",
   "metadata": {},
   "source": [
    "**Question 23:** How many constituencies won by the ruling could have been won if opposition was united?"
   ]
  },
  {
   "cell_type": "code",
   "execution_count": 86,
   "metadata": {},
   "outputs": [
    {
     "data": {
      "text/plain": [
       "16"
      ]
     },
     "execution_count": 86,
     "metadata": {},
     "output_type": "execute_result"
    }
   ],
   "source": [
    "len(united_could_win[(united_could_win.winning_party == 'BDP') &\n",
    "                (united_could_win.opposition_win == True)])"
   ]
  },
  {
   "cell_type": "code",
   "execution_count": 87,
   "metadata": {},
   "outputs": [
    {
     "data": {
      "text/plain": [
       "bdp_votes           320647\n",
       "opposition_votes    369605\n",
       "dtype: int64"
      ]
     },
     "execution_count": 87,
     "metadata": {},
     "output_type": "execute_result"
    }
   ],
   "source": [
    "united_could_win[['bdp_votes','opposition_votes']].sum()"
   ]
  },
  {
   "cell_type": "markdown",
   "metadata": {},
   "source": [
    "**Question 25:** Which contituencies lost by the opposition could have been won by more than 500 votes?"
   ]
  },
  {
   "cell_type": "code",
   "execution_count": 88,
   "metadata": {},
   "outputs": [
    {
     "data": {
      "text/html": [
       "<div>\n",
       "<style scoped>\n",
       "    .dataframe tbody tr th:only-of-type {\n",
       "        vertical-align: middle;\n",
       "    }\n",
       "\n",
       "    .dataframe tbody tr th {\n",
       "        vertical-align: top;\n",
       "    }\n",
       "\n",
       "    .dataframe thead th {\n",
       "        text-align: right;\n",
       "    }\n",
       "</style>\n",
       "<table border=\"1\" class=\"dataframe\">\n",
       "  <thead>\n",
       "    <tr style=\"text-align: right;\">\n",
       "      <th></th>\n",
       "      <th>bdp_votes</th>\n",
       "      <th>opposition_votes</th>\n",
       "      <th>opposition_win</th>\n",
       "      <th>votes_difference</th>\n",
       "      <th>winning_party</th>\n",
       "    </tr>\n",
       "  </thead>\n",
       "  <tbody>\n",
       "    <tr>\n",
       "      <th>Francistown East</th>\n",
       "      <td>3818</td>\n",
       "      <td>4640</td>\n",
       "      <td>True</td>\n",
       "      <td>-822</td>\n",
       "      <td>BDP</td>\n",
       "    </tr>\n",
       "    <tr>\n",
       "      <th>Gaborone South</th>\n",
       "      <td>3872</td>\n",
       "      <td>7422</td>\n",
       "      <td>True</td>\n",
       "      <td>-3550</td>\n",
       "      <td>BDP</td>\n",
       "    </tr>\n",
       "    <tr>\n",
       "      <th>Kanye North</th>\n",
       "      <td>5726</td>\n",
       "      <td>10157</td>\n",
       "      <td>True</td>\n",
       "      <td>-4431</td>\n",
       "      <td>BDP</td>\n",
       "    </tr>\n",
       "    <tr>\n",
       "      <th>Lentsweletau-Mmopane</th>\n",
       "      <td>7170</td>\n",
       "      <td>9269</td>\n",
       "      <td>True</td>\n",
       "      <td>-2099</td>\n",
       "      <td>BDP</td>\n",
       "    </tr>\n",
       "    <tr>\n",
       "      <th>Maun East</th>\n",
       "      <td>6046</td>\n",
       "      <td>7410</td>\n",
       "      <td>True</td>\n",
       "      <td>-1364</td>\n",
       "      <td>BDP</td>\n",
       "    </tr>\n",
       "    <tr>\n",
       "      <th>Nata-Gweta</th>\n",
       "      <td>3424</td>\n",
       "      <td>5885</td>\n",
       "      <td>True</td>\n",
       "      <td>-2461</td>\n",
       "      <td>BDP</td>\n",
       "    </tr>\n",
       "    <tr>\n",
       "      <th>Ngami</th>\n",
       "      <td>7063</td>\n",
       "      <td>7817</td>\n",
       "      <td>True</td>\n",
       "      <td>-754</td>\n",
       "      <td>BDP</td>\n",
       "    </tr>\n",
       "    <tr>\n",
       "      <th>Selibe Phikwe East</th>\n",
       "      <td>3376</td>\n",
       "      <td>4931</td>\n",
       "      <td>True</td>\n",
       "      <td>-1555</td>\n",
       "      <td>BDP</td>\n",
       "    </tr>\n",
       "    <tr>\n",
       "      <th>Tati West</th>\n",
       "      <td>4510</td>\n",
       "      <td>5996</td>\n",
       "      <td>True</td>\n",
       "      <td>-1486</td>\n",
       "      <td>BDP</td>\n",
       "    </tr>\n",
       "  </tbody>\n",
       "</table>\n",
       "</div>"
      ],
      "text/plain": [
       "                      bdp_votes  opposition_votes  opposition_win  \\\n",
       "Francistown East           3818              4640            True   \n",
       "Gaborone South             3872              7422            True   \n",
       "Kanye North                5726             10157            True   \n",
       "Lentsweletau-Mmopane       7170              9269            True   \n",
       "Maun East                  6046              7410            True   \n",
       "Nata-Gweta                 3424              5885            True   \n",
       "Ngami                      7063              7817            True   \n",
       "Selibe Phikwe East         3376              4931            True   \n",
       "Tati West                  4510              5996            True   \n",
       "\n",
       "                      votes_difference winning_party  \n",
       "Francistown East                  -822           BDP  \n",
       "Gaborone South                   -3550           BDP  \n",
       "Kanye North                      -4431           BDP  \n",
       "Lentsweletau-Mmopane             -2099           BDP  \n",
       "Maun East                        -1364           BDP  \n",
       "Nata-Gweta                       -2461           BDP  \n",
       "Ngami                             -754           BDP  \n",
       "Selibe Phikwe East               -1555           BDP  \n",
       "Tati West                        -1486           BDP  "
      ]
     },
     "execution_count": 88,
     "metadata": {},
     "output_type": "execute_result"
    }
   ],
   "source": [
    "united_could_win[(united_could_win.winning_party == 'BDP') &\n",
    "                (united_could_win.votes_difference < -500)]"
   ]
  },
  {
   "cell_type": "markdown",
   "metadata": {},
   "source": [
    "**Question 26:** Which constituencies lost by the opposition could have been won by less than 150 votes? These would been closely contested constituencies."
   ]
  },
  {
   "cell_type": "code",
   "execution_count": 89,
   "metadata": {},
   "outputs": [
    {
     "data": {
      "text/html": [
       "<div>\n",
       "<style scoped>\n",
       "    .dataframe tbody tr th:only-of-type {\n",
       "        vertical-align: middle;\n",
       "    }\n",
       "\n",
       "    .dataframe tbody tr th {\n",
       "        vertical-align: top;\n",
       "    }\n",
       "\n",
       "    .dataframe thead th {\n",
       "        text-align: right;\n",
       "    }\n",
       "</style>\n",
       "<table border=\"1\" class=\"dataframe\">\n",
       "  <thead>\n",
       "    <tr style=\"text-align: right;\">\n",
       "      <th></th>\n",
       "      <th>bdp_votes</th>\n",
       "      <th>opposition_votes</th>\n",
       "      <th>opposition_win</th>\n",
       "      <th>votes_difference</th>\n",
       "      <th>winning_party</th>\n",
       "    </tr>\n",
       "  </thead>\n",
       "  <tbody>\n",
       "    <tr>\n",
       "      <th>Bobonong</th>\n",
       "      <td>7350</td>\n",
       "      <td>7392</td>\n",
       "      <td>True</td>\n",
       "      <td>-42</td>\n",
       "      <td>BDP</td>\n",
       "    </tr>\n",
       "    <tr>\n",
       "      <th>Lobatse</th>\n",
       "      <td>5485</td>\n",
       "      <td>5530</td>\n",
       "      <td>True</td>\n",
       "      <td>-45</td>\n",
       "      <td>BDP</td>\n",
       "    </tr>\n",
       "  </tbody>\n",
       "</table>\n",
       "</div>"
      ],
      "text/plain": [
       "          bdp_votes  opposition_votes  opposition_win  votes_difference  \\\n",
       "Bobonong       7350              7392            True               -42   \n",
       "Lobatse        5485              5530            True               -45   \n",
       "\n",
       "         winning_party  \n",
       "Bobonong           BDP  \n",
       "Lobatse            BDP  "
      ]
     },
     "execution_count": 89,
     "metadata": {},
     "output_type": "execute_result"
    }
   ],
   "source": [
    "united_could_win[(united_could_win.winning_party == 'BDP') &\n",
    "                (united_could_win.votes_difference > -100)&\n",
    "                (united_could_win.votes_difference < 0)]"
   ]
  },
  {
   "cell_type": "markdown",
   "metadata": {},
   "source": [
    "**Question 27:** Which constituencies won by the ruling party would have still been lost by less than 100 votes even with combined opposition votes?"
   ]
  },
  {
   "cell_type": "code",
   "execution_count": 90,
   "metadata": {},
   "outputs": [
    {
     "data": {
      "text/html": [
       "<div>\n",
       "<style scoped>\n",
       "    .dataframe tbody tr th:only-of-type {\n",
       "        vertical-align: middle;\n",
       "    }\n",
       "\n",
       "    .dataframe tbody tr th {\n",
       "        vertical-align: top;\n",
       "    }\n",
       "\n",
       "    .dataframe thead th {\n",
       "        text-align: right;\n",
       "    }\n",
       "</style>\n",
       "<table border=\"1\" class=\"dataframe\">\n",
       "  <thead>\n",
       "    <tr style=\"text-align: right;\">\n",
       "      <th></th>\n",
       "      <th>bdp_votes</th>\n",
       "      <th>opposition_votes</th>\n",
       "      <th>opposition_win</th>\n",
       "      <th>votes_difference</th>\n",
       "      <th>winning_party</th>\n",
       "    </tr>\n",
       "  </thead>\n",
       "  <tbody>\n",
       "    <tr>\n",
       "      <th>Kgalagadi North</th>\n",
       "      <td>4648</td>\n",
       "      <td>4587</td>\n",
       "      <td>False</td>\n",
       "      <td>61</td>\n",
       "      <td>BDP</td>\n",
       "    </tr>\n",
       "  </tbody>\n",
       "</table>\n",
       "</div>"
      ],
      "text/plain": [
       "                 bdp_votes  opposition_votes  opposition_win  \\\n",
       "Kgalagadi North       4648              4587           False   \n",
       "\n",
       "                 votes_difference winning_party  \n",
       "Kgalagadi North                61           BDP  "
      ]
     },
     "execution_count": 90,
     "metadata": {},
     "output_type": "execute_result"
    }
   ],
   "source": [
    "united_could_win[(united_could_win.winning_party == 'BDP') &\n",
    "                (united_could_win.votes_difference < 100)&\n",
    "                (united_could_win.votes_difference > 0)]"
   ]
  },
  {
   "cell_type": "code",
   "execution_count": null,
   "metadata": {
    "collapsed": true
   },
   "outputs": [],
   "source": []
  }
 ],
 "metadata": {
  "kernelspec": {
   "display_name": "Python 3",
   "language": "python",
   "name": "python3"
  },
  "language_info": {
   "codemirror_mode": {
    "name": "ipython",
    "version": 3
   },
   "file_extension": ".py",
   "mimetype": "text/x-python",
   "name": "python",
   "nbconvert_exporter": "python",
   "pygments_lexer": "ipython3",
   "version": "3.6.3"
  }
 },
 "nbformat": 4,
 "nbformat_minor": 2
}
