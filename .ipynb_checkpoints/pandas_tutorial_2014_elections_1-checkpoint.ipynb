{
 "cells": [
  {
   "cell_type": "markdown",
   "metadata": {},
   "source": [
    "# Pandas Tutorial I\n",
    "## Botswana 2014 General Election Results \n",
    "\n",
    "##### What is pandas? \n",
    "\"pandas is an open source, BSD-licensed library providing high-performance, \n",
    "easy-to-use data structures and data analysis tools for the Python programming language.\" - https://pandas.pydata.org/pandas-docs/stable/overview.html"
   ]
  },
  {
   "cell_type": "markdown",
   "metadata": {},
   "source": [
    "##### And our tutorial? \n",
    "\n",
    "This is an introductory tutorial. We will be using data from Botswana's 2014 General Elections. The data is available in \n",
    "an excel spreadsheet that we will load into pandas for analysis.\n",
    "\n",
    "Our approach would be very simple. We will introduce pandas features and functions as we work with our dataset. \n",
    "\n",
    "\n",
    "Have fun!"
   ]
  },
  {
   "cell_type": "markdown",
   "metadata": {},
   "source": [
    "## 1. Loading data into pandas\n",
    "\n",
    "Our data is spreadsheet (.xlsx) format. Our approach is to:\n",
    "\n",
    "- Import the pandas library\n",
    "- Read the data into pandas dataframe. "
   ]
  },
  {
   "cell_type": "code",
   "execution_count": null,
   "metadata": {
    "collapsed": true
   },
   "outputs": [],
   "source": [
    "#Import pandas\n",
    "import pandas as pd"
   ]
  },
  {
   "cell_type": "code",
   "execution_count": null,
   "metadata": {},
   "outputs": [],
   "source": [
    "#Check pandas version\n",
    "pd.__version__"
   ]
  },
  {
   "cell_type": "markdown",
   "metadata": {},
   "source": [
    "## Pandas data structures\n",
    "\n",
    "There are two main data structures in pandas.\n",
    "\n",
    "**Series** - a one-dimensional labeled array capable of holding any data type (integers, strings, floating point numbers, Python objects, etc.). \n",
    "\n",
    "\n",
    "**Dataframe** - 2-dimensional labeled data structure with columns of potentially different types. You can think of it like a spreadsheet or SQL table, or a dict of Series objects. One can pass **index**(rows labels) and **columns**(column labels) with the data."
   ]
  },
  {
   "cell_type": "markdown",
   "metadata": {},
   "source": [
    "We want to read tabular data into a dataframe. There are different I/O tools for reading data into dataframes.\n",
    "- read_csv()\n",
    "- read_excel()\n",
    "- read_table() \n",
    "- read_sql()     etc.\n",
    "\n",
    "Reference for I/O tools - https://pandas.pydata.org/pandas-docs/stable/io.html\n",
    "\n",
    "Our data is in .xlsx format so we will use the read_excel() method passing in the filename as the only argument."
   ]
  },
  {
   "cell_type": "code",
   "execution_count": null,
   "metadata": {
    "collapsed": true
   },
   "outputs": [],
   "source": [
    "#Read data into a dataframe.\n",
    "results_df = pd.read_excel('data/gen_elections_2014_master.xlsx')"
   ]
  },
  {
   "cell_type": "markdown",
   "metadata": {},
   "source": [
    "## Explore the data\n",
    "\n",
    "To view a small sample of the results_df dataframe we can use **head()** and **tail()** methods. By default they display five items by a custom number may be passed."
   ]
  },
  {
   "cell_type": "code",
   "execution_count": null,
   "metadata": {},
   "outputs": [],
   "source": [
    "results_df.head(10)"
   ]
  },
  {
   "cell_type": "code",
   "execution_count": null,
   "metadata": {},
   "outputs": [],
   "source": [
    "results_df.tail()"
   ]
  },
  {
   "cell_type": "markdown",
   "metadata": {},
   "source": [
    "Useful dataframes attributes:\n",
    "\n",
    "**dtypes** - gives the dataframe column data types\n",
    "\n",
    "**shape** - shows the dimensions of a dataframe\n",
    "\n",
    "**columns** - gives the column names of a dataframe"
   ]
  },
  {
   "cell_type": "code",
   "execution_count": null,
   "metadata": {},
   "outputs": [],
   "source": [
    "results_df.dtypes"
   ]
  },
  {
   "cell_type": "code",
   "execution_count": null,
   "metadata": {},
   "outputs": [],
   "source": [
    "results_df.shape"
   ]
  },
  {
   "cell_type": "code",
   "execution_count": null,
   "metadata": {},
   "outputs": [],
   "source": [
    "results_df.columns"
   ]
  },
  {
   "cell_type": "markdown",
   "metadata": {},
   "source": [
    "Another useful method is the **info()** for a summary of our dataframe."
   ]
  },
  {
   "cell_type": "code",
   "execution_count": null,
   "metadata": {},
   "outputs": [],
   "source": [
    "results_df.info()"
   ]
  },
  {
   "cell_type": "markdown",
   "metadata": {},
   "source": [
    "### Rename our dataframe columns"
   ]
  },
  {
   "cell_type": "markdown",
   "metadata": {},
   "source": [
    "First create a python list with corresponding the desired column names"
   ]
  },
  {
   "cell_type": "code",
   "execution_count": null,
   "metadata": {
    "collapsed": true
   },
   "outputs": [],
   "source": [
    "#Create a list with desired column names\n",
    "column_names = ['constituency_ref', 'candidate_name', 'party_name', 'registered_voters',\n",
    "                'cast_votes', 'rejected_votes', 'valid_votes', 'party_votes']"
   ]
  },
  {
   "cell_type": "markdown",
   "metadata": {},
   "source": [
    "Assign the new column names to the dataframe columns"
   ]
  },
  {
   "cell_type": "code",
   "execution_count": null,
   "metadata": {},
   "outputs": [],
   "source": [
    "#Rename columns\n",
    "results_df.columns = column_names\n",
    "results_df.columns"
   ]
  },
  {
   "cell_type": "code",
   "execution_count": null,
   "metadata": {
    "collapsed": true
   },
   "outputs": [],
   "source": [
    "#OR\n",
    "#results_df.rename(columns={'CONSTITUENCY':'constituency_ref', \n",
    "#                            'CANDIDATE':'candidate_name', \n",
    "#                            'PARTY':'party_name', \n",
    "#                            'TOTAL REGISTERED':'registered_voters',\n",
    "#                            'CAST VOTES':'cast_votes', \n",
    "#                            'REJECTS':'rejected_votes', \n",
    "#                            'VALID VOTES':'valid_votes', \n",
    "#                            'PARTY VOTES':'party_votes'})"
   ]
  },
  {
   "cell_type": "markdown",
   "metadata": {},
   "source": [
    "### RECAP\n",
    "\n",
    "We have successfully loaded our data into a pandas dataframe. We need to get the data into a form that will simplify analysis. We will create two dataframes.\n",
    "\n",
    "1. **candidate_votes** with columns - 'constituency_ref','candidate_name','party_name','party_votes'\n",
    "2. **constituency_stats** with columns -'constituency_ref','registered_voters','cast_votes','rejected_votes','valid_votes'\n",
    "\n",
    "\n"
   ]
  },
  {
   "cell_type": "markdown",
   "metadata": {},
   "source": [
    "## Creating dataframes from a dataframe"
   ]
  },
  {
   "cell_type": "markdown",
   "metadata": {},
   "source": [
    "### Create candidate_votes dataframe\n",
    "\n",
    "We just need to create a dataframe from subsetting the columns of **results_df**. We will first create a list with the desired columns and then use it for selecting the column subset we want."
   ]
  },
  {
   "cell_type": "code",
   "execution_count": null,
   "metadata": {},
   "outputs": [],
   "source": [
    "desired_columns = ['constituency_ref','candidate_name','party_name','party_votes']\n",
    "candidate_votes = results_df[desired_columns]\n",
    "candidate_votes.head()"
   ]
  },
  {
   "cell_type": "code",
   "execution_count": null,
   "metadata": {},
   "outputs": [],
   "source": [
    "candidate_votes.info()"
   ]
  },
  {
   "cell_type": "markdown",
   "metadata": {},
   "source": [
    "#### CONCERNS\n",
    "\n",
    "1. Missing values in the 'constituency_ref' columns. **How many?** \n",
    "\n",
    "We address the issue later.\n"
   ]
  },
  {
   "cell_type": "markdown",
   "metadata": {},
   "source": [
    "### Create **elections_stats** dataframe\n",
    "\n",
    "We will repeat the same approach for creating the **candidate_votes** dataframe. We will however subset directly using a list of desired column names."
   ]
  },
  {
   "cell_type": "code",
   "execution_count": null,
   "metadata": {},
   "outputs": [],
   "source": [
    "constituency_stats = results_df[['constituency_ref','registered_voters',\n",
    "                                        'cast_votes','rejected_votes','valid_votes']]\n",
    "constituency_stats.head(10)"
   ]
  },
  {
   "cell_type": "code",
   "execution_count": null,
   "metadata": {},
   "outputs": [],
   "source": [
    "constituency_stats.info()"
   ]
  },
  {
   "cell_type": "markdown",
   "metadata": {},
   "source": [
    "#### CONCERNS\n",
    "\n",
    "1. Too many missing values in the all columns? Only 57 non-null entries in all columns.\n",
    "2. All numeric types should be integers."
   ]
  },
  {
   "cell_type": "markdown",
   "metadata": {},
   "source": [
    "## Handling missing values\n",
    "\n",
    "The dataframes we have created have columns with missing values.\n",
    "\n",
    "### Cleaning the candidate_votes dataframe\n",
    "\n",
    "1. Replace missing values with constituency names. Fill-forward\n",
    "2. Create a new column **constituency_name** from 'constituency_ref' values. This would be constituency names ONLY without leading numbers.\n",
    "3. Drop the **constituency_ref** column\n",
    "4. Re-order columns labels"
   ]
  },
  {
   "cell_type": "code",
   "execution_count": null,
   "metadata": {},
   "outputs": [],
   "source": [
    "#Just to recap\n",
    "candidate_votes.head()"
   ]
  },
  {
   "cell_type": "markdown",
   "metadata": {},
   "source": [
    "**Task: ** To replace the missing values in the **constituency_name** column requires understanding two ideas.\n",
    "    - How to select data by column name.\n",
    "    - How to fill in missing values"
   ]
  },
  {
   "cell_type": "markdown",
   "metadata": {},
   "source": [
    "**Select data by column name**"
   ]
  },
  {
   "cell_type": "code",
   "execution_count": null,
   "metadata": {},
   "outputs": [],
   "source": [
    "candidate_votes['constituency_ref'].head(10)"
   ]
  },
  {
   "cell_type": "markdown",
   "metadata": {},
   "source": [
    "To fill in missing values we use the **fillna()** method on the column (actually a series!) of interest."
   ]
  },
  {
   "cell_type": "code",
   "execution_count": null,
   "metadata": {},
   "outputs": [],
   "source": [
    "candidate_votes['constituency_ref'].fillna(method='ffill').head(20)"
   ]
  },
  {
   "cell_type": "code",
   "execution_count": null,
   "metadata": {},
   "outputs": [],
   "source": [
    "candidate_votes.head()"
   ]
  },
  {
   "cell_type": "markdown",
   "metadata": {},
   "source": [
    "**What has happened?** Though our series showed that we have filled the values forward our dataframe values remain unchanged? \n",
    "\n",
    "**Is this a bug?** NO. We need to assign the modified values to the dataframe."
   ]
  },
  {
   "cell_type": "code",
   "execution_count": null,
   "metadata": {},
   "outputs": [],
   "source": [
    "candidate_votes['constituency_ref'] = candidate_votes['constituency_ref'].fillna(method='ffill')\n",
    "candidate_votes.head()"
   ]
  },
  {
   "cell_type": "markdown",
   "metadata": {},
   "source": [
    "Have we changed our original dataframe?"
   ]
  },
  {
   "cell_type": "code",
   "execution_count": null,
   "metadata": {},
   "outputs": [],
   "source": [
    "results_df.head(10)"
   ]
  },
  {
   "cell_type": "markdown",
   "metadata": {},
   "source": [
    "Are all null values filled? Use the **info()** method to confirm."
   ]
  },
  {
   "cell_type": "code",
   "execution_count": null,
   "metadata": {},
   "outputs": [],
   "source": [
    "candidate_votes.info()"
   ]
  },
  {
   "cell_type": "markdown",
   "metadata": {},
   "source": [
    "**Task:** Create a new column constituency_name from 'constituency_ref' values. This would be constituency names ONLY without leading numbers.\n",
    "Drop the constituency_ref column"
   ]
  },
  {
   "cell_type": "markdown",
   "metadata": {},
   "source": [
    "We can apply functions to the columns of a dataframe by using the **apply()** method. We will also introduce a lambda operator for creating anonymous functions in python. What we will do is very simple, we will slice the strings to pick characters we want. Check out string slicing in Python if confused."
   ]
  },
  {
   "cell_type": "code",
   "execution_count": null,
   "metadata": {},
   "outputs": [],
   "source": [
    "#Create 'constituency_name' column without leading numbers\n",
    "candidate_votes['constituency_name'] = candidate_votes['constituency_ref'].apply(lambda x: x[3:])\n",
    "candidate_votes.head()"
   ]
  },
  {
   "cell_type": "code",
   "execution_count": null,
   "metadata": {},
   "outputs": [],
   "source": [
    "candidate_votes.head()"
   ]
  },
  {
   "cell_type": "code",
   "execution_count": null,
   "metadata": {},
   "outputs": [],
   "source": [
    "candidate_votes.tail()"
   ]
  },
  {
   "cell_type": "markdown",
   "metadata": {},
   "source": [
    "**Task:** Drop the constituency_ref column\n",
    "\n",
    "Use the **drop()** method"
   ]
  },
  {
   "cell_type": "code",
   "execution_count": null,
   "metadata": {},
   "outputs": [],
   "source": [
    "candidate_votes.drop('constituency_ref', axis=1)"
   ]
  },
  {
   "cell_type": "code",
   "execution_count": null,
   "metadata": {},
   "outputs": [],
   "source": [
    "candidate_votes.head()"
   ]
  },
  {
   "cell_type": "markdown",
   "metadata": {},
   "source": [
    "**What happened?** We got the view we wanted but we didn't change the dataframe. Set **inplace** = **True** in the **drop()** method. "
   ]
  },
  {
   "cell_type": "code",
   "execution_count": null,
   "metadata": {},
   "outputs": [],
   "source": [
    "candidate_votes.drop('constituency_ref', axis=1, inplace=True)\n",
    "candidate_votes.head()"
   ]
  },
  {
   "cell_type": "code",
   "execution_count": null,
   "metadata": {},
   "outputs": [],
   "source": [
    "candidate_votes.columns"
   ]
  },
  {
   "cell_type": "markdown",
   "metadata": {},
   "source": [
    "**Task:** Re-order columns labels"
   ]
  },
  {
   "cell_type": "code",
   "execution_count": null,
   "metadata": {},
   "outputs": [],
   "source": [
    "candidate_votes = candidate_votes[[ 'constituency_name','candidate_name',\n",
    " 'party_name','party_votes']]\n",
    "candidate_votes.head()"
   ]
  },
  {
   "cell_type": "markdown",
   "metadata": {},
   "source": [
    "### Cleaning the elections_stats dataframe\n",
    "\n",
    "1. Drop all rows with missing values.\n",
    "2. Convert all numerics to integers.\n",
    "3. Drop the leading numbers from the 'constituency_ref' column values\n",
    "4. Rename the 'constituency_ref' column"
   ]
  },
  {
   "cell_type": "code",
   "execution_count": null,
   "metadata": {},
   "outputs": [],
   "source": [
    "constituency_stats.head()"
   ]
  },
  {
   "cell_type": "markdown",
   "metadata": {},
   "source": [
    "**Task:** Drop all rows with missing values."
   ]
  },
  {
   "cell_type": "code",
   "execution_count": null,
   "metadata": {},
   "outputs": [],
   "source": [
    "constituency_stats.dropna(axis=0, how='all', inplace=True)\n",
    "constituency_stats.head()"
   ]
  },
  {
   "cell_type": "code",
   "execution_count": null,
   "metadata": {},
   "outputs": [],
   "source": [
    "constituency_stats.info()"
   ]
  },
  {
   "cell_type": "code",
   "execution_count": null,
   "metadata": {},
   "outputs": [],
   "source": [
    "constituency_stats.columns"
   ]
  },
  {
   "cell_type": "markdown",
   "metadata": {},
   "source": [
    "**Task:** Convert all numerics to integers."
   ]
  },
  {
   "cell_type": "code",
   "execution_count": null,
   "metadata": {},
   "outputs": [],
   "source": [
    "numeric_columns =['registered_voters', 'cast_votes', 'rejected_votes','valid_votes']\n",
    "for col in numeric_columns:\n",
    "    constituency_stats[col] = constituency_stats[col].astype(int)\n",
    "constituency_stats.head()"
   ]
  },
  {
   "cell_type": "markdown",
   "metadata": {},
   "source": [
    "**Task:** Drop the leading numbers from the **constituency_ref** column values"
   ]
  },
  {
   "cell_type": "code",
   "execution_count": null,
   "metadata": {},
   "outputs": [],
   "source": [
    "new_column = constituency_stats['constituency_ref'].apply(lambda x: x[3:])\n",
    "new_column.head()"
   ]
  },
  {
   "cell_type": "code",
   "execution_count": null,
   "metadata": {},
   "outputs": [],
   "source": [
    "constituency_stats = constituency_stats.assign(constituency_ref = new_column)\n",
    "constituency_stats.head()"
   ]
  },
  {
   "cell_type": "markdown",
   "metadata": {},
   "source": [
    "**Task:** Rename **constituency_ref** to **constituency_name** "
   ]
  },
  {
   "cell_type": "code",
   "execution_count": null,
   "metadata": {},
   "outputs": [],
   "source": [
    "constituency_stats.rename(columns={'constituency_ref':'constituency_name'}, inplace=True)\n",
    "constituency_stats.head()"
   ]
  },
  {
   "cell_type": "code",
   "execution_count": null,
   "metadata": {},
   "outputs": [],
   "source": [
    "constituency_stats.columns"
   ]
  },
  {
   "cell_type": "markdown",
   "metadata": {},
   "source": [
    "### RECAP\n",
    "\n",
    "We have created two clean dataframe: **candidates_votes** and **election_stats**\n",
    "\n",
    "We will use these to answer questions of interest about the election results in **Part II** of the tutorial. Our final task is to save the to disk as **csv** files.\n"
   ]
  },
  {
   "cell_type": "markdown",
   "metadata": {},
   "source": [
    "**Task:** Save dataframes to **csv** files on disk.\n",
    "\n",
    "Use **to_csv()** method"
   ]
  },
  {
   "cell_type": "code",
   "execution_count": null,
   "metadata": {
    "collapsed": true
   },
   "outputs": [],
   "source": [
    "candidate_votes.to_csv('data/candidate_votes.csv',index=False)\n",
    "constituency_stats.to_csv('data/constituency_stats.csv',index=False)"
   ]
  },
  {
   "cell_type": "code",
   "execution_count": null,
   "metadata": {},
   "outputs": [],
   "source": [
    "ls"
   ]
  },
  {
   "cell_type": "code",
   "execution_count": null,
   "metadata": {
    "collapsed": true
   },
   "outputs": [],
   "source": []
  }
 ],
 "metadata": {
  "celltoolbar": "Raw Cell Format",
  "kernelspec": {
   "display_name": "Python 3",
   "language": "python",
   "name": "python3"
  },
  "language_info": {
   "codemirror_mode": {
    "name": "ipython",
    "version": 3
   },
   "file_extension": ".py",
   "mimetype": "text/x-python",
   "name": "python",
   "nbconvert_exporter": "python",
   "pygments_lexer": "ipython3",
   "version": "3.6.3"
  }
 },
 "nbformat": 4,
 "nbformat_minor": 2
}
