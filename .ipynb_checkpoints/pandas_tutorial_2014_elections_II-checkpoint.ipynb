{
 "cells": [
  {
   "cell_type": "markdown",
   "metadata": {},
   "source": [
    "# Pandas Tutorial II\n",
    "\n",
    "### Botswana 2014 General Election Results\n",
    "\n",
    "##### What is pandas? \n",
    "\"pandas is an open source, BSD-licensed library providing high-performance, \n",
    "easy-to-use data structures and data analysis tools for the Python programming language.\" - https://pandas.pydata.org/pandas-docs/stable/overview.html\n",
    "\n",
    "##### And our tutorial? \n",
    "\n",
    "This is an introductory tutorial. We will be using data from Botswana's 2014 General Elections. The data is available in \n",
    "an excel spreadsheet that we will load into pandas for analysis.\n",
    "\n",
    "Have fun!"
   ]
  },
  {
   "cell_type": "markdown",
   "metadata": {},
   "source": [
    "### NOTE\n",
    "\n",
    "The objective of this tutorial to learn pandas as we answer questions. We have already seen a few pandas features and methods so far. We will incrementally build on the methods we have seen to answer more complex questions.\n",
    "\n",
    "Additionally, we will manipulate dataframes to be able to answer some questions."
   ]
  },
  {
   "cell_type": "markdown",
   "metadata": {},
   "source": [
    "**Task:** Import the pandas library as pd."
   ]
  },
  {
   "cell_type": "code",
   "execution_count": null,
   "metadata": {
    "collapsed": true
   },
   "outputs": [],
   "source": [
    "#Import pandas\n",
    "import pandas as pd"
   ]
  },
  {
   "cell_type": "markdown",
   "metadata": {},
   "source": [
    "### Creating dataframes from CSV files."
   ]
  },
  {
   "cell_type": "markdown",
   "metadata": {},
   "source": [
    "**Task:** Create a **constituency_stats** dataframe from the **constituency_stats.csv** file "
   ]
  },
  {
   "cell_type": "code",
   "execution_count": null,
   "metadata": {
    "collapsed": true
   },
   "outputs": [],
   "source": [
    "constituency_stats = pd.read_csv('data/constituency_stats.csv')"
   ]
  },
  {
   "cell_type": "code",
   "execution_count": null,
   "metadata": {
    "collapsed": true
   },
   "outputs": [],
   "source": [
    "constituency_stats.head()"
   ]
  },
  {
   "cell_type": "code",
   "execution_count": null,
   "metadata": {
    "collapsed": true
   },
   "outputs": [],
   "source": [
    "constituency_stats.info()"
   ]
  },
  {
   "cell_type": "markdown",
   "metadata": {},
   "source": [
    "**Task:** Create the **candidate_votes** dataframe from the **party_votes.csv** file"
   ]
  },
  {
   "cell_type": "code",
   "execution_count": null,
   "metadata": {
    "collapsed": true
   },
   "outputs": [],
   "source": [
    "candidate_votes = pd.read_csv('data/candidate_votes.csv')"
   ]
  },
  {
   "cell_type": "code",
   "execution_count": null,
   "metadata": {
    "collapsed": true
   },
   "outputs": [],
   "source": [
    "candidate_votes.head()"
   ]
  },
  {
   "cell_type": "code",
   "execution_count": null,
   "metadata": {
    "collapsed": true
   },
   "outputs": [],
   "source": [
    "candidate_votes.info()"
   ]
  },
  {
   "cell_type": "markdown",
   "metadata": {},
   "source": [
    "### Slicing and Subsetting\n",
    "\n",
    "Often we want to work with subsets of a dataframe. We can select these subsets by:\n",
    "\n",
    "- location based indexing\n",
    "- label based indexing\n",
    "- conditional indexing\n",
    "\n",
    "We will use these features to answer many questions in this tutorial."
   ]
  },
  {
   "cell_type": "markdown",
   "metadata": {},
   "source": [
    "**Question 1:** What is the maximum number of 'registered_voters', 'cast_votes', 'rejected_votes', and 'valid_votes' across all constituencies?\n",
    "\n",
    "**Approach:** \n",
    "\n",
    "1. Select the required columns from the dataframe.\n",
    "2. Use the **max()** on appropriate axis direction."
   ]
  },
  {
   "cell_type": "code",
   "execution_count": null,
   "metadata": {
    "collapsed": true
   },
   "outputs": [],
   "source": [
    "#We can get the answers all at once.\n",
    "constituency_stats[['registered_voters', 'cast_votes', 'rejected_votes', 'valid_votes']].max(axis=0)"
   ]
  },
  {
   "cell_type": "markdown",
   "metadata": {},
   "source": [
    "**OR** We can find maximum for each column series"
   ]
  },
  {
   "cell_type": "code",
   "execution_count": null,
   "metadata": {
    "collapsed": true
   },
   "outputs": [],
   "source": [
    "constituency_stats['registered_voters'].max()"
   ]
  },
  {
   "cell_type": "code",
   "execution_count": null,
   "metadata": {
    "collapsed": true
   },
   "outputs": [],
   "source": [
    "constituency_stats['cast_votes'].max()"
   ]
  },
  {
   "cell_type": "markdown",
   "metadata": {},
   "source": [
    "**Question 2:** What are the corresponding constituencies for the maximums above?\n",
    "\n",
    "**Approach:**\n",
    "- Use locational indexing to select rows and columns of interest.\n",
    "- Use **loc()** method and **idxmax()**\n",
    "- Select the 'constituency_name' column **ONLY.**"
   ]
  },
  {
   "cell_type": "code",
   "execution_count": null,
   "metadata": {
    "collapsed": true
   },
   "outputs": [],
   "source": [
    "#Using positional indexing\n",
    "constituency_stats.loc[constituency_stats['registered_voters'].idxmax(), 'constituency_name']"
   ]
  },
  {
   "cell_type": "code",
   "execution_count": null,
   "metadata": {
    "collapsed": true
   },
   "outputs": [],
   "source": [
    "constituency_stats.loc[constituency_stats['cast_votes'].idxmax(), 'constituency_name']"
   ]
  },
  {
   "cell_type": "code",
   "execution_count": null,
   "metadata": {
    "collapsed": true
   },
   "outputs": [],
   "source": [
    "constituency_stats.loc[constituency_stats['rejected_votes'].idxmax(), 'constituency_name']"
   ]
  },
  {
   "cell_type": "code",
   "execution_count": null,
   "metadata": {
    "collapsed": true
   },
   "outputs": [],
   "source": [
    "constituency_stats.loc[constituency_stats['valid_votes'].idxmax(), 'constituency_name']"
   ]
  },
  {
   "cell_type": "markdown",
   "metadata": {},
   "source": [
    "**OR** For an alternative solution we can use conditional indexing i.e selecting rows that match a particular criteria."
   ]
  },
  {
   "cell_type": "code",
   "execution_count": null,
   "metadata": {
    "collapsed": true
   },
   "outputs": [],
   "source": [
    "constituency_stats.rejected_votes == 411"
   ]
  },
  {
   "cell_type": "markdown",
   "metadata": {},
   "source": [
    "The idea with conditional indexing is to return row over which a condition of interest is **True**. This is true at location index 10. We will use this Boolean series to select the row at index 10 ONLY."
   ]
  },
  {
   "cell_type": "code",
   "execution_count": null,
   "metadata": {
    "collapsed": true
   },
   "outputs": [],
   "source": [
    "constituency_stats.loc[constituency_stats.rejected_votes == 411, 'constituency_name']"
   ]
  },
  {
   "cell_type": "code",
   "execution_count": null,
   "metadata": {
    "collapsed": true
   },
   "outputs": [],
   "source": [
    "constituency_stats[constituency_stats.valid_votes == 18499]['constituency_name']"
   ]
  },
  {
   "cell_type": "code",
   "execution_count": null,
   "metadata": {
    "collapsed": true
   },
   "outputs": [],
   "source": [
    "constituency_stats[constituency_stats.registered_voters == 21146]['constituency_name']"
   ]
  },
  {
   "cell_type": "markdown",
   "metadata": {
    "collapsed": true
   },
   "source": [
    "### Applying dataframe methods to dataframe slices and subsets"
   ]
  },
  {
   "cell_type": "markdown",
   "metadata": {
    "collapsed": true
   },
   "source": [
    "**Question 3:** What are the totals for 'registered_voters', 'cast_votes', 'rejected_votes' and 'valid_votes' for all constituencies?"
   ]
  },
  {
   "cell_type": "code",
   "execution_count": null,
   "metadata": {
    "collapsed": true
   },
   "outputs": [],
   "source": [
    "constituency_stats_totals = constituency_stats[['registered_voters',\n",
    "                'cast_votes', 'rejected_votes', 'valid_votes']].sum()\n",
    "constituency_stats_totals"
   ]
  },
  {
   "cell_type": "code",
   "execution_count": null,
   "metadata": {
    "collapsed": true
   },
   "outputs": [],
   "source": [
    "constituency_stats_totals['cast_votes']"
   ]
  },
  {
   "cell_type": "markdown",
   "metadata": {},
   "source": [
    "**Question 4:** Which constituencies have less than 10000 registered voters? Return all columns of the dataframe that meets this condition."
   ]
  },
  {
   "cell_type": "code",
   "execution_count": null,
   "metadata": {
    "collapsed": true
   },
   "outputs": [],
   "source": [
    "constituency_stats[constituency_stats.registered_voters < 10000]"
   ]
  },
  {
   "cell_type": "markdown",
   "metadata": {},
   "source": [
    "**OR**"
   ]
  },
  {
   "cell_type": "code",
   "execution_count": null,
   "metadata": {
    "collapsed": true
   },
   "outputs": [],
   "source": [
    "constituency_stats.loc[constituency_stats.registered_voters < 10000, :]"
   ]
  },
  {
   "cell_type": "markdown",
   "metadata": {},
   "source": [
    "**Question 5:** Which constituencies had more than 200 spoilt votes/rejected votes?"
   ]
  },
  {
   "cell_type": "code",
   "execution_count": null,
   "metadata": {
    "collapsed": true
   },
   "outputs": [],
   "source": [
    "constituency_stats[constituency_stats.rejected_votes > 200]"
   ]
  },
  {
   "cell_type": "markdown",
   "metadata": {},
   "source": [
    "There is a useful dataframe method **describe()** that returns statistics of all numeric columns of a dataframe.\n",
    "\n",
    "**Task: **Apply the **describe()** method on the dataframe. "
   ]
  },
  {
   "cell_type": "code",
   "execution_count": null,
   "metadata": {
    "collapsed": true
   },
   "outputs": [],
   "source": [
    "constituency_stats.describe()"
   ]
  },
  {
   "cell_type": "code",
   "execution_count": null,
   "metadata": {
    "collapsed": true
   },
   "outputs": [],
   "source": [
    "#Setting the index of a dataframe\n",
    "constituency_stats.set_index('constituency_name', inplace=True)"
   ]
  },
  {
   "cell_type": "code",
   "execution_count": null,
   "metadata": {
    "collapsed": true
   },
   "outputs": [],
   "source": [
    "constituency_stats.loc[:, ['registered_voters', 'rejected_votes']].head()"
   ]
  },
  {
   "cell_type": "code",
   "execution_count": null,
   "metadata": {
    "collapsed": true
   },
   "outputs": [],
   "source": [
    "constituency_stats.index"
   ]
  },
  {
   "cell_type": "markdown",
   "metadata": {},
   "source": [
    "**Task:** Create a column named **rejected_pct** computing the rejected_votes as a % of cast_votes."
   ]
  },
  {
   "cell_type": "code",
   "execution_count": null,
   "metadata": {
    "collapsed": true
   },
   "outputs": [],
   "source": [
    "constituency_stats= constituency_stats.assign(rejected_pct = constituency_stats.rejected_votes/\n",
    "                          constituency_stats.cast_votes * 100)\n",
    "constituency_stats.head()"
   ]
  },
  {
   "cell_type": "markdown",
   "metadata": {},
   "source": [
    "**Question 5:** Which constituencies have the lowest percentage of rejected votes? Return 10 entries only.\n",
    "\n",
    "**Approach**\n",
    "\n",
    "- Use the **sort_values()** method to sort the dataframe.\n",
    "- Use the **head()** method to top 10 entries"
   ]
  },
  {
   "cell_type": "code",
   "execution_count": null,
   "metadata": {
    "collapsed": true
   },
   "outputs": [],
   "source": [
    "constituency_stats.sort_values(by='rejected_pct', ascending=True).head(10)"
   ]
  },
  {
   "cell_type": "markdown",
   "metadata": {},
   "source": [
    "**Question 6:** Which constituency has the highest voter turnout?"
   ]
  },
  {
   "cell_type": "code",
   "execution_count": null,
   "metadata": {
    "collapsed": true
   },
   "outputs": [],
   "source": [
    "(constituency_stats.cast_votes/constituency_stats.registered_voters).idxmax()"
   ]
  },
  {
   "cell_type": "markdown",
   "metadata": {},
   "source": [
    "**Question 7:** Which constituency has the lowest voter turnout?"
   ]
  },
  {
   "cell_type": "code",
   "execution_count": null,
   "metadata": {
    "collapsed": true
   },
   "outputs": [],
   "source": [
    "(constituency_stats.cast_votes/constituency_stats.registered_voters).idxmin()"
   ]
  },
  {
   "cell_type": "markdown",
   "metadata": {},
   "source": [
    "**Question 8:** What is the average number of registered voters per constituency?"
   ]
  },
  {
   "cell_type": "code",
   "execution_count": null,
   "metadata": {
    "collapsed": true
   },
   "outputs": [],
   "source": [
    "constituency_stats['registered_voters'].mean()"
   ]
  },
  {
   "cell_type": "markdown",
   "metadata": {},
   "source": [
    "**Task** Create a percentage turnout **turnout_pct** column. % of **cast_votes** over **registered_voters** for each constituency."
   ]
  },
  {
   "cell_type": "code",
   "execution_count": null,
   "metadata": {
    "collapsed": true
   },
   "outputs": [],
   "source": [
    "constituency_stats = constituency_stats.assign(turnout_pct = constituency_stats.cast_votes/\n",
    "                                               constituency_stats.registered_voters * 100)\n",
    "constituency_stats.head()"
   ]
  },
  {
   "cell_type": "markdown",
   "metadata": {},
   "source": [
    "**Question 9:** Which constituencies had the highest voter turnout? Return all coulmns of the top 20 constituencies."
   ]
  },
  {
   "cell_type": "code",
   "execution_count": null,
   "metadata": {
    "collapsed": true
   },
   "outputs": [],
   "source": [
    "constituency_stats.sort_values(by='turnout_pct', ascending=False).head(20)"
   ]
  },
  {
   "cell_type": "markdown",
   "metadata": {},
   "source": [
    "**Question 10:** What was the national voter turnout percentage?"
   ]
  },
  {
   "cell_type": "code",
   "execution_count": null,
   "metadata": {
    "collapsed": true
   },
   "outputs": [],
   "source": [
    "constituency_stats.cast_votes.sum()/constituency_stats.registered_voters.sum() * 100"
   ]
  },
  {
   "cell_type": "code",
   "execution_count": null,
   "metadata": {
    "collapsed": true
   },
   "outputs": [],
   "source": [
    "candidate_votes.head()"
   ]
  },
  {
   "cell_type": "markdown",
   "metadata": {},
   "source": [
    "We will use methods from the numpy library in the next few question.\n",
    "\n",
    "**Task:** Import the **numpy** library as pd"
   ]
  },
  {
   "cell_type": "code",
   "execution_count": null,
   "metadata": {
    "collapsed": true
   },
   "outputs": [],
   "source": [
    "import numpy as np"
   ]
  },
  {
   "cell_type": "markdown",
   "metadata": {},
   "source": [
    "**Question 11:** How many votes did each party receive? Create a dataframe called votes_per_party with the results.\n",
    "\n",
    "**Approach:**\n",
    "\n",
    "- Pivot the dataframe on **party_name**\n",
    "- Sum all votes for the same party.\n",
    "- Use the **pivot_table()** method "
   ]
  },
  {
   "cell_type": "code",
   "execution_count": null,
   "metadata": {
    "collapsed": true
   },
   "outputs": [],
   "source": [
    "votes_per_party = candidate_votes.pivot_table(values='party_votes', index='party_name',aggfunc=np.sum)"
   ]
  },
  {
   "cell_type": "code",
   "execution_count": null,
   "metadata": {
    "collapsed": true
   },
   "outputs": [],
   "source": [
    "votes_per_party.sort_values(by='party_votes', ascending=False, inplace=True)"
   ]
  },
  {
   "cell_type": "code",
   "execution_count": null,
   "metadata": {
    "collapsed": true
   },
   "outputs": [],
   "source": [
    "votes_per_party"
   ]
  },
  {
   "cell_type": "markdown",
   "metadata": {},
   "source": [
    "**Question 12:** What is the total sum of opposition votes - votes for ['UDC', 'BCP', 'IND']?\n"
   ]
  },
  {
   "cell_type": "code",
   "execution_count": null,
   "metadata": {
    "collapsed": true
   },
   "outputs": [],
   "source": [
    "votes_per_party[votes_per_party.index != 'BDP'].sum()"
   ]
  },
  {
   "cell_type": "code",
   "execution_count": null,
   "metadata": {
    "collapsed": true
   },
   "outputs": [],
   "source": [
    "#Set index\n",
    "candidate_votes.set_index('constituency_name', inplace=True)\n",
    "candidate_votes.head()"
   ]
  },
  {
   "cell_type": "code",
   "execution_count": null,
   "metadata": {
    "collapsed": true
   },
   "outputs": [],
   "source": [
    "#Reset index\n",
    "candidate_votes.reset_index(inplace=True)\n",
    "candidate_votes.head()"
   ]
  },
  {
   "cell_type": "markdown",
   "metadata": {},
   "source": [
    "**Question 13:** Which candidates constested elections in Gaborone South?"
   ]
  },
  {
   "cell_type": "code",
   "execution_count": null,
   "metadata": {
    "collapsed": true
   },
   "outputs": [],
   "source": [
    "candidate_votes[candidate_votes.constituency_name == 'Gaborone South']"
   ]
  },
  {
   "cell_type": "markdown",
   "metadata": {},
   "source": [
    "**Question 14:** Which candidates and parties contested elections in Mochudi West constituency?"
   ]
  },
  {
   "cell_type": "code",
   "execution_count": null,
   "metadata": {
    "collapsed": true
   },
   "outputs": [],
   "source": [
    "candidate_votes.loc[candidate_votes.constituency_name == 'Mochudi West', ['candidate_name', 'party_name']]"
   ]
  },
  {
   "cell_type": "markdown",
   "metadata": {},
   "source": [
    "**Question 15:** In how many constituencies was BCP represented?"
   ]
  },
  {
   "cell_type": "code",
   "execution_count": null,
   "metadata": {
    "collapsed": true
   },
   "outputs": [],
   "source": [
    "candidate_votes.loc[candidate_votes.party_name == 'BCP', 'constituency_name'].count()"
   ]
  },
  {
   "cell_type": "markdown",
   "metadata": {},
   "source": [
    "**Question 16:** In how many constituencies was BDP represented?"
   ]
  },
  {
   "cell_type": "code",
   "execution_count": null,
   "metadata": {
    "collapsed": true
   },
   "outputs": [],
   "source": [
    "candidate_votes.loc[candidate_votes.party_name == 'BDP', 'constituency_name'].count()"
   ]
  },
  {
   "cell_type": "markdown",
   "metadata": {},
   "source": [
    "**Question 17:** In how many constituencies was UDC represented?"
   ]
  },
  {
   "cell_type": "code",
   "execution_count": null,
   "metadata": {
    "collapsed": true
   },
   "outputs": [],
   "source": [
    "candidate_votes.loc[candidate_votes.party_name == 'UDC', 'constituency_name'].count()"
   ]
  },
  {
   "cell_type": "markdown",
   "metadata": {},
   "source": [
    "**Question 18:** Which constituencies had no BCP candidate constesting elections?\n",
    "    \n",
    "**Set Approach:**\n",
    "\n",
    "- Create a set of constituencies contested by BCP\n",
    "- Create a set of ALL constituencies\n",
    "- Find a set difference "
   ]
  },
  {
   "cell_type": "code",
   "execution_count": null,
   "metadata": {
    "collapsed": true
   },
   "outputs": [],
   "source": [
    "bcp_contested_consts = set(candidate_votes.loc[candidate_votes.party_name == 'BCP', 'constituency_name'])"
   ]
  },
  {
   "cell_type": "code",
   "execution_count": null,
   "metadata": {
    "collapsed": true
   },
   "outputs": [],
   "source": [
    "all_consts = set(candidate_votes.loc[:,'constituency_name'])"
   ]
  },
  {
   "cell_type": "code",
   "execution_count": null,
   "metadata": {
    "collapsed": true
   },
   "outputs": [],
   "source": [
    "all_consts - bcp_contested_consts"
   ]
  },
  {
   "cell_type": "markdown",
   "metadata": {},
   "source": [
    "**Question 19:** Which constituencies had no UDC candidate constesting elections?\n",
    "\n",
    "**Set Approach**\n",
    "- Same idea as in **Question 18**"
   ]
  },
  {
   "cell_type": "code",
   "execution_count": null,
   "metadata": {
    "collapsed": true
   },
   "outputs": [],
   "source": [
    "udc_contested_consts = set(candidate_votes.loc[candidate_votes.party_name == 'UDC', 'constituency_name'])"
   ]
  },
  {
   "cell_type": "code",
   "execution_count": null,
   "metadata": {
    "collapsed": true
   },
   "outputs": [],
   "source": [
    "all_consts - udc_contested_consts"
   ]
  },
  {
   "cell_type": "markdown",
   "metadata": {},
   "source": [
    "**Question 20:** How many independent candidates contested elections?"
   ]
  },
  {
   "cell_type": "code",
   "execution_count": null,
   "metadata": {
    "collapsed": true
   },
   "outputs": [],
   "source": [
    "candidate_votes.loc[candidate_votes.party_name == 'IND', 'party_name'].count()"
   ]
  },
  {
   "cell_type": "markdown",
   "metadata": {},
   "source": [
    "**Question 21:** Which candidate won elections in each constituency? Create a dataframe of winning candidates."
   ]
  },
  {
   "cell_type": "code",
   "execution_count": null,
   "metadata": {
    "collapsed": true
   },
   "outputs": [],
   "source": [
    "winners = candidate_votes[['constituency_name','candidate_name', 'party_name', \n",
    "                           'party_votes']].groupby('constituency_name').head(1)"
   ]
  },
  {
   "cell_type": "code",
   "execution_count": null,
   "metadata": {
    "collapsed": true
   },
   "outputs": [],
   "source": [
    "winners.head()"
   ]
  },
  {
   "cell_type": "markdown",
   "metadata": {},
   "source": [
    "**Question 22:** How many constituencies did each party win?"
   ]
  },
  {
   "cell_type": "code",
   "execution_count": null,
   "metadata": {
    "collapsed": true
   },
   "outputs": [],
   "source": [
    "#Histogram Approach\n",
    "winners.party_name.value_counts()"
   ]
  },
  {
   "cell_type": "code",
   "execution_count": null,
   "metadata": {
    "collapsed": true
   },
   "outputs": [],
   "source": [
    "#Group-by approach\n",
    "winners[['party_votes', 'party_name']].groupby(by='party_name').count()"
   ]
  },
  {
   "cell_type": "markdown",
   "metadata": {},
   "source": [
    "**BONUS EXERCISE** \n",
    "\n",
    "After the last general elections there were was a media consensus that the opposition could have won elections if \n",
    "they had constested as a united front.\n",
    "\n",
    "**IS THAT A LEGITIMATE CLAIM?**"
   ]
  },
  {
   "cell_type": "code",
   "execution_count": null,
   "metadata": {
    "collapsed": true
   },
   "outputs": [],
   "source": [
    "candidate_votes.head()"
   ]
  },
  {
   "cell_type": "markdown",
   "metadata": {},
   "source": [
    "**Task:** Select all columns and rows where the party name is BDP."
   ]
  },
  {
   "cell_type": "code",
   "execution_count": null,
   "metadata": {
    "collapsed": true
   },
   "outputs": [],
   "source": [
    "bdp_votes = candidate_votes[candidate_votes.party_name == 'BDP']\n",
    "bdp_votes.head()"
   ]
  },
  {
   "cell_type": "markdown",
   "metadata": {},
   "source": [
    "**Task:** Create a dataframe of called **non_bdp_votes** with all columns and rows where the party voted for is not BDP."
   ]
  },
  {
   "cell_type": "code",
   "execution_count": null,
   "metadata": {
    "collapsed": true
   },
   "outputs": [],
   "source": [
    "non_bdp_votes = candidate_votes[candidate_votes.party_name != 'BDP']\n",
    "non_bdp_votes.head()"
   ]
  },
  {
   "cell_type": "code",
   "execution_count": null,
   "metadata": {
    "collapsed": true
   },
   "outputs": [],
   "source": [
    "non_bdp_votes.head(10)"
   ]
  },
  {
   "cell_type": "markdown",
   "metadata": {},
   "source": [
    "**Task:** Pivot the **non_bdp_votes** on **constituency_name** and sum the party_votes. Re-assign this dataframe to **non_bdp_votes**"
   ]
  },
  {
   "cell_type": "code",
   "execution_count": null,
   "metadata": {
    "collapsed": true
   },
   "outputs": [],
   "source": [
    "non_bdp_votes = non_bdp_votes.pivot_table(values='party_votes', index='constituency_name',aggfunc=np.sum)\n",
    "non_bdp_votes.head(10)"
   ]
  },
  {
   "cell_type": "code",
   "execution_count": null,
   "metadata": {
    "collapsed": true
   },
   "outputs": [],
   "source": [
    "non_bdp_votes.reset_index()\n",
    "non_bdp_votes.head(10)"
   ]
  },
  {
   "cell_type": "markdown",
   "metadata": {},
   "source": [
    "**Task:** Rename the **party_votes** column to  **opposition_votes**."
   ]
  },
  {
   "cell_type": "code",
   "execution_count": null,
   "metadata": {
    "collapsed": true
   },
   "outputs": [],
   "source": [
    "non_bdp_votes.rename(columns = {'party_votes':'opposition_votes'}, inplace=True)"
   ]
  },
  {
   "cell_type": "markdown",
   "metadata": {},
   "source": [
    "**Task:** From the **bdp_votes** dataframe select only the **constituency_name** and **party_votes** columns. Assign the resulting dataframe to bdp_votes."
   ]
  },
  {
   "cell_type": "code",
   "execution_count": null,
   "metadata": {
    "collapsed": true
   },
   "outputs": [],
   "source": [
    "bdp_votes = bdp_votes[['constituency_name', 'party_votes']]"
   ]
  },
  {
   "cell_type": "markdown",
   "metadata": {},
   "source": [
    "**Task:** Rename the **party_votes** column of the **bdp_votes** dataframe to **bdp_votes**"
   ]
  },
  {
   "cell_type": "code",
   "execution_count": null,
   "metadata": {
    "collapsed": true
   },
   "outputs": [],
   "source": [
    "bdp_votes.rename(columns={'party_votes':'bdp_votes'}, inplace=True)\n",
    "bdp_votes.head(10)"
   ]
  },
  {
   "cell_type": "code",
   "execution_count": null,
   "metadata": {
    "collapsed": true
   },
   "outputs": [],
   "source": [
    "bdp_votes.set_index('constituency_name', inplace=True)"
   ]
  },
  {
   "cell_type": "code",
   "execution_count": null,
   "metadata": {
    "collapsed": true
   },
   "outputs": [],
   "source": [
    "non_bdp_votes.head(10)"
   ]
  },
  {
   "cell_type": "markdown",
   "metadata": {},
   "source": [
    "We will then proceed to combine the **bdp_votes** and **non_bdp_votes** dataframes. We are now in a good position to support or refut the **BONUS Exercise** claim."
   ]
  },
  {
   "cell_type": "markdown",
   "metadata": {},
   "source": [
    "### Combining & Joining Dataframes\n",
    "\n",
    "- concat() method\n",
    "- merge() method\n"
   ]
  },
  {
   "cell_type": "code",
   "execution_count": null,
   "metadata": {
    "collapsed": true
   },
   "outputs": [],
   "source": [
    "hypothetical_resuls = pd.concat([bdp_votes, non_bdp_votes], axis=1)"
   ]
  },
  {
   "cell_type": "code",
   "execution_count": null,
   "metadata": {
    "collapsed": true
   },
   "outputs": [],
   "source": [
    "hypothetical_resuls.head()"
   ]
  },
  {
   "cell_type": "markdown",
   "metadata": {},
   "source": [
    "**Task:** Create a column **opposition_win** in the **bdp_opposition** dataframe that indicates whether opposition votes are more than bpd votes."
   ]
  },
  {
   "cell_type": "code",
   "execution_count": null,
   "metadata": {
    "collapsed": true
   },
   "outputs": [],
   "source": [
    "hypothetical_resuls['opposition_win'] = (hypothetical_resuls.opposition_votes - hypothetical_resuls.bdp_votes) > 0"
   ]
  },
  {
   "cell_type": "code",
   "execution_count": null,
   "metadata": {
    "collapsed": true
   },
   "outputs": [],
   "source": [
    "hypothetical_resuls.head()"
   ]
  },
  {
   "cell_type": "code",
   "execution_count": null,
   "metadata": {
    "collapsed": true
   },
   "outputs": [],
   "source": [
    "len(hypothetical_resuls[hypothetical_resuls.opposition_win== True])"
   ]
  },
  {
   "cell_type": "code",
   "execution_count": null,
   "metadata": {
    "collapsed": true
   },
   "outputs": [],
   "source": [
    "len(hypothetical_resuls[hypothetical_resuls.opposition_win == False])"
   ]
  },
  {
   "cell_type": "code",
   "execution_count": null,
   "metadata": {
    "collapsed": true
   },
   "outputs": [],
   "source": [
    "hypothetical_resuls[hypothetical_resuls.opposition_win == True]"
   ]
  },
  {
   "cell_type": "markdown",
   "metadata": {},
   "source": [
    "**Task:** Create a column **votes_difference** in the **hypothetical_resuls** dataframe that the difference between **bdp_votes** and **opposition_votes**"
   ]
  },
  {
   "cell_type": "code",
   "execution_count": null,
   "metadata": {
    "collapsed": true
   },
   "outputs": [],
   "source": [
    "hypothetical_resuls['votes_difference'] = (hypothetical_resuls.bdp_votes - hypothetical_resuls.opposition_votes)"
   ]
  },
  {
   "cell_type": "code",
   "execution_count": null,
   "metadata": {
    "collapsed": true
   },
   "outputs": [],
   "source": [
    "hypothetical_resuls.head(10)"
   ]
  },
  {
   "cell_type": "markdown",
   "metadata": {},
   "source": [
    "We have included constituencies that the opposition won in constructing the **hypothetical_resuls** dataframe.\n",
    "Constituencies won by the opposition should be excluded.\n",
    "\n",
    "This will allow us to identify additional constituencies the opposition might have won with combined votes.\n",
    "\n"
   ]
  },
  {
   "cell_type": "markdown",
   "metadata": {},
   "source": [
    "**Task:** Select **constituency_name**, **party_name** columns from the winners dataframe into a\n",
    "dataframe named **winning_party**"
   ]
  },
  {
   "cell_type": "code",
   "execution_count": null,
   "metadata": {
    "collapsed": true
   },
   "outputs": [],
   "source": [
    "winning_party = winners[['constituency_name', 'party_name']]\n",
    "winning_party.head()"
   ]
  },
  {
   "cell_type": "code",
   "execution_count": null,
   "metadata": {
    "collapsed": true
   },
   "outputs": [],
   "source": [
    "winning_party.rename(columns={'party_name':'winning_party'}, inplace=True)"
   ]
  },
  {
   "cell_type": "markdown",
   "metadata": {},
   "source": [
    "**Task:** set the **constituency_name** column as the index"
   ]
  },
  {
   "cell_type": "code",
   "execution_count": null,
   "metadata": {
    "collapsed": true
   },
   "outputs": [],
   "source": [
    "winning_party.set_index('constituency_name', inplace=True)"
   ]
  },
  {
   "cell_type": "markdown",
   "metadata": {},
   "source": [
    "**Task:** Combined the **bdp_opposition** and **winning_party** dataframes"
   ]
  },
  {
   "cell_type": "code",
   "execution_count": null,
   "metadata": {
    "collapsed": true
   },
   "outputs": [],
   "source": [
    "united_could_win = pd.concat([hypothetical_resuls, winning_party], axis=1)"
   ]
  },
  {
   "cell_type": "code",
   "execution_count": null,
   "metadata": {
    "collapsed": true
   },
   "outputs": [],
   "source": [
    "united_could_win.head()"
   ]
  },
  {
   "cell_type": "markdown",
   "metadata": {},
   "source": [
    "**Question 22:** Which constituencies won by the ruling could have been won if opposition was united?"
   ]
  },
  {
   "cell_type": "code",
   "execution_count": null,
   "metadata": {
    "collapsed": true
   },
   "outputs": [],
   "source": [
    "united_could_win[(united_could_win.winning_party == 'BDP') &\n",
    "                (united_could_win.opposition_win == True)]"
   ]
  },
  {
   "cell_type": "markdown",
   "metadata": {},
   "source": [
    "**Question 23:** How many constituencies won by the ruling could have been won if opposition was united?"
   ]
  },
  {
   "cell_type": "code",
   "execution_count": null,
   "metadata": {
    "collapsed": true
   },
   "outputs": [],
   "source": [
    "len(united_could_win[(united_could_win.winning_party == 'BDP') &\n",
    "                (united_could_win.opposition_win == True)])"
   ]
  },
  {
   "cell_type": "code",
   "execution_count": null,
   "metadata": {
    "collapsed": true
   },
   "outputs": [],
   "source": [
    "united_could_win[['bdp_votes','opposition_votes']].sum()"
   ]
  },
  {
   "cell_type": "markdown",
   "metadata": {},
   "source": [
    "**Question 25:** Which contituencies lost by the opposition could have been won by more than 500 votes?"
   ]
  },
  {
   "cell_type": "code",
   "execution_count": null,
   "metadata": {
    "collapsed": true
   },
   "outputs": [],
   "source": [
    "united_could_win[(united_could_win.winning_party == 'BDP') &\n",
    "                (united_could_win.votes_difference < -500)]"
   ]
  },
  {
   "cell_type": "markdown",
   "metadata": {},
   "source": [
    "**Question 26:** Which constituencies lost by the opposition could have been won by less than 150 votes? These would been closely contested constituencies."
   ]
  },
  {
   "cell_type": "code",
   "execution_count": null,
   "metadata": {
    "collapsed": true
   },
   "outputs": [],
   "source": [
    "united_could_win[(united_could_win.winning_party == 'BDP') &\n",
    "                (united_could_win.votes_difference > -100)&\n",
    "                (united_could_win.votes_difference < 0)]"
   ]
  },
  {
   "cell_type": "markdown",
   "metadata": {},
   "source": [
    "**Question 27:** Which constituencies won by the ruling party would have still been lost by less than 100 votes even with combined opposition votes?"
   ]
  },
  {
   "cell_type": "code",
   "execution_count": null,
   "metadata": {
    "collapsed": true
   },
   "outputs": [],
   "source": [
    "united_could_win[(united_could_win.winning_party == 'BDP') &\n",
    "                (united_could_win.votes_difference < 100)&\n",
    "                (united_could_win.votes_difference > 0)]"
   ]
  },
  {
   "cell_type": "code",
   "execution_count": null,
   "metadata": {
    "collapsed": true
   },
   "outputs": [],
   "source": []
  }
 ],
 "metadata": {
  "kernelspec": {
   "display_name": "Python 3",
   "language": "python",
   "name": "python3"
  },
  "language_info": {
   "codemirror_mode": {
    "name": "ipython",
    "version": 3
   },
   "file_extension": ".py",
   "mimetype": "text/x-python",
   "name": "python",
   "nbconvert_exporter": "python",
   "pygments_lexer": "ipython3",
   "version": "3.6.3"
  }
 },
 "nbformat": 4,
 "nbformat_minor": 2
}
